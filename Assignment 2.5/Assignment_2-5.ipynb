{
  "nbformat": 4,
  "nbformat_minor": 0,
  "metadata": {
    "colab": {
      "provenance": [],
      "include_colab_link": true
    },
    "kernelspec": {
      "name": "python3",
      "display_name": "Python 3"
    },
    "language_info": {
      "name": "python"
    },
    "accelerator": "GPU",
    "gpuClass": "standard",
    "widgets": {
      "application/vnd.jupyter.widget-state+json": {
        "a12813ed39b54e119139b9bf45f61cb2": {
          "model_module": "@jupyter-widgets/controls",
          "model_name": "HBoxModel",
          "model_module_version": "1.5.0",
          "state": {
            "_dom_classes": [],
            "_model_module": "@jupyter-widgets/controls",
            "_model_module_version": "1.5.0",
            "_model_name": "HBoxModel",
            "_view_count": null,
            "_view_module": "@jupyter-widgets/controls",
            "_view_module_version": "1.5.0",
            "_view_name": "HBoxView",
            "box_style": "",
            "children": [
              "IPY_MODEL_db676cafe5904bef9a9eb7740e18cfc7",
              "IPY_MODEL_06ca8d5df6334acfb9eb4a95c4b8a633",
              "IPY_MODEL_31d47f935a19469dacc7dfc3ed81a805"
            ],
            "layout": "IPY_MODEL_acc56bf6317d48a39f9c20fc46257957"
          }
        },
        "db676cafe5904bef9a9eb7740e18cfc7": {
          "model_module": "@jupyter-widgets/controls",
          "model_name": "HTMLModel",
          "model_module_version": "1.5.0",
          "state": {
            "_dom_classes": [],
            "_model_module": "@jupyter-widgets/controls",
            "_model_module_version": "1.5.0",
            "_model_name": "HTMLModel",
            "_view_count": null,
            "_view_module": "@jupyter-widgets/controls",
            "_view_module_version": "1.5.0",
            "_view_name": "HTMLView",
            "description": "",
            "description_tooltip": null,
            "layout": "IPY_MODEL_abb90ef53dfa446fb6b568b20e35d7bb",
            "placeholder": "​",
            "style": "IPY_MODEL_1d9f693c150249af9af0b14bf9a66726",
            "value": "100%"
          }
        },
        "06ca8d5df6334acfb9eb4a95c4b8a633": {
          "model_module": "@jupyter-widgets/controls",
          "model_name": "FloatProgressModel",
          "model_module_version": "1.5.0",
          "state": {
            "_dom_classes": [],
            "_model_module": "@jupyter-widgets/controls",
            "_model_module_version": "1.5.0",
            "_model_name": "FloatProgressModel",
            "_view_count": null,
            "_view_module": "@jupyter-widgets/controls",
            "_view_module_version": "1.5.0",
            "_view_name": "ProgressView",
            "bar_style": "success",
            "description": "",
            "description_tooltip": null,
            "layout": "IPY_MODEL_2eeab039b8a44c60a823f63d01c118ea",
            "max": 9912422,
            "min": 0,
            "orientation": "horizontal",
            "style": "IPY_MODEL_3d7bc71424cf406c85a9d827e0702315",
            "value": 9912422
          }
        },
        "31d47f935a19469dacc7dfc3ed81a805": {
          "model_module": "@jupyter-widgets/controls",
          "model_name": "HTMLModel",
          "model_module_version": "1.5.0",
          "state": {
            "_dom_classes": [],
            "_model_module": "@jupyter-widgets/controls",
            "_model_module_version": "1.5.0",
            "_model_name": "HTMLModel",
            "_view_count": null,
            "_view_module": "@jupyter-widgets/controls",
            "_view_module_version": "1.5.0",
            "_view_name": "HTMLView",
            "description": "",
            "description_tooltip": null,
            "layout": "IPY_MODEL_2bf72d4b3f4546a8808e097316ca0c66",
            "placeholder": "​",
            "style": "IPY_MODEL_cbbb5d1e47d84231900b9be203f920d6",
            "value": " 9912422/9912422 [00:00&lt;00:00, 71397879.77it/s]"
          }
        },
        "acc56bf6317d48a39f9c20fc46257957": {
          "model_module": "@jupyter-widgets/base",
          "model_name": "LayoutModel",
          "model_module_version": "1.2.0",
          "state": {
            "_model_module": "@jupyter-widgets/base",
            "_model_module_version": "1.2.0",
            "_model_name": "LayoutModel",
            "_view_count": null,
            "_view_module": "@jupyter-widgets/base",
            "_view_module_version": "1.2.0",
            "_view_name": "LayoutView",
            "align_content": null,
            "align_items": null,
            "align_self": null,
            "border": null,
            "bottom": null,
            "display": null,
            "flex": null,
            "flex_flow": null,
            "grid_area": null,
            "grid_auto_columns": null,
            "grid_auto_flow": null,
            "grid_auto_rows": null,
            "grid_column": null,
            "grid_gap": null,
            "grid_row": null,
            "grid_template_areas": null,
            "grid_template_columns": null,
            "grid_template_rows": null,
            "height": null,
            "justify_content": null,
            "justify_items": null,
            "left": null,
            "margin": null,
            "max_height": null,
            "max_width": null,
            "min_height": null,
            "min_width": null,
            "object_fit": null,
            "object_position": null,
            "order": null,
            "overflow": null,
            "overflow_x": null,
            "overflow_y": null,
            "padding": null,
            "right": null,
            "top": null,
            "visibility": null,
            "width": null
          }
        },
        "abb90ef53dfa446fb6b568b20e35d7bb": {
          "model_module": "@jupyter-widgets/base",
          "model_name": "LayoutModel",
          "model_module_version": "1.2.0",
          "state": {
            "_model_module": "@jupyter-widgets/base",
            "_model_module_version": "1.2.0",
            "_model_name": "LayoutModel",
            "_view_count": null,
            "_view_module": "@jupyter-widgets/base",
            "_view_module_version": "1.2.0",
            "_view_name": "LayoutView",
            "align_content": null,
            "align_items": null,
            "align_self": null,
            "border": null,
            "bottom": null,
            "display": null,
            "flex": null,
            "flex_flow": null,
            "grid_area": null,
            "grid_auto_columns": null,
            "grid_auto_flow": null,
            "grid_auto_rows": null,
            "grid_column": null,
            "grid_gap": null,
            "grid_row": null,
            "grid_template_areas": null,
            "grid_template_columns": null,
            "grid_template_rows": null,
            "height": null,
            "justify_content": null,
            "justify_items": null,
            "left": null,
            "margin": null,
            "max_height": null,
            "max_width": null,
            "min_height": null,
            "min_width": null,
            "object_fit": null,
            "object_position": null,
            "order": null,
            "overflow": null,
            "overflow_x": null,
            "overflow_y": null,
            "padding": null,
            "right": null,
            "top": null,
            "visibility": null,
            "width": null
          }
        },
        "1d9f693c150249af9af0b14bf9a66726": {
          "model_module": "@jupyter-widgets/controls",
          "model_name": "DescriptionStyleModel",
          "model_module_version": "1.5.0",
          "state": {
            "_model_module": "@jupyter-widgets/controls",
            "_model_module_version": "1.5.0",
            "_model_name": "DescriptionStyleModel",
            "_view_count": null,
            "_view_module": "@jupyter-widgets/base",
            "_view_module_version": "1.2.0",
            "_view_name": "StyleView",
            "description_width": ""
          }
        },
        "2eeab039b8a44c60a823f63d01c118ea": {
          "model_module": "@jupyter-widgets/base",
          "model_name": "LayoutModel",
          "model_module_version": "1.2.0",
          "state": {
            "_model_module": "@jupyter-widgets/base",
            "_model_module_version": "1.2.0",
            "_model_name": "LayoutModel",
            "_view_count": null,
            "_view_module": "@jupyter-widgets/base",
            "_view_module_version": "1.2.0",
            "_view_name": "LayoutView",
            "align_content": null,
            "align_items": null,
            "align_self": null,
            "border": null,
            "bottom": null,
            "display": null,
            "flex": null,
            "flex_flow": null,
            "grid_area": null,
            "grid_auto_columns": null,
            "grid_auto_flow": null,
            "grid_auto_rows": null,
            "grid_column": null,
            "grid_gap": null,
            "grid_row": null,
            "grid_template_areas": null,
            "grid_template_columns": null,
            "grid_template_rows": null,
            "height": null,
            "justify_content": null,
            "justify_items": null,
            "left": null,
            "margin": null,
            "max_height": null,
            "max_width": null,
            "min_height": null,
            "min_width": null,
            "object_fit": null,
            "object_position": null,
            "order": null,
            "overflow": null,
            "overflow_x": null,
            "overflow_y": null,
            "padding": null,
            "right": null,
            "top": null,
            "visibility": null,
            "width": null
          }
        },
        "3d7bc71424cf406c85a9d827e0702315": {
          "model_module": "@jupyter-widgets/controls",
          "model_name": "ProgressStyleModel",
          "model_module_version": "1.5.0",
          "state": {
            "_model_module": "@jupyter-widgets/controls",
            "_model_module_version": "1.5.0",
            "_model_name": "ProgressStyleModel",
            "_view_count": null,
            "_view_module": "@jupyter-widgets/base",
            "_view_module_version": "1.2.0",
            "_view_name": "StyleView",
            "bar_color": null,
            "description_width": ""
          }
        },
        "2bf72d4b3f4546a8808e097316ca0c66": {
          "model_module": "@jupyter-widgets/base",
          "model_name": "LayoutModel",
          "model_module_version": "1.2.0",
          "state": {
            "_model_module": "@jupyter-widgets/base",
            "_model_module_version": "1.2.0",
            "_model_name": "LayoutModel",
            "_view_count": null,
            "_view_module": "@jupyter-widgets/base",
            "_view_module_version": "1.2.0",
            "_view_name": "LayoutView",
            "align_content": null,
            "align_items": null,
            "align_self": null,
            "border": null,
            "bottom": null,
            "display": null,
            "flex": null,
            "flex_flow": null,
            "grid_area": null,
            "grid_auto_columns": null,
            "grid_auto_flow": null,
            "grid_auto_rows": null,
            "grid_column": null,
            "grid_gap": null,
            "grid_row": null,
            "grid_template_areas": null,
            "grid_template_columns": null,
            "grid_template_rows": null,
            "height": null,
            "justify_content": null,
            "justify_items": null,
            "left": null,
            "margin": null,
            "max_height": null,
            "max_width": null,
            "min_height": null,
            "min_width": null,
            "object_fit": null,
            "object_position": null,
            "order": null,
            "overflow": null,
            "overflow_x": null,
            "overflow_y": null,
            "padding": null,
            "right": null,
            "top": null,
            "visibility": null,
            "width": null
          }
        },
        "cbbb5d1e47d84231900b9be203f920d6": {
          "model_module": "@jupyter-widgets/controls",
          "model_name": "DescriptionStyleModel",
          "model_module_version": "1.5.0",
          "state": {
            "_model_module": "@jupyter-widgets/controls",
            "_model_module_version": "1.5.0",
            "_model_name": "DescriptionStyleModel",
            "_view_count": null,
            "_view_module": "@jupyter-widgets/base",
            "_view_module_version": "1.2.0",
            "_view_name": "StyleView",
            "description_width": ""
          }
        },
        "4da7ce89a99842b3b996e5256f7213c2": {
          "model_module": "@jupyter-widgets/controls",
          "model_name": "HBoxModel",
          "model_module_version": "1.5.0",
          "state": {
            "_dom_classes": [],
            "_model_module": "@jupyter-widgets/controls",
            "_model_module_version": "1.5.0",
            "_model_name": "HBoxModel",
            "_view_count": null,
            "_view_module": "@jupyter-widgets/controls",
            "_view_module_version": "1.5.0",
            "_view_name": "HBoxView",
            "box_style": "",
            "children": [
              "IPY_MODEL_44c36f37c32943d690e8dc409b237f4c",
              "IPY_MODEL_6eb2b4157d6f4cfe80f9636444966256",
              "IPY_MODEL_e370a7027a22487480284aa5e15bcf9c"
            ],
            "layout": "IPY_MODEL_9f606294c7324ae98f623d01543ba896"
          }
        },
        "44c36f37c32943d690e8dc409b237f4c": {
          "model_module": "@jupyter-widgets/controls",
          "model_name": "HTMLModel",
          "model_module_version": "1.5.0",
          "state": {
            "_dom_classes": [],
            "_model_module": "@jupyter-widgets/controls",
            "_model_module_version": "1.5.0",
            "_model_name": "HTMLModel",
            "_view_count": null,
            "_view_module": "@jupyter-widgets/controls",
            "_view_module_version": "1.5.0",
            "_view_name": "HTMLView",
            "description": "",
            "description_tooltip": null,
            "layout": "IPY_MODEL_e38ac0bf70254f74bf4c3a74bea7de6e",
            "placeholder": "​",
            "style": "IPY_MODEL_26a0996959b140f4a20385fe1cf093ae",
            "value": "100%"
          }
        },
        "6eb2b4157d6f4cfe80f9636444966256": {
          "model_module": "@jupyter-widgets/controls",
          "model_name": "FloatProgressModel",
          "model_module_version": "1.5.0",
          "state": {
            "_dom_classes": [],
            "_model_module": "@jupyter-widgets/controls",
            "_model_module_version": "1.5.0",
            "_model_name": "FloatProgressModel",
            "_view_count": null,
            "_view_module": "@jupyter-widgets/controls",
            "_view_module_version": "1.5.0",
            "_view_name": "ProgressView",
            "bar_style": "success",
            "description": "",
            "description_tooltip": null,
            "layout": "IPY_MODEL_5fa60ec4ecca43589120b14dd68b2ad8",
            "max": 28881,
            "min": 0,
            "orientation": "horizontal",
            "style": "IPY_MODEL_c436c5149fc549ba8454670e2c186db5",
            "value": 28881
          }
        },
        "e370a7027a22487480284aa5e15bcf9c": {
          "model_module": "@jupyter-widgets/controls",
          "model_name": "HTMLModel",
          "model_module_version": "1.5.0",
          "state": {
            "_dom_classes": [],
            "_model_module": "@jupyter-widgets/controls",
            "_model_module_version": "1.5.0",
            "_model_name": "HTMLModel",
            "_view_count": null,
            "_view_module": "@jupyter-widgets/controls",
            "_view_module_version": "1.5.0",
            "_view_name": "HTMLView",
            "description": "",
            "description_tooltip": null,
            "layout": "IPY_MODEL_52d71fda360841efb790cfb00b44b7d4",
            "placeholder": "​",
            "style": "IPY_MODEL_ad6d43abe5c641d0b32691f0c787ddd6",
            "value": " 28881/28881 [00:00&lt;00:00, 1500318.23it/s]"
          }
        },
        "9f606294c7324ae98f623d01543ba896": {
          "model_module": "@jupyter-widgets/base",
          "model_name": "LayoutModel",
          "model_module_version": "1.2.0",
          "state": {
            "_model_module": "@jupyter-widgets/base",
            "_model_module_version": "1.2.0",
            "_model_name": "LayoutModel",
            "_view_count": null,
            "_view_module": "@jupyter-widgets/base",
            "_view_module_version": "1.2.0",
            "_view_name": "LayoutView",
            "align_content": null,
            "align_items": null,
            "align_self": null,
            "border": null,
            "bottom": null,
            "display": null,
            "flex": null,
            "flex_flow": null,
            "grid_area": null,
            "grid_auto_columns": null,
            "grid_auto_flow": null,
            "grid_auto_rows": null,
            "grid_column": null,
            "grid_gap": null,
            "grid_row": null,
            "grid_template_areas": null,
            "grid_template_columns": null,
            "grid_template_rows": null,
            "height": null,
            "justify_content": null,
            "justify_items": null,
            "left": null,
            "margin": null,
            "max_height": null,
            "max_width": null,
            "min_height": null,
            "min_width": null,
            "object_fit": null,
            "object_position": null,
            "order": null,
            "overflow": null,
            "overflow_x": null,
            "overflow_y": null,
            "padding": null,
            "right": null,
            "top": null,
            "visibility": null,
            "width": null
          }
        },
        "e38ac0bf70254f74bf4c3a74bea7de6e": {
          "model_module": "@jupyter-widgets/base",
          "model_name": "LayoutModel",
          "model_module_version": "1.2.0",
          "state": {
            "_model_module": "@jupyter-widgets/base",
            "_model_module_version": "1.2.0",
            "_model_name": "LayoutModel",
            "_view_count": null,
            "_view_module": "@jupyter-widgets/base",
            "_view_module_version": "1.2.0",
            "_view_name": "LayoutView",
            "align_content": null,
            "align_items": null,
            "align_self": null,
            "border": null,
            "bottom": null,
            "display": null,
            "flex": null,
            "flex_flow": null,
            "grid_area": null,
            "grid_auto_columns": null,
            "grid_auto_flow": null,
            "grid_auto_rows": null,
            "grid_column": null,
            "grid_gap": null,
            "grid_row": null,
            "grid_template_areas": null,
            "grid_template_columns": null,
            "grid_template_rows": null,
            "height": null,
            "justify_content": null,
            "justify_items": null,
            "left": null,
            "margin": null,
            "max_height": null,
            "max_width": null,
            "min_height": null,
            "min_width": null,
            "object_fit": null,
            "object_position": null,
            "order": null,
            "overflow": null,
            "overflow_x": null,
            "overflow_y": null,
            "padding": null,
            "right": null,
            "top": null,
            "visibility": null,
            "width": null
          }
        },
        "26a0996959b140f4a20385fe1cf093ae": {
          "model_module": "@jupyter-widgets/controls",
          "model_name": "DescriptionStyleModel",
          "model_module_version": "1.5.0",
          "state": {
            "_model_module": "@jupyter-widgets/controls",
            "_model_module_version": "1.5.0",
            "_model_name": "DescriptionStyleModel",
            "_view_count": null,
            "_view_module": "@jupyter-widgets/base",
            "_view_module_version": "1.2.0",
            "_view_name": "StyleView",
            "description_width": ""
          }
        },
        "5fa60ec4ecca43589120b14dd68b2ad8": {
          "model_module": "@jupyter-widgets/base",
          "model_name": "LayoutModel",
          "model_module_version": "1.2.0",
          "state": {
            "_model_module": "@jupyter-widgets/base",
            "_model_module_version": "1.2.0",
            "_model_name": "LayoutModel",
            "_view_count": null,
            "_view_module": "@jupyter-widgets/base",
            "_view_module_version": "1.2.0",
            "_view_name": "LayoutView",
            "align_content": null,
            "align_items": null,
            "align_self": null,
            "border": null,
            "bottom": null,
            "display": null,
            "flex": null,
            "flex_flow": null,
            "grid_area": null,
            "grid_auto_columns": null,
            "grid_auto_flow": null,
            "grid_auto_rows": null,
            "grid_column": null,
            "grid_gap": null,
            "grid_row": null,
            "grid_template_areas": null,
            "grid_template_columns": null,
            "grid_template_rows": null,
            "height": null,
            "justify_content": null,
            "justify_items": null,
            "left": null,
            "margin": null,
            "max_height": null,
            "max_width": null,
            "min_height": null,
            "min_width": null,
            "object_fit": null,
            "object_position": null,
            "order": null,
            "overflow": null,
            "overflow_x": null,
            "overflow_y": null,
            "padding": null,
            "right": null,
            "top": null,
            "visibility": null,
            "width": null
          }
        },
        "c436c5149fc549ba8454670e2c186db5": {
          "model_module": "@jupyter-widgets/controls",
          "model_name": "ProgressStyleModel",
          "model_module_version": "1.5.0",
          "state": {
            "_model_module": "@jupyter-widgets/controls",
            "_model_module_version": "1.5.0",
            "_model_name": "ProgressStyleModel",
            "_view_count": null,
            "_view_module": "@jupyter-widgets/base",
            "_view_module_version": "1.2.0",
            "_view_name": "StyleView",
            "bar_color": null,
            "description_width": ""
          }
        },
        "52d71fda360841efb790cfb00b44b7d4": {
          "model_module": "@jupyter-widgets/base",
          "model_name": "LayoutModel",
          "model_module_version": "1.2.0",
          "state": {
            "_model_module": "@jupyter-widgets/base",
            "_model_module_version": "1.2.0",
            "_model_name": "LayoutModel",
            "_view_count": null,
            "_view_module": "@jupyter-widgets/base",
            "_view_module_version": "1.2.0",
            "_view_name": "LayoutView",
            "align_content": null,
            "align_items": null,
            "align_self": null,
            "border": null,
            "bottom": null,
            "display": null,
            "flex": null,
            "flex_flow": null,
            "grid_area": null,
            "grid_auto_columns": null,
            "grid_auto_flow": null,
            "grid_auto_rows": null,
            "grid_column": null,
            "grid_gap": null,
            "grid_row": null,
            "grid_template_areas": null,
            "grid_template_columns": null,
            "grid_template_rows": null,
            "height": null,
            "justify_content": null,
            "justify_items": null,
            "left": null,
            "margin": null,
            "max_height": null,
            "max_width": null,
            "min_height": null,
            "min_width": null,
            "object_fit": null,
            "object_position": null,
            "order": null,
            "overflow": null,
            "overflow_x": null,
            "overflow_y": null,
            "padding": null,
            "right": null,
            "top": null,
            "visibility": null,
            "width": null
          }
        },
        "ad6d43abe5c641d0b32691f0c787ddd6": {
          "model_module": "@jupyter-widgets/controls",
          "model_name": "DescriptionStyleModel",
          "model_module_version": "1.5.0",
          "state": {
            "_model_module": "@jupyter-widgets/controls",
            "_model_module_version": "1.5.0",
            "_model_name": "DescriptionStyleModel",
            "_view_count": null,
            "_view_module": "@jupyter-widgets/base",
            "_view_module_version": "1.2.0",
            "_view_name": "StyleView",
            "description_width": ""
          }
        },
        "b1bde95bd110410cb28549ef8173573c": {
          "model_module": "@jupyter-widgets/controls",
          "model_name": "HBoxModel",
          "model_module_version": "1.5.0",
          "state": {
            "_dom_classes": [],
            "_model_module": "@jupyter-widgets/controls",
            "_model_module_version": "1.5.0",
            "_model_name": "HBoxModel",
            "_view_count": null,
            "_view_module": "@jupyter-widgets/controls",
            "_view_module_version": "1.5.0",
            "_view_name": "HBoxView",
            "box_style": "",
            "children": [
              "IPY_MODEL_38a94f0917a648a591a38cdfcfc40dd7",
              "IPY_MODEL_fe098d7b48674e71bf36b3f82b3faf26",
              "IPY_MODEL_dbfbe305712b4959811b7c06311b95da"
            ],
            "layout": "IPY_MODEL_725a0e9fdd554579a10b2ff89cdf29ff"
          }
        },
        "38a94f0917a648a591a38cdfcfc40dd7": {
          "model_module": "@jupyter-widgets/controls",
          "model_name": "HTMLModel",
          "model_module_version": "1.5.0",
          "state": {
            "_dom_classes": [],
            "_model_module": "@jupyter-widgets/controls",
            "_model_module_version": "1.5.0",
            "_model_name": "HTMLModel",
            "_view_count": null,
            "_view_module": "@jupyter-widgets/controls",
            "_view_module_version": "1.5.0",
            "_view_name": "HTMLView",
            "description": "",
            "description_tooltip": null,
            "layout": "IPY_MODEL_3c328c3009814806a6d33dcff5322c80",
            "placeholder": "​",
            "style": "IPY_MODEL_542f4f3f09754f569fde79196f4f7717",
            "value": "100%"
          }
        },
        "fe098d7b48674e71bf36b3f82b3faf26": {
          "model_module": "@jupyter-widgets/controls",
          "model_name": "FloatProgressModel",
          "model_module_version": "1.5.0",
          "state": {
            "_dom_classes": [],
            "_model_module": "@jupyter-widgets/controls",
            "_model_module_version": "1.5.0",
            "_model_name": "FloatProgressModel",
            "_view_count": null,
            "_view_module": "@jupyter-widgets/controls",
            "_view_module_version": "1.5.0",
            "_view_name": "ProgressView",
            "bar_style": "success",
            "description": "",
            "description_tooltip": null,
            "layout": "IPY_MODEL_75c6eef39d49427fba8c92b36de3680f",
            "max": 1648877,
            "min": 0,
            "orientation": "horizontal",
            "style": "IPY_MODEL_d587603e4e6241a89aaca18cd9adcb3d",
            "value": 1648877
          }
        },
        "dbfbe305712b4959811b7c06311b95da": {
          "model_module": "@jupyter-widgets/controls",
          "model_name": "HTMLModel",
          "model_module_version": "1.5.0",
          "state": {
            "_dom_classes": [],
            "_model_module": "@jupyter-widgets/controls",
            "_model_module_version": "1.5.0",
            "_model_name": "HTMLModel",
            "_view_count": null,
            "_view_module": "@jupyter-widgets/controls",
            "_view_module_version": "1.5.0",
            "_view_name": "HTMLView",
            "description": "",
            "description_tooltip": null,
            "layout": "IPY_MODEL_c596bb74026c417a8c7e216e109cf9a3",
            "placeholder": "​",
            "style": "IPY_MODEL_f23626bbefd24108b785eb53ff34b986",
            "value": " 1648877/1648877 [00:00&lt;00:00, 54027868.98it/s]"
          }
        },
        "725a0e9fdd554579a10b2ff89cdf29ff": {
          "model_module": "@jupyter-widgets/base",
          "model_name": "LayoutModel",
          "model_module_version": "1.2.0",
          "state": {
            "_model_module": "@jupyter-widgets/base",
            "_model_module_version": "1.2.0",
            "_model_name": "LayoutModel",
            "_view_count": null,
            "_view_module": "@jupyter-widgets/base",
            "_view_module_version": "1.2.0",
            "_view_name": "LayoutView",
            "align_content": null,
            "align_items": null,
            "align_self": null,
            "border": null,
            "bottom": null,
            "display": null,
            "flex": null,
            "flex_flow": null,
            "grid_area": null,
            "grid_auto_columns": null,
            "grid_auto_flow": null,
            "grid_auto_rows": null,
            "grid_column": null,
            "grid_gap": null,
            "grid_row": null,
            "grid_template_areas": null,
            "grid_template_columns": null,
            "grid_template_rows": null,
            "height": null,
            "justify_content": null,
            "justify_items": null,
            "left": null,
            "margin": null,
            "max_height": null,
            "max_width": null,
            "min_height": null,
            "min_width": null,
            "object_fit": null,
            "object_position": null,
            "order": null,
            "overflow": null,
            "overflow_x": null,
            "overflow_y": null,
            "padding": null,
            "right": null,
            "top": null,
            "visibility": null,
            "width": null
          }
        },
        "3c328c3009814806a6d33dcff5322c80": {
          "model_module": "@jupyter-widgets/base",
          "model_name": "LayoutModel",
          "model_module_version": "1.2.0",
          "state": {
            "_model_module": "@jupyter-widgets/base",
            "_model_module_version": "1.2.0",
            "_model_name": "LayoutModel",
            "_view_count": null,
            "_view_module": "@jupyter-widgets/base",
            "_view_module_version": "1.2.0",
            "_view_name": "LayoutView",
            "align_content": null,
            "align_items": null,
            "align_self": null,
            "border": null,
            "bottom": null,
            "display": null,
            "flex": null,
            "flex_flow": null,
            "grid_area": null,
            "grid_auto_columns": null,
            "grid_auto_flow": null,
            "grid_auto_rows": null,
            "grid_column": null,
            "grid_gap": null,
            "grid_row": null,
            "grid_template_areas": null,
            "grid_template_columns": null,
            "grid_template_rows": null,
            "height": null,
            "justify_content": null,
            "justify_items": null,
            "left": null,
            "margin": null,
            "max_height": null,
            "max_width": null,
            "min_height": null,
            "min_width": null,
            "object_fit": null,
            "object_position": null,
            "order": null,
            "overflow": null,
            "overflow_x": null,
            "overflow_y": null,
            "padding": null,
            "right": null,
            "top": null,
            "visibility": null,
            "width": null
          }
        },
        "542f4f3f09754f569fde79196f4f7717": {
          "model_module": "@jupyter-widgets/controls",
          "model_name": "DescriptionStyleModel",
          "model_module_version": "1.5.0",
          "state": {
            "_model_module": "@jupyter-widgets/controls",
            "_model_module_version": "1.5.0",
            "_model_name": "DescriptionStyleModel",
            "_view_count": null,
            "_view_module": "@jupyter-widgets/base",
            "_view_module_version": "1.2.0",
            "_view_name": "StyleView",
            "description_width": ""
          }
        },
        "75c6eef39d49427fba8c92b36de3680f": {
          "model_module": "@jupyter-widgets/base",
          "model_name": "LayoutModel",
          "model_module_version": "1.2.0",
          "state": {
            "_model_module": "@jupyter-widgets/base",
            "_model_module_version": "1.2.0",
            "_model_name": "LayoutModel",
            "_view_count": null,
            "_view_module": "@jupyter-widgets/base",
            "_view_module_version": "1.2.0",
            "_view_name": "LayoutView",
            "align_content": null,
            "align_items": null,
            "align_self": null,
            "border": null,
            "bottom": null,
            "display": null,
            "flex": null,
            "flex_flow": null,
            "grid_area": null,
            "grid_auto_columns": null,
            "grid_auto_flow": null,
            "grid_auto_rows": null,
            "grid_column": null,
            "grid_gap": null,
            "grid_row": null,
            "grid_template_areas": null,
            "grid_template_columns": null,
            "grid_template_rows": null,
            "height": null,
            "justify_content": null,
            "justify_items": null,
            "left": null,
            "margin": null,
            "max_height": null,
            "max_width": null,
            "min_height": null,
            "min_width": null,
            "object_fit": null,
            "object_position": null,
            "order": null,
            "overflow": null,
            "overflow_x": null,
            "overflow_y": null,
            "padding": null,
            "right": null,
            "top": null,
            "visibility": null,
            "width": null
          }
        },
        "d587603e4e6241a89aaca18cd9adcb3d": {
          "model_module": "@jupyter-widgets/controls",
          "model_name": "ProgressStyleModel",
          "model_module_version": "1.5.0",
          "state": {
            "_model_module": "@jupyter-widgets/controls",
            "_model_module_version": "1.5.0",
            "_model_name": "ProgressStyleModel",
            "_view_count": null,
            "_view_module": "@jupyter-widgets/base",
            "_view_module_version": "1.2.0",
            "_view_name": "StyleView",
            "bar_color": null,
            "description_width": ""
          }
        },
        "c596bb74026c417a8c7e216e109cf9a3": {
          "model_module": "@jupyter-widgets/base",
          "model_name": "LayoutModel",
          "model_module_version": "1.2.0",
          "state": {
            "_model_module": "@jupyter-widgets/base",
            "_model_module_version": "1.2.0",
            "_model_name": "LayoutModel",
            "_view_count": null,
            "_view_module": "@jupyter-widgets/base",
            "_view_module_version": "1.2.0",
            "_view_name": "LayoutView",
            "align_content": null,
            "align_items": null,
            "align_self": null,
            "border": null,
            "bottom": null,
            "display": null,
            "flex": null,
            "flex_flow": null,
            "grid_area": null,
            "grid_auto_columns": null,
            "grid_auto_flow": null,
            "grid_auto_rows": null,
            "grid_column": null,
            "grid_gap": null,
            "grid_row": null,
            "grid_template_areas": null,
            "grid_template_columns": null,
            "grid_template_rows": null,
            "height": null,
            "justify_content": null,
            "justify_items": null,
            "left": null,
            "margin": null,
            "max_height": null,
            "max_width": null,
            "min_height": null,
            "min_width": null,
            "object_fit": null,
            "object_position": null,
            "order": null,
            "overflow": null,
            "overflow_x": null,
            "overflow_y": null,
            "padding": null,
            "right": null,
            "top": null,
            "visibility": null,
            "width": null
          }
        },
        "f23626bbefd24108b785eb53ff34b986": {
          "model_module": "@jupyter-widgets/controls",
          "model_name": "DescriptionStyleModel",
          "model_module_version": "1.5.0",
          "state": {
            "_model_module": "@jupyter-widgets/controls",
            "_model_module_version": "1.5.0",
            "_model_name": "DescriptionStyleModel",
            "_view_count": null,
            "_view_module": "@jupyter-widgets/base",
            "_view_module_version": "1.2.0",
            "_view_name": "StyleView",
            "description_width": ""
          }
        },
        "19ef26f817964d2ead5bca5572494549": {
          "model_module": "@jupyter-widgets/controls",
          "model_name": "HBoxModel",
          "model_module_version": "1.5.0",
          "state": {
            "_dom_classes": [],
            "_model_module": "@jupyter-widgets/controls",
            "_model_module_version": "1.5.0",
            "_model_name": "HBoxModel",
            "_view_count": null,
            "_view_module": "@jupyter-widgets/controls",
            "_view_module_version": "1.5.0",
            "_view_name": "HBoxView",
            "box_style": "",
            "children": [
              "IPY_MODEL_dc55ff9c36f646e39ec9854e11bb4d19",
              "IPY_MODEL_1ce698ce53174f94b6666b3d16d5e859",
              "IPY_MODEL_c3c7424e192b4846acaea31d08cc6268"
            ],
            "layout": "IPY_MODEL_2775876a03cd42c18d7b3baeea55d209"
          }
        },
        "dc55ff9c36f646e39ec9854e11bb4d19": {
          "model_module": "@jupyter-widgets/controls",
          "model_name": "HTMLModel",
          "model_module_version": "1.5.0",
          "state": {
            "_dom_classes": [],
            "_model_module": "@jupyter-widgets/controls",
            "_model_module_version": "1.5.0",
            "_model_name": "HTMLModel",
            "_view_count": null,
            "_view_module": "@jupyter-widgets/controls",
            "_view_module_version": "1.5.0",
            "_view_name": "HTMLView",
            "description": "",
            "description_tooltip": null,
            "layout": "IPY_MODEL_6e312f443d3f4af6b304c9b0b8198841",
            "placeholder": "​",
            "style": "IPY_MODEL_e24c602984594a68b85ab5d841956f10",
            "value": "100%"
          }
        },
        "1ce698ce53174f94b6666b3d16d5e859": {
          "model_module": "@jupyter-widgets/controls",
          "model_name": "FloatProgressModel",
          "model_module_version": "1.5.0",
          "state": {
            "_dom_classes": [],
            "_model_module": "@jupyter-widgets/controls",
            "_model_module_version": "1.5.0",
            "_model_name": "FloatProgressModel",
            "_view_count": null,
            "_view_module": "@jupyter-widgets/controls",
            "_view_module_version": "1.5.0",
            "_view_name": "ProgressView",
            "bar_style": "success",
            "description": "",
            "description_tooltip": null,
            "layout": "IPY_MODEL_8b520cd22d3e458194e127a7c6ffe042",
            "max": 4542,
            "min": 0,
            "orientation": "horizontal",
            "style": "IPY_MODEL_87fea8bdc2974428a3fd9914b26f725f",
            "value": 4542
          }
        },
        "c3c7424e192b4846acaea31d08cc6268": {
          "model_module": "@jupyter-widgets/controls",
          "model_name": "HTMLModel",
          "model_module_version": "1.5.0",
          "state": {
            "_dom_classes": [],
            "_model_module": "@jupyter-widgets/controls",
            "_model_module_version": "1.5.0",
            "_model_name": "HTMLModel",
            "_view_count": null,
            "_view_module": "@jupyter-widgets/controls",
            "_view_module_version": "1.5.0",
            "_view_name": "HTMLView",
            "description": "",
            "description_tooltip": null,
            "layout": "IPY_MODEL_d702babb0409408a903fb778f7296fc7",
            "placeholder": "​",
            "style": "IPY_MODEL_b10d61017dac4fd2897869d907efe448",
            "value": " 4542/4542 [00:00&lt;00:00, 282972.07it/s]"
          }
        },
        "2775876a03cd42c18d7b3baeea55d209": {
          "model_module": "@jupyter-widgets/base",
          "model_name": "LayoutModel",
          "model_module_version": "1.2.0",
          "state": {
            "_model_module": "@jupyter-widgets/base",
            "_model_module_version": "1.2.0",
            "_model_name": "LayoutModel",
            "_view_count": null,
            "_view_module": "@jupyter-widgets/base",
            "_view_module_version": "1.2.0",
            "_view_name": "LayoutView",
            "align_content": null,
            "align_items": null,
            "align_self": null,
            "border": null,
            "bottom": null,
            "display": null,
            "flex": null,
            "flex_flow": null,
            "grid_area": null,
            "grid_auto_columns": null,
            "grid_auto_flow": null,
            "grid_auto_rows": null,
            "grid_column": null,
            "grid_gap": null,
            "grid_row": null,
            "grid_template_areas": null,
            "grid_template_columns": null,
            "grid_template_rows": null,
            "height": null,
            "justify_content": null,
            "justify_items": null,
            "left": null,
            "margin": null,
            "max_height": null,
            "max_width": null,
            "min_height": null,
            "min_width": null,
            "object_fit": null,
            "object_position": null,
            "order": null,
            "overflow": null,
            "overflow_x": null,
            "overflow_y": null,
            "padding": null,
            "right": null,
            "top": null,
            "visibility": null,
            "width": null
          }
        },
        "6e312f443d3f4af6b304c9b0b8198841": {
          "model_module": "@jupyter-widgets/base",
          "model_name": "LayoutModel",
          "model_module_version": "1.2.0",
          "state": {
            "_model_module": "@jupyter-widgets/base",
            "_model_module_version": "1.2.0",
            "_model_name": "LayoutModel",
            "_view_count": null,
            "_view_module": "@jupyter-widgets/base",
            "_view_module_version": "1.2.0",
            "_view_name": "LayoutView",
            "align_content": null,
            "align_items": null,
            "align_self": null,
            "border": null,
            "bottom": null,
            "display": null,
            "flex": null,
            "flex_flow": null,
            "grid_area": null,
            "grid_auto_columns": null,
            "grid_auto_flow": null,
            "grid_auto_rows": null,
            "grid_column": null,
            "grid_gap": null,
            "grid_row": null,
            "grid_template_areas": null,
            "grid_template_columns": null,
            "grid_template_rows": null,
            "height": null,
            "justify_content": null,
            "justify_items": null,
            "left": null,
            "margin": null,
            "max_height": null,
            "max_width": null,
            "min_height": null,
            "min_width": null,
            "object_fit": null,
            "object_position": null,
            "order": null,
            "overflow": null,
            "overflow_x": null,
            "overflow_y": null,
            "padding": null,
            "right": null,
            "top": null,
            "visibility": null,
            "width": null
          }
        },
        "e24c602984594a68b85ab5d841956f10": {
          "model_module": "@jupyter-widgets/controls",
          "model_name": "DescriptionStyleModel",
          "model_module_version": "1.5.0",
          "state": {
            "_model_module": "@jupyter-widgets/controls",
            "_model_module_version": "1.5.0",
            "_model_name": "DescriptionStyleModel",
            "_view_count": null,
            "_view_module": "@jupyter-widgets/base",
            "_view_module_version": "1.2.0",
            "_view_name": "StyleView",
            "description_width": ""
          }
        },
        "8b520cd22d3e458194e127a7c6ffe042": {
          "model_module": "@jupyter-widgets/base",
          "model_name": "LayoutModel",
          "model_module_version": "1.2.0",
          "state": {
            "_model_module": "@jupyter-widgets/base",
            "_model_module_version": "1.2.0",
            "_model_name": "LayoutModel",
            "_view_count": null,
            "_view_module": "@jupyter-widgets/base",
            "_view_module_version": "1.2.0",
            "_view_name": "LayoutView",
            "align_content": null,
            "align_items": null,
            "align_self": null,
            "border": null,
            "bottom": null,
            "display": null,
            "flex": null,
            "flex_flow": null,
            "grid_area": null,
            "grid_auto_columns": null,
            "grid_auto_flow": null,
            "grid_auto_rows": null,
            "grid_column": null,
            "grid_gap": null,
            "grid_row": null,
            "grid_template_areas": null,
            "grid_template_columns": null,
            "grid_template_rows": null,
            "height": null,
            "justify_content": null,
            "justify_items": null,
            "left": null,
            "margin": null,
            "max_height": null,
            "max_width": null,
            "min_height": null,
            "min_width": null,
            "object_fit": null,
            "object_position": null,
            "order": null,
            "overflow": null,
            "overflow_x": null,
            "overflow_y": null,
            "padding": null,
            "right": null,
            "top": null,
            "visibility": null,
            "width": null
          }
        },
        "87fea8bdc2974428a3fd9914b26f725f": {
          "model_module": "@jupyter-widgets/controls",
          "model_name": "ProgressStyleModel",
          "model_module_version": "1.5.0",
          "state": {
            "_model_module": "@jupyter-widgets/controls",
            "_model_module_version": "1.5.0",
            "_model_name": "ProgressStyleModel",
            "_view_count": null,
            "_view_module": "@jupyter-widgets/base",
            "_view_module_version": "1.2.0",
            "_view_name": "StyleView",
            "bar_color": null,
            "description_width": ""
          }
        },
        "d702babb0409408a903fb778f7296fc7": {
          "model_module": "@jupyter-widgets/base",
          "model_name": "LayoutModel",
          "model_module_version": "1.2.0",
          "state": {
            "_model_module": "@jupyter-widgets/base",
            "_model_module_version": "1.2.0",
            "_model_name": "LayoutModel",
            "_view_count": null,
            "_view_module": "@jupyter-widgets/base",
            "_view_module_version": "1.2.0",
            "_view_name": "LayoutView",
            "align_content": null,
            "align_items": null,
            "align_self": null,
            "border": null,
            "bottom": null,
            "display": null,
            "flex": null,
            "flex_flow": null,
            "grid_area": null,
            "grid_auto_columns": null,
            "grid_auto_flow": null,
            "grid_auto_rows": null,
            "grid_column": null,
            "grid_gap": null,
            "grid_row": null,
            "grid_template_areas": null,
            "grid_template_columns": null,
            "grid_template_rows": null,
            "height": null,
            "justify_content": null,
            "justify_items": null,
            "left": null,
            "margin": null,
            "max_height": null,
            "max_width": null,
            "min_height": null,
            "min_width": null,
            "object_fit": null,
            "object_position": null,
            "order": null,
            "overflow": null,
            "overflow_x": null,
            "overflow_y": null,
            "padding": null,
            "right": null,
            "top": null,
            "visibility": null,
            "width": null
          }
        },
        "b10d61017dac4fd2897869d907efe448": {
          "model_module": "@jupyter-widgets/controls",
          "model_name": "DescriptionStyleModel",
          "model_module_version": "1.5.0",
          "state": {
            "_model_module": "@jupyter-widgets/controls",
            "_model_module_version": "1.5.0",
            "_model_name": "DescriptionStyleModel",
            "_view_count": null,
            "_view_module": "@jupyter-widgets/base",
            "_view_module_version": "1.2.0",
            "_view_name": "StyleView",
            "description_width": ""
          }
        }
      }
    }
  },
  "cells": [
    {
      "cell_type": "markdown",
      "metadata": {
        "id": "view-in-github",
        "colab_type": "text"
      },
      "source": [
        "<a href=\"https://colab.research.google.com/github/nitingarg2015/EVA8/blob/master/Assignment%202.5/Assignment_2-5.ipynb\" target=\"_parent\"><img src=\"https://colab.research.google.com/assets/colab-badge.svg\" alt=\"Open In Colab\"/></a>"
      ]
    },
    {
      "cell_type": "code",
      "execution_count": 1,
      "metadata": {
        "id": "f6uddGjLZ4PI"
      },
      "outputs": [],
      "source": [
        "from __future__ import print_function #to bring the print function from Python 3 into Python 2\n",
        "import torch #import torch package\n",
        "import torch.nn as nn #import neural network module from torch - basic building blocks for graphs\n",
        "import torch.nn.functional as F #import functional package from nn as F. this contains various neural network functions\n",
        "import torch.optim as optim #import package implementing various optimization algorithms\n",
        "from torchvision import datasets, transforms #import datasets and common image transformations from torchvision\n",
        "from torch.utils.data import Dataset\n",
        "import numpy as np"
      ]
    },
    {
      "cell_type": "code",
      "source": [
        "#Torch-summary provides information complementary to what is provided by print(your_model) in PyTorch\n",
        "!pip install torchsummary\n",
        "from torchsummary import summary\n",
        "\n",
        "#use_cuda returns True if cuda is available\n",
        "use_cuda = torch.cuda.is_available()\n",
        "\n",
        "#device set to \"cuda\" if available else set to cpu\n",
        "device = torch.device(\"cuda\" if use_cuda else \"cpu\")"
      ],
      "metadata": {
        "colab": {
          "base_uri": "https://localhost:8080/"
        },
        "id": "xRMOR9Uk22K1",
        "outputId": "bdd8508a-9a0e-4834-e265-45b244946f8b"
      },
      "execution_count": 2,
      "outputs": [
        {
          "output_type": "stream",
          "name": "stdout",
          "text": [
            "Looking in indexes: https://pypi.org/simple, https://us-python.pkg.dev/colab-wheels/public/simple/\n",
            "Requirement already satisfied: torchsummary in /usr/local/lib/python3.8/dist-packages (1.5.1)\n"
          ]
        }
      ]
    },
    {
      "cell_type": "code",
      "source": [
        "#seed value to ensure repeatability\n",
        "torch.manual_seed(1)\n",
        "\n",
        "train_set = datasets.MNIST('../data', train=True, download=True,\n",
        "                    transform=transforms.Compose([\n",
        "                        transforms.ToTensor(),\n",
        "                        transforms.Normalize((0.1307,), (0.3081,))\n",
        "                    ]))\n",
        "\n",
        "test_set = datasets.MNIST('../data', train=False, transform=transforms.Compose([\n",
        "                        transforms.ToTensor(),\n",
        "                        transforms.Normalize((0.1307,), (0.3081,))\n",
        "                    ]))\n"
      ],
      "metadata": {
        "id": "7EHhejFV2cgG",
        "outputId": "ff86f559-6522-4a51-c397-945abe550bf8",
        "colab": {
          "base_uri": "https://localhost:8080/",
          "height": 423,
          "referenced_widgets": [
            "a12813ed39b54e119139b9bf45f61cb2",
            "db676cafe5904bef9a9eb7740e18cfc7",
            "06ca8d5df6334acfb9eb4a95c4b8a633",
            "31d47f935a19469dacc7dfc3ed81a805",
            "acc56bf6317d48a39f9c20fc46257957",
            "abb90ef53dfa446fb6b568b20e35d7bb",
            "1d9f693c150249af9af0b14bf9a66726",
            "2eeab039b8a44c60a823f63d01c118ea",
            "3d7bc71424cf406c85a9d827e0702315",
            "2bf72d4b3f4546a8808e097316ca0c66",
            "cbbb5d1e47d84231900b9be203f920d6",
            "4da7ce89a99842b3b996e5256f7213c2",
            "44c36f37c32943d690e8dc409b237f4c",
            "6eb2b4157d6f4cfe80f9636444966256",
            "e370a7027a22487480284aa5e15bcf9c",
            "9f606294c7324ae98f623d01543ba896",
            "e38ac0bf70254f74bf4c3a74bea7de6e",
            "26a0996959b140f4a20385fe1cf093ae",
            "5fa60ec4ecca43589120b14dd68b2ad8",
            "c436c5149fc549ba8454670e2c186db5",
            "52d71fda360841efb790cfb00b44b7d4",
            "ad6d43abe5c641d0b32691f0c787ddd6",
            "b1bde95bd110410cb28549ef8173573c",
            "38a94f0917a648a591a38cdfcfc40dd7",
            "fe098d7b48674e71bf36b3f82b3faf26",
            "dbfbe305712b4959811b7c06311b95da",
            "725a0e9fdd554579a10b2ff89cdf29ff",
            "3c328c3009814806a6d33dcff5322c80",
            "542f4f3f09754f569fde79196f4f7717",
            "75c6eef39d49427fba8c92b36de3680f",
            "d587603e4e6241a89aaca18cd9adcb3d",
            "c596bb74026c417a8c7e216e109cf9a3",
            "f23626bbefd24108b785eb53ff34b986",
            "19ef26f817964d2ead5bca5572494549",
            "dc55ff9c36f646e39ec9854e11bb4d19",
            "1ce698ce53174f94b6666b3d16d5e859",
            "c3c7424e192b4846acaea31d08cc6268",
            "2775876a03cd42c18d7b3baeea55d209",
            "6e312f443d3f4af6b304c9b0b8198841",
            "e24c602984594a68b85ab5d841956f10",
            "8b520cd22d3e458194e127a7c6ffe042",
            "87fea8bdc2974428a3fd9914b26f725f",
            "d702babb0409408a903fb778f7296fc7",
            "b10d61017dac4fd2897869d907efe448"
          ]
        }
      },
      "execution_count": 3,
      "outputs": [
        {
          "output_type": "stream",
          "name": "stdout",
          "text": [
            "Downloading http://yann.lecun.com/exdb/mnist/train-images-idx3-ubyte.gz\n",
            "Downloading http://yann.lecun.com/exdb/mnist/train-images-idx3-ubyte.gz to ../data/MNIST/raw/train-images-idx3-ubyte.gz\n"
          ]
        },
        {
          "output_type": "display_data",
          "data": {
            "text/plain": [
              "  0%|          | 0/9912422 [00:00<?, ?it/s]"
            ],
            "application/vnd.jupyter.widget-view+json": {
              "version_major": 2,
              "version_minor": 0,
              "model_id": "a12813ed39b54e119139b9bf45f61cb2"
            }
          },
          "metadata": {}
        },
        {
          "output_type": "stream",
          "name": "stdout",
          "text": [
            "Extracting ../data/MNIST/raw/train-images-idx3-ubyte.gz to ../data/MNIST/raw\n",
            "\n",
            "Downloading http://yann.lecun.com/exdb/mnist/train-labels-idx1-ubyte.gz\n",
            "Downloading http://yann.lecun.com/exdb/mnist/train-labels-idx1-ubyte.gz to ../data/MNIST/raw/train-labels-idx1-ubyte.gz\n"
          ]
        },
        {
          "output_type": "display_data",
          "data": {
            "text/plain": [
              "  0%|          | 0/28881 [00:00<?, ?it/s]"
            ],
            "application/vnd.jupyter.widget-view+json": {
              "version_major": 2,
              "version_minor": 0,
              "model_id": "4da7ce89a99842b3b996e5256f7213c2"
            }
          },
          "metadata": {}
        },
        {
          "output_type": "stream",
          "name": "stdout",
          "text": [
            "Extracting ../data/MNIST/raw/train-labels-idx1-ubyte.gz to ../data/MNIST/raw\n",
            "\n",
            "Downloading http://yann.lecun.com/exdb/mnist/t10k-images-idx3-ubyte.gz\n",
            "Downloading http://yann.lecun.com/exdb/mnist/t10k-images-idx3-ubyte.gz to ../data/MNIST/raw/t10k-images-idx3-ubyte.gz\n"
          ]
        },
        {
          "output_type": "display_data",
          "data": {
            "text/plain": [
              "  0%|          | 0/1648877 [00:00<?, ?it/s]"
            ],
            "application/vnd.jupyter.widget-view+json": {
              "version_major": 2,
              "version_minor": 0,
              "model_id": "b1bde95bd110410cb28549ef8173573c"
            }
          },
          "metadata": {}
        },
        {
          "output_type": "stream",
          "name": "stdout",
          "text": [
            "Extracting ../data/MNIST/raw/t10k-images-idx3-ubyte.gz to ../data/MNIST/raw\n",
            "\n",
            "Downloading http://yann.lecun.com/exdb/mnist/t10k-labels-idx1-ubyte.gz\n",
            "Downloading http://yann.lecun.com/exdb/mnist/t10k-labels-idx1-ubyte.gz to ../data/MNIST/raw/t10k-labels-idx1-ubyte.gz\n"
          ]
        },
        {
          "output_type": "display_data",
          "data": {
            "text/plain": [
              "  0%|          | 0/4542 [00:00<?, ?it/s]"
            ],
            "application/vnd.jupyter.widget-view+json": {
              "version_major": 2,
              "version_minor": 0,
              "model_id": "19ef26f817964d2ead5bca5572494549"
            }
          },
          "metadata": {}
        },
        {
          "output_type": "stream",
          "name": "stdout",
          "text": [
            "Extracting ../data/MNIST/raw/t10k-labels-idx1-ubyte.gz to ../data/MNIST/raw\n",
            "\n"
          ]
        }
      ]
    },
    {
      "cell_type": "markdown",
      "source": [
        "## Define custom dataset for combined data"
      ],
      "metadata": {
        "id": "RSwcR96RNOay"
      }
    },
    {
      "cell_type": "code",
      "source": [
        "#Define ComboDataset class. This class accepts the MNIST data. It adds a random number to this dataset, and returns four items \n",
        "#as dictionary: 1) image, 2) Random Number, 3) First Label - label1 - actual label for the image, and \n",
        "#4) Second label - labe2 - sum of random number and first label\n",
        "\n",
        "class ComboDataset(Dataset):\n",
        "    \"\"\"Image dataset and random number.\"\"\"\n",
        "\n",
        "    def __init__(self, imageset):\n",
        "        self.imageset = imageset\n",
        "\n",
        "    def __len__(self):\n",
        "        return len(self.imageset)\n",
        "\n",
        "    def __getitem__(self, idx):\n",
        "\n",
        "        rand_x = np.random.randint(0,10)   #generate random number between 0 and 9\n",
        "\n",
        "        return {\n",
        "            \"img\": self.imageset[idx][0],               #image\n",
        "            \"numb\": F.one_hot(torch.tensor(rand_x), num_classes=10),  #one hot encoding to be concatenated later\n",
        "            \"label1\": self.imageset[idx][1],            #training label for image\n",
        "            \"label2\": rand_x + self.imageset[idx][1]    #training label for sum of random number and image number\n",
        "        }\n"
      ],
      "metadata": {
        "id": "GJ7YGI6Q2Tot"
      },
      "execution_count": 4,
      "outputs": []
    },
    {
      "cell_type": "code",
      "source": [
        "train_set_wnumb = ComboDataset(train_set)   #generate training set from ComboDataset dataset\n",
        "test_set_wnumb = ComboDataset(test_set)     #generate test set from ComboDataset dataset"
      ],
      "metadata": {
        "id": "p1mrjPVI2_Lt"
      },
      "execution_count": 5,
      "outputs": []
    },
    {
      "cell_type": "code",
      "source": [
        "##check output of the dataset\n",
        "t1 = train_set_wnumb[1]\n",
        "t1['numb'], t1['label1'], t1['label2']\n",
        "\n",
        "## random number output is 1-D, 10 classes tensor, while labels are integers"
      ],
      "metadata": {
        "id": "ZD0_NlFWNUyF",
        "outputId": "6d973706-5951-463d-884d-9b1f099e3006",
        "colab": {
          "base_uri": "https://localhost:8080/"
        }
      },
      "execution_count": 6,
      "outputs": [
        {
          "output_type": "execute_result",
          "data": {
            "text/plain": [
              "(tensor([0, 0, 0, 0, 1, 0, 0, 0, 0, 0]), 0, 4)"
            ]
          },
          "metadata": {},
          "execution_count": 6
        }
      ]
    },
    {
      "cell_type": "code",
      "source": [
        "#Use DataLoader class to load Combodataset and form train & test dataloaders\n",
        "\n",
        "#define batch size 128\n",
        "batch_size = 128\n",
        "\n",
        "kwargs = {'num_workers': 1, 'pin_memory': True} if use_cuda else {}\n",
        "\n",
        "train_loader = torch.utils.data.DataLoader(\n",
        "    train_set_wnumb,\n",
        "    batch_size=batch_size, shuffle=True, **kwargs)\n",
        "\n",
        "test_loader = torch.utils.data.DataLoader(\n",
        "    test_set_wnumb,\n",
        "    batch_size=batch_size, shuffle=True, **kwargs)"
      ],
      "metadata": {
        "id": "T-gRW5IK2i6g"
      },
      "execution_count": 7,
      "outputs": []
    },
    {
      "cell_type": "markdown",
      "source": [
        "## Visualize dataset"
      ],
      "metadata": {
        "id": "6HrdDes0sGhe"
      }
    },
    {
      "cell_type": "code",
      "source": [
        "batch = next(iter(train_loader))\n",
        "images, labels = batch['img'], batch['label1']\n",
        "\n",
        "images.shape, labels.shape"
      ],
      "metadata": {
        "colab": {
          "base_uri": "https://localhost:8080/"
        },
        "id": "DB8_Ido4JKYN",
        "outputId": "b886aea7-ebdf-4b76-c2cc-5d5c0b8633ba"
      },
      "execution_count": 8,
      "outputs": [
        {
          "output_type": "execute_result",
          "data": {
            "text/plain": [
              "(torch.Size([128, 1, 28, 28]), torch.Size([128]))"
            ]
          },
          "metadata": {},
          "execution_count": 8
        }
      ]
    },
    {
      "cell_type": "code",
      "source": [
        "import torchvision\n",
        "import matplotlib.pyplot as plt\n",
        "\n",
        "grid = torchvision.utils.make_grid(images, nrow=20)\n",
        "plt.figure(figsize=(15,15))\n",
        "plt.imshow(np.transpose(grid, (1,2,0)))\n",
        "print('labels:', labels)"
      ],
      "metadata": {
        "colab": {
          "base_uri": "https://localhost:8080/",
          "height": 468
        },
        "id": "tmjNFS8blWvp",
        "outputId": "2b952353-75c6-4906-a205-25c362550f8f"
      },
      "execution_count": 9,
      "outputs": [
        {
          "output_type": "stream",
          "name": "stderr",
          "text": [
            "WARNING:matplotlib.image:Clipping input data to the valid range for imshow with RGB data ([0..1] for floats or [0..255] for integers).\n"
          ]
        },
        {
          "output_type": "stream",
          "name": "stdout",
          "text": [
            "labels: tensor([4, 8, 8, 6, 7, 1, 0, 7, 1, 8, 7, 6, 4, 9, 1, 5, 3, 2, 6, 8, 8, 6, 9, 4,\n",
            "        6, 0, 4, 2, 6, 7, 0, 5, 8, 6, 0, 3, 5, 7, 4, 7, 5, 1, 6, 7, 3, 6, 0, 3,\n",
            "        1, 1, 2, 6, 7, 9, 8, 0, 7, 2, 4, 3, 6, 5, 9, 5, 2, 3, 5, 3, 5, 8, 9, 2,\n",
            "        7, 1, 2, 4, 0, 2, 0, 6, 7, 2, 9, 5, 7, 1, 2, 2, 3, 3, 8, 8, 1, 0, 5, 7,\n",
            "        5, 9, 6, 7, 2, 5, 9, 7, 5, 7, 1, 7, 8, 7, 8, 8, 8, 2, 1, 4, 1, 1, 3, 2,\n",
            "        9, 5, 1, 9, 0, 3, 0, 3])\n"
          ]
        },
        {
          "output_type": "display_data",
          "data": {
            "text/plain": [
              "<Figure size 1080x1080 with 1 Axes>"
            ],
            "image/png": "[encoded data removed]"
          },
          "metadata": {
            "needs_background": "light"
          }
        }
      ]
    },
    {
      "cell_type": "code",
      "source": [
        "random_numbers, sum_labels = batch['numb'], batch['label2']\n",
        "\n",
        "print(random_numbers.shape, sum_labels.shape)\n",
        "print(labels)\n",
        "print(random_numbers)\n",
        "print(sum_labels)"
      ],
      "metadata": {
        "colab": {
          "base_uri": "https://localhost:8080/"
        },
        "id": "EyYXPiXDlWyl",
        "outputId": "a42a82c5-03e0-4067-b4e5-2af112126fd6"
      },
      "execution_count": 10,
      "outputs": [
        {
          "output_type": "stream",
          "name": "stdout",
          "text": [
            "torch.Size([128, 10]) torch.Size([128])\n",
            "tensor([4, 8, 8, 6, 7, 1, 0, 7, 1, 8, 7, 6, 4, 9, 1, 5, 3, 2, 6, 8, 8, 6, 9, 4,\n",
            "        6, 0, 4, 2, 6, 7, 0, 5, 8, 6, 0, 3, 5, 7, 4, 7, 5, 1, 6, 7, 3, 6, 0, 3,\n",
            "        1, 1, 2, 6, 7, 9, 8, 0, 7, 2, 4, 3, 6, 5, 9, 5, 2, 3, 5, 3, 5, 8, 9, 2,\n",
            "        7, 1, 2, 4, 0, 2, 0, 6, 7, 2, 9, 5, 7, 1, 2, 2, 3, 3, 8, 8, 1, 0, 5, 7,\n",
            "        5, 9, 6, 7, 2, 5, 9, 7, 5, 7, 1, 7, 8, 7, 8, 8, 8, 2, 1, 4, 1, 1, 3, 2,\n",
            "        9, 5, 1, 9, 0, 3, 0, 3])\n",
            "tensor([[0, 1, 0,  ..., 0, 0, 0],\n",
            "        [0, 0, 0,  ..., 0, 0, 1],\n",
            "        [0, 0, 0,  ..., 0, 0, 0],\n",
            "        ...,\n",
            "        [0, 0, 0,  ..., 0, 1, 0],\n",
            "        [1, 0, 0,  ..., 0, 0, 0],\n",
            "        [0, 0, 0,  ..., 0, 0, 0]])\n",
            "tensor([ 5, 17, 13,  6, 15,  7,  5,  9,  4,  8, 16, 15,  5,  9,  9, 10, 11,  8,\n",
            "        14, 13, 13, 11, 10, 12, 15,  3, 13,  9,  9, 11,  6, 14, 12,  9,  3,  4,\n",
            "        10,  9,  9,  8,  6,  8, 10, 10,  9,  8,  4,  8,  2,  3,  5, 11, 11, 18,\n",
            "        17,  7, 14,  5,  7,  5, 11,  7, 10, 13,  6,  9,  6,  3,  9, 12, 18,  6,\n",
            "        13,  8,  7, 11,  1, 11,  8, 12, 13,  6, 12, 11, 13,  6,  2,  7,  4,  9,\n",
            "         8, 11,  1,  5,  7, 11,  6, 16, 13,  8,  4, 13, 12,  8,  7, 14,  3,  7,\n",
            "        12, 15, 12, 11, 16,  3,  6, 12, 10,  1,  5, 11, 10, 12,  9, 12,  1, 11,\n",
            "         0,  8])\n"
          ]
        }
      ]
    },
    {
      "cell_type": "code",
      "source": [
        "#frequency counts of each of images in training set\n",
        "train_set.targets.bincount()"
      ],
      "metadata": {
        "colab": {
          "base_uri": "https://localhost:8080/"
        },
        "id": "4tAmQ1n-njml",
        "outputId": "2febae03-8571-46c9-8d78-749622007dd1"
      },
      "execution_count": 11,
      "outputs": [
        {
          "output_type": "execute_result",
          "data": {
            "text/plain": [
              "tensor([5923, 6742, 5958, 6131, 5842, 5421, 5918, 6265, 5851, 5949])"
            ]
          },
          "metadata": {},
          "execution_count": 11
        }
      ]
    },
    {
      "cell_type": "code",
      "source": [
        "#frequency counts of each of images in test set\n",
        "test_set.targets.bincount()"
      ],
      "metadata": {
        "colab": {
          "base_uri": "https://localhost:8080/"
        },
        "id": "uQ6n4Wttq_Mi",
        "outputId": "285c185a-6b30-4587-97ee-5e697eaab688"
      },
      "execution_count": 12,
      "outputs": [
        {
          "output_type": "execute_result",
          "data": {
            "text/plain": [
              "tensor([ 980, 1135, 1032, 1010,  982,  892,  958, 1028,  974, 1009])"
            ]
          },
          "metadata": {},
          "execution_count": 12
        }
      ]
    },
    {
      "cell_type": "markdown",
      "source": [
        "## Create Net class for defining the neural network"
      ],
      "metadata": {
        "id": "fHVp7e34rGI1"
      }
    },
    {
      "cell_type": "code",
      "source": [
        "class Net(nn.Module):\n",
        "    def __init__(self):\n",
        "\n",
        "        #inherit all properties of nn.Module by defining super\n",
        "        super(Net, self).__init__()\n",
        "\n",
        "        # First 2D convolutional layer, taking in 1 input channel (image),\n",
        "        # outputting 32 convolutional features, with a square kernel size of 3 and padding of 1\n",
        "        self.conv1 = nn.Conv2d(1, 32, 3, padding=1) #input: (-1,1,28,28) - Output: (-1,32,28,28) RF: (3,3)\n",
        "        \n",
        "        # Second 2D convolutional layer, taking in 32 input channels,\n",
        "        # outputting 64 convolutional features, with a square kernel size of 3 and padding of 1\n",
        "        self.conv2 = nn.Conv2d(32, 64, 3, padding=1) #input: (-1,32,28,28), Output: (-1,64,28,28), RF: (5,5)\n",
        "\n",
        "        self.pool1 = nn.MaxPool2d(2, 2) #input: (-1,64,28,28), Output: (-1,64,14,14), RF: (10,10)\n",
        "\n",
        "        #Output channels: 128, kernel size: 3\n",
        "        self.conv3 = nn.Conv2d(64, 128, 3, padding=1) #input: (-1,64,14,14), Output: (-1,128,14,14), RF: (12,12)\n",
        "\n",
        "        #Output channels: 256, kernel size: 3\n",
        "        self.conv4 = nn.Conv2d(128, 256, 3, padding=1) #input: (-1,128,14,14), Output: (-1,256,14,14), RF: (14,14)\n",
        "\n",
        "        self.pool2 = nn.MaxPool2d(2, 2) #input: (-1,256,14,14), Output: (-1,256,7,7), RF: (28, 28)\n",
        "\n",
        "        #Output channels: 512, kernel size: 3\n",
        "        self.conv5 = nn.Conv2d(256, 512, 3) #input: (-1,256,7,7), Output: (-1,512,5,5), RF: (30, 30)\n",
        "\n",
        "        #Output channels: 10, kernel size: 3\n",
        "        self.conv6 = nn.Conv2d(512, 10, 3) #input: (-1,512,5,5), Output: (-1,10,3,3), RF: (32, 32)\n",
        "\n",
        "        self.fc1 = nn.Linear(in_features=10*3*3, out_features=10)\n",
        "\n",
        "        self.fc2 = nn.Linear(in_features = 20, out_features = 32)\n",
        "\n",
        "        self.fc3 = nn.Linear(in_features = 32, out_features = 19)\n",
        "        \n",
        "    #define the forward function, that will pass the data into the our neural network. This will represent our feed-forward algorithm.\n",
        "    def forward(self, imgdata, numbdata):\n",
        "        #Pass data through self.conv1, use relu activation function, then pass it through self.conv2 and then apply relu activation function again on it\n",
        "        #apply pooling layer self.pool1 on this output\n",
        "        \n",
        "        x = imgdata\n",
        "\n",
        "        x = self.pool1(F.relu(self.conv2(F.relu(self.conv1(x)))))\n",
        "        \n",
        "        #Pass data through self.conv3, use relu activation function, then pass it through self.conv4 and then apply relu activation function again on it\n",
        "        #apply pooling layer self.pool2 on this output\n",
        "        x = self.pool2(F.relu(self.conv4(F.relu(self.conv3(x)))))\n",
        "\n",
        "        #Pass data through self.conv5, use relu activation function, then pass it through self.conv6 and then apply relu activation function again on it\n",
        "        x = F.relu(self.conv6(F.relu(self.conv5(x))))\n",
        "\n",
        "        #convert to 1D tensor                  \n",
        "        x = x.view(-1, 10*3*3)\n",
        "        \n",
        "        #Pass data through self.fc1 and apply relu activation function - output for predicting images\n",
        "        x = F.relu(self.fc1(x))\n",
        "\n",
        "        #concatenate with output of previous step, and apply relu activation to the overall\n",
        "        x1 = torch.concat([F.softmax(x, dim = -1),numbdata], dim = -1)\n",
        "        \n",
        "        #Pass data through self.fc1 and apply relu activation function - output for predicting the sum\n",
        "        x1 = self.fc3(self.fc2(x1))\n",
        "        \n",
        "        return F.log_softmax(x, dim = -1), F.log_softmax(x1, dim = -1)\n",
        "        #return x, numbdata"
      ],
      "metadata": {
        "id": "9HQB6zeMZ8OW"
      },
      "execution_count": 13,
      "outputs": []
    },
    {
      "cell_type": "markdown",
      "source": [
        "## Test Feed forward network to check if desired output is obtained"
      ],
      "metadata": {
        "id": "Q9NB3rRJxorH"
      }
    },
    {
      "cell_type": "code",
      "source": [
        "#initialize Net class\n",
        "model = Net().to(device)\n",
        "\n",
        "#generate sample data\n",
        "batch = next(iter(train_loader))\n",
        "total_loss = 0\n",
        "\n",
        "img_data = batch['img'].to(device)\n",
        "img_label = batch['label1'].to(device)\n",
        "numb_data = batch['numb'].to(device)\n",
        "sum_label = batch['label2'].to(device)\n",
        "\n",
        "output = model(img_data, numb_data)\n",
        "\n",
        "output[0].shape, output[1].shape"
      ],
      "metadata": {
        "colab": {
          "base_uri": "https://localhost:8080/"
        },
        "id": "WNrAr2qAxn92",
        "outputId": "9fff723c-59f7-4776-b76e-37fefb88294f"
      },
      "execution_count": 14,
      "outputs": [
        {
          "output_type": "execute_result",
          "data": {
            "text/plain": [
              "(torch.Size([128, 10]), torch.Size([128, 19]))"
            ]
          },
          "metadata": {},
          "execution_count": 14
        }
      ]
    },
    {
      "cell_type": "code",
      "source": [
        "#Evaluate and print loss\n",
        "loss1 = F.nll_loss(output[0], img_label)\n",
        "loss2 = F.nll_loss(output[1], sum_label)\n",
        "\n",
        "total_loss = loss1+loss2\n",
        "\n",
        "print(loss1, loss2, total_loss)"
      ],
      "metadata": {
        "colab": {
          "base_uri": "https://localhost:8080/"
        },
        "id": "3VgXUPp5yaI8",
        "outputId": "547839b2-6315-4cf8-94b1-cd971f065d5a"
      },
      "execution_count": 15,
      "outputs": [
        {
          "output_type": "stream",
          "name": "stdout",
          "text": [
            "tensor(2.2992, device='cuda:0', grad_fn=<NllLossBackward0>) tensor(2.9604, device='cuda:0', grad_fn=<NllLossBackward0>) tensor(5.2595, device='cuda:0', grad_fn=<AddBackward0>)\n"
          ]
        }
      ]
    },
    {
      "cell_type": "code",
      "source": [
        "#Run one iteration of forward and backward pass\n",
        "#set optimizer as SGD optimizer with learning rate of 0.01 and momentum of 0.9\n",
        "optimizer = optim.SGD(model.parameters(), lr=0.01, momentum=0.9)\n",
        "\n",
        "optimizer.zero_grad()\n",
        "output = model(img_data, numb_data)\n",
        "\n",
        "loss1 = F.nll_loss(output[0], img_label)\n",
        "loss2 = F.nll_loss(output[1], sum_label)\n",
        "\n",
        "total_loss = loss1+loss2\n",
        "print(loss1, loss2, total_loss)\n",
        "\n",
        "total_loss.backward()\n",
        "\n",
        "#update the weights\n",
        "optimizer.step()\n",
        "\n",
        "optimizer.zero_grad()\n",
        "output = model(img_data, numb_data)\n",
        "\n",
        "loss1 = F.nll_loss(output[0], img_label)\n",
        "loss2 = F.nll_loss(output[1], sum_label)\n",
        "print(loss1, loss2, total_loss)\n"
      ],
      "metadata": {
        "colab": {
          "base_uri": "https://localhost:8080/"
        },
        "id": "07AvCx3ZxoBI",
        "outputId": "d2d41d56-f30f-487e-82a8-2dd8892b3205"
      },
      "execution_count": 16,
      "outputs": [
        {
          "output_type": "stream",
          "name": "stdout",
          "text": [
            "tensor(2.2992, device='cuda:0', grad_fn=<NllLossBackward0>) tensor(2.9604, device='cuda:0', grad_fn=<NllLossBackward0>) tensor(5.2595, device='cuda:0', grad_fn=<AddBackward0>)\n",
            "tensor(2.2989, device='cuda:0', grad_fn=<NllLossBackward0>) tensor(2.9597, device='cuda:0', grad_fn=<NllLossBackward0>) tensor(5.2595, device='cuda:0', grad_fn=<AddBackward0>)\n"
          ]
        }
      ]
    },
    {
      "cell_type": "markdown",
      "source": [
        "## Define functions for training and test results"
      ],
      "metadata": {
        "id": "SawFJQGsrxcp"
      }
    },
    {
      "cell_type": "code",
      "source": [
        "#import tqdm package to display progress bars\n",
        "from tqdm import tqdm\n",
        "\n",
        "#function to train, input parameters: model, device, train dataset, optimizer function and number of epochs\n",
        "def train(model, device, train_loader, optimizer, epoch):\n",
        "    \n",
        "    #sets the model in training mode\n",
        "    model.train()\n",
        "    \n",
        "    #create an iterator\n",
        "    pbar = tqdm(train_loader)\n",
        "\n",
        "    # enumerate adds counter to pbar which is captured under batch_idx, iterating through it we also get data set in the batch, \n",
        "    # and the target value of each data point in that batch\n",
        "    for batch_idx, data in enumerate(pbar):\n",
        "        img_data = data['img'].to(device)\n",
        "        img_label = data['label1'].to(device)\n",
        "        numb_data = data['numb'].to(device)\n",
        "        sum_label = data['label2'].to(device)\n",
        "\n",
        "    #initialize the optimizer, set the gradients to zero\n",
        "        optimizer.zero_grad()\n",
        "\n",
        "        # perform a forward pass and calculate the training loss\n",
        "        output = model(img_data, numb_data)\n",
        "        loss1 = F.nll_loss(output[0], img_label)*1.2\n",
        "        loss2 = F.nll_loss(output[1], sum_label)\n",
        "        total_loss = loss1+loss2\n",
        "\n",
        "        # perform a forward pass and calculate the training loss\n",
        "        total_loss.backward()\n",
        "        \n",
        "        #update the weights\n",
        "        optimizer.step()\n",
        "        pbar.set_description(desc= f'loss1={loss1.item()} loss2={loss2.item()} batch_id={batch_idx}')\n",
        "\n",
        "def test(model, device, test_loader):\n",
        "    #set the model in evaluation mode\n",
        "    model.eval()\n",
        "    #initialize variables\n",
        "    test_loss = 0\n",
        "    img_correct = 0\n",
        "    sum_correct = 0\n",
        "\n",
        "    with torch.no_grad():\n",
        "        for data in test_loader:\n",
        "            img_data = data['img'].to(device)\n",
        "            img_label = data['label1'].to(device)\n",
        "            numb_data = data['numb'].to(device)\n",
        "            sum_label = data['label2'].to(device)\n",
        "            \n",
        "            # perform a forward pass and calculate the test loss\n",
        "            output = model(img_data, numb_data)\n",
        "\n",
        "            loss1 = F.nll_loss(output[0], img_label)\n",
        "            loss2 = F.nll_loss(output[1], sum_label)\n",
        "            int_loss = loss1+loss2\n",
        "            test_loss += int_loss.item()  # sum up batch loss\n",
        "            \n",
        "            pred1 = output[0].argmax(dim=1, keepdim=True).squeeze()\n",
        "            img_correct += pred1.eq(img_label.view_as(pred1)).sum().item()\n",
        "\n",
        "            pred2 = output[1].argmax(dim=1, keepdim=True).squeeze()\n",
        "            sum_correct += pred2.eq(sum_label.view_as(pred2)).sum().item()\n",
        "\n",
        "    print('\\nTest set: Average loss: {:.4f}, Accuracy: {}/{} ({:.0f}%)\\n'.format(\n",
        "        test_loss, img_correct, len(test_loader.dataset),\n",
        "        100. * img_correct / len(test_loader.dataset)))\n",
        "\n",
        "    print('\\nTest set: Average loss: {:.4f}, Accuracy: {}/{} ({:.0f}%)\\n'.format(\n",
        "        test_loss, sum_correct, len(test_loader.dataset),\n",
        "        100. * sum_correct / len(test_loader.dataset)))"
      ],
      "metadata": {
        "id": "Yh2Bx0bwQxK-"
      },
      "execution_count": 23,
      "outputs": []
    },
    {
      "cell_type": "markdown",
      "source": [
        "## Initialize the custom class and train the model"
      ],
      "metadata": {
        "id": "7fX4bP1Zr3oh"
      }
    },
    {
      "cell_type": "code",
      "source": [
        "#initialize Net class\n",
        "model = Net().to(device)\n",
        "\n",
        "#set optimizer as SGD optimizer with learning rate of 0.01 and momentum of 0.9\n",
        "optimizer = optim.SGD(model.parameters(), lr=0.01, momentum=0.9)\n",
        "\n",
        "#train the model for defined epochs and calculate test loss for each iteration\n",
        "for epoch in range(1, 10):\n",
        "    train(model, device, train_loader, optimizer, epoch)"
      ],
      "metadata": {
        "colab": {
          "base_uri": "https://localhost:8080/"
        },
        "id": "wWZdvD66RY9I",
        "outputId": "958593bc-0451-406d-b375-5862550ca379"
      },
      "execution_count": 24,
      "outputs": [
        {
          "output_type": "stream",
          "name": "stderr",
          "text": [
            "loss1=0.3969745337963104 loss2=2.2540283203125 batch_id=468: 100%|██████████| 469/469 [00:43<00:00, 10.85it/s]\n",
            "loss1=0.3554614782333374 loss2=1.7770007848739624 batch_id=468: 100%|██████████| 469/469 [00:43<00:00, 10.73it/s]\n",
            "loss1=0.2733469605445862 loss2=1.5332813262939453 batch_id=468: 100%|██████████| 469/469 [00:43<00:00, 10.77it/s]\n",
            "loss1=0.4271211624145508 loss2=1.3183006048202515 batch_id=468: 100%|██████████| 469/469 [00:43<00:00, 10.70it/s]\n",
            "loss1=0.06270455569028854 loss2=1.094084620475769 batch_id=468: 100%|██████████| 469/469 [00:43<00:00, 10.67it/s]\n",
            "loss1=0.05009601637721062 loss2=0.9944959282875061 batch_id=468: 100%|██████████| 469/469 [00:43<00:00, 10.72it/s]\n",
            "loss1=0.009853420779109001 loss2=0.8902330994606018 batch_id=468: 100%|██████████| 469/469 [00:43<00:00, 10.71it/s]\n",
            "loss1=0.00157591188326478 loss2=0.8045685887336731 batch_id=468: 100%|██████████| 469/469 [00:43<00:00, 10.70it/s]\n",
            "loss1=0.026304995641112328 loss2=0.7271203398704529 batch_id=468: 100%|██████████| 469/469 [00:43<00:00, 10.71it/s]\n"
          ]
        }
      ]
    },
    {
      "cell_type": "markdown",
      "source": [
        "## Run test data to get the test output"
      ],
      "metadata": {
        "id": "uh8Aivptr8ux"
      }
    },
    {
      "cell_type": "code",
      "source": [
        "test(model, device, test_loader)"
      ],
      "metadata": {
        "colab": {
          "base_uri": "https://localhost:8080/"
        },
        "id": "YjZHZ9ITaQaG",
        "outputId": "ccc8fa3e-938c-4cb8-9bb1-538ba9c9d01e"
      },
      "execution_count": 25,
      "outputs": [
        {
          "output_type": "stream",
          "name": "stdout",
          "text": [
            "\n",
            "Test set: Average loss: 63.9103, Accuracy: 9919/10000 (99%)\n",
            "\n",
            "\n",
            "Test set: Average loss: 63.9103, Accuracy: 9392/10000 (94%)\n",
            "\n"
          ]
        }
      ]
    }
  ]
}