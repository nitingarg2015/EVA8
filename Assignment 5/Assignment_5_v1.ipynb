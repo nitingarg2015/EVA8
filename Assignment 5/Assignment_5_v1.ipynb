{
  "nbformat": 4,
  "nbformat_minor": 0,
  "metadata": {
    "colab": {
      "provenance": [],
      "authorship_tag": "ABX9TyP/e2G79C7NbYirQnd9y9WJ",
      "include_colab_link": true
    },
    "kernelspec": {
      "name": "python3",
      "display_name": "Python 3"
    },
    "language_info": {
      "name": "python"
    },
    "accelerator": "GPU",
    "gpuClass": "standard"
  },
  "cells": [
    {
      "cell_type": "markdown",
      "metadata": {
        "id": "view-in-github",
        "colab_type": "text"
      },
      "source": [
        "<a href=\"https://colab.research.google.com/github/nitingarg2015/EVA8/blob/master/Assignment%205/Assignment_5_v1.ipynb\" target=\"_parent\"><img src=\"https://colab.research.google.com/assets/colab-badge.svg\" alt=\"Open In Colab\"/></a>"
      ]
    },
    {
      "cell_type": "code",
      "execution_count": 73,
      "metadata": {
        "id": "3UPMCW-KEVwY",
        "colab": {
          "base_uri": "https://localhost:8080/"
        },
        "outputId": "7fe94773-d786-4799-a31c-041ae8af624e"
      },
      "outputs": [
        {
          "output_type": "stream",
          "name": "stdout",
          "text": [
            "Looking in indexes: https://pypi.org/simple, https://us-python.pkg.dev/colab-wheels/public/simple/\n",
            "Requirement already satisfied: torchsummary in /usr/local/lib/python3.8/dist-packages (1.5.1)\n"
          ]
        }
      ],
      "source": [
        "from __future__ import print_function\n",
        "import torch\n",
        "import torch.nn as nn\n",
        "import torch.nn.functional as F\n",
        "import torch.optim as optim\n",
        "from torchvision import datasets, transforms\n",
        "\n",
        "!pip install torchsummary\n",
        "from torchsummary import summary\n",
        "use_cuda = torch.cuda.is_available()\n",
        "device = torch.device(\"cuda\" if use_cuda else \"cpu\")"
      ]
    },
    {
      "cell_type": "markdown",
      "source": [
        "## Load model.py and import Net class, generaty summary using torchsummary"
      ],
      "metadata": {
        "id": "KS6ewbWyCVSG"
      }
    },
    {
      "cell_type": "code",
      "source": [
        "#import model.py - contains model class which accepts type normalization method as input parameter\n",
        "\n",
        "from model import Net\n",
        "\n",
        "#instantiate Net class and check model summary\n",
        "\n",
        "batch_model = Net('batch').to(device)\n",
        "layer_model = Net('layer').to(device)\n",
        "group_model = Net('group', num_groups = 2).to(device)\n",
        "\n",
        "summary(batch_model, input_size=(1, 28, 28))\n",
        "summary(layer_model, input_size=(1, 28, 28))\n",
        "summary(group_model, input_size=(1, 28, 28))"
      ],
      "metadata": {
        "colab": {
          "base_uri": "https://localhost:8080/"
        },
        "id": "ELi_ZgYF1z-8",
        "outputId": "1497e82e-7a07-422f-d42c-77be8150d99e"
      },
      "execution_count": 92,
      "outputs": [
        {
          "output_type": "stream",
          "name": "stdout",
          "text": [
            "----------------------------------------------------------------\n",
            "        Layer (type)               Output Shape         Param #\n",
            "================================================================\n",
            "            Conv2d-1            [-1, 8, 28, 28]              80\n",
            "       BatchNorm2d-2            [-1, 8, 28, 28]              16\n",
            "           Dropout-3            [-1, 8, 28, 28]               0\n",
            "            Conv2d-4           [-1, 16, 28, 28]           1,168\n",
            "       BatchNorm2d-5           [-1, 16, 28, 28]              32\n",
            "           Dropout-6           [-1, 16, 28, 28]               0\n",
            "            Conv2d-7           [-1, 20, 28, 28]           2,900\n",
            "       BatchNorm2d-8           [-1, 20, 28, 28]              40\n",
            "           Dropout-9           [-1, 20, 28, 28]               0\n",
            "           Conv2d-10            [-1, 8, 28, 28]             168\n",
            "        MaxPool2d-11            [-1, 8, 14, 14]               0\n",
            "          Dropout-12            [-1, 8, 14, 14]               0\n",
            "           Conv2d-13            [-1, 8, 14, 14]             584\n",
            "      BatchNorm2d-14            [-1, 8, 14, 14]              16\n",
            "          Dropout-15            [-1, 8, 14, 14]               0\n",
            "           Conv2d-16           [-1, 16, 14, 14]           1,168\n",
            "      BatchNorm2d-17           [-1, 16, 14, 14]              32\n",
            "          Dropout-18           [-1, 16, 14, 14]               0\n",
            "           Conv2d-19            [-1, 8, 14, 14]             136\n",
            "        MaxPool2d-20              [-1, 8, 7, 7]               0\n",
            "           Conv2d-21              [-1, 8, 7, 7]             584\n",
            "      BatchNorm2d-22              [-1, 8, 7, 7]              16\n",
            "          Dropout-23              [-1, 8, 7, 7]               0\n",
            "           Conv2d-24             [-1, 16, 7, 7]           1,168\n",
            "      BatchNorm2d-25             [-1, 16, 7, 7]              32\n",
            "          Dropout-26             [-1, 16, 7, 7]               0\n",
            "        AvgPool2d-27             [-1, 16, 3, 3]               0\n",
            "           Conv2d-28             [-1, 10, 1, 1]           1,450\n",
            "================================================================\n",
            "Total params: 9,590\n",
            "Trainable params: 9,590\n",
            "Non-trainable params: 0\n",
            "----------------------------------------------------------------\n",
            "Input size (MB): 0.00\n",
            "Forward/backward pass size (MB): 1.01\n",
            "Params size (MB): 0.04\n",
            "Estimated Total Size (MB): 1.05\n",
            "----------------------------------------------------------------\n",
            "----------------------------------------------------------------\n",
            "        Layer (type)               Output Shape         Param #\n",
            "================================================================\n",
            "            Conv2d-1            [-1, 8, 28, 28]              80\n",
            "         LayerNorm-2            [-1, 8, 28, 28]          12,544\n",
            "           Dropout-3            [-1, 8, 28, 28]               0\n",
            "            Conv2d-4           [-1, 16, 28, 28]           1,168\n",
            "         LayerNorm-5           [-1, 16, 28, 28]          25,088\n",
            "           Dropout-6           [-1, 16, 28, 28]               0\n",
            "            Conv2d-7           [-1, 20, 28, 28]           2,900\n",
            "         LayerNorm-8           [-1, 20, 28, 28]          31,360\n",
            "           Dropout-9           [-1, 20, 28, 28]               0\n",
            "           Conv2d-10            [-1, 8, 28, 28]             168\n",
            "        MaxPool2d-11            [-1, 8, 14, 14]               0\n",
            "          Dropout-12            [-1, 8, 14, 14]               0\n",
            "           Conv2d-13            [-1, 8, 14, 14]             584\n",
            "        LayerNorm-14            [-1, 8, 14, 14]           3,136\n",
            "          Dropout-15            [-1, 8, 14, 14]               0\n",
            "           Conv2d-16           [-1, 16, 14, 14]           1,168\n",
            "        LayerNorm-17           [-1, 16, 14, 14]           6,272\n",
            "          Dropout-18           [-1, 16, 14, 14]               0\n",
            "           Conv2d-19            [-1, 8, 14, 14]             136\n",
            "        MaxPool2d-20              [-1, 8, 7, 7]               0\n",
            "           Conv2d-21              [-1, 8, 7, 7]             584\n",
            "        LayerNorm-22              [-1, 8, 7, 7]             784\n",
            "          Dropout-23              [-1, 8, 7, 7]               0\n",
            "           Conv2d-24             [-1, 16, 7, 7]           1,168\n",
            "        LayerNorm-25             [-1, 16, 7, 7]           1,568\n",
            "          Dropout-26             [-1, 16, 7, 7]               0\n",
            "        AvgPool2d-27             [-1, 16, 3, 3]               0\n",
            "           Conv2d-28             [-1, 10, 1, 1]           1,450\n",
            "================================================================\n",
            "Total params: 90,158\n",
            "Trainable params: 90,158\n",
            "Non-trainable params: 0\n",
            "----------------------------------------------------------------\n",
            "Input size (MB): 0.00\n",
            "Forward/backward pass size (MB): 1.01\n",
            "Params size (MB): 0.34\n",
            "Estimated Total Size (MB): 1.36\n",
            "----------------------------------------------------------------\n",
            "----------------------------------------------------------------\n",
            "        Layer (type)               Output Shape         Param #\n",
            "================================================================\n",
            "            Conv2d-1            [-1, 8, 28, 28]              80\n",
            "         GroupNorm-2            [-1, 8, 28, 28]              16\n",
            "           Dropout-3            [-1, 8, 28, 28]               0\n",
            "            Conv2d-4           [-1, 16, 28, 28]           1,168\n",
            "         GroupNorm-5           [-1, 16, 28, 28]              32\n",
            "           Dropout-6           [-1, 16, 28, 28]               0\n",
            "            Conv2d-7           [-1, 20, 28, 28]           2,900\n",
            "         GroupNorm-8           [-1, 20, 28, 28]              40\n",
            "           Dropout-9           [-1, 20, 28, 28]               0\n",
            "           Conv2d-10            [-1, 8, 28, 28]             168\n",
            "        MaxPool2d-11            [-1, 8, 14, 14]               0\n",
            "          Dropout-12            [-1, 8, 14, 14]               0\n",
            "           Conv2d-13            [-1, 8, 14, 14]             584\n",
            "        GroupNorm-14            [-1, 8, 14, 14]              16\n",
            "          Dropout-15            [-1, 8, 14, 14]               0\n",
            "           Conv2d-16           [-1, 16, 14, 14]           1,168\n",
            "        GroupNorm-17           [-1, 16, 14, 14]              32\n",
            "          Dropout-18           [-1, 16, 14, 14]               0\n",
            "           Conv2d-19            [-1, 8, 14, 14]             136\n",
            "        MaxPool2d-20              [-1, 8, 7, 7]               0\n",
            "           Conv2d-21              [-1, 8, 7, 7]             584\n",
            "        GroupNorm-22              [-1, 8, 7, 7]              16\n",
            "          Dropout-23              [-1, 8, 7, 7]               0\n",
            "           Conv2d-24             [-1, 16, 7, 7]           1,168\n",
            "        GroupNorm-25             [-1, 16, 7, 7]              32\n",
            "          Dropout-26             [-1, 16, 7, 7]               0\n",
            "        AvgPool2d-27             [-1, 16, 3, 3]               0\n",
            "           Conv2d-28             [-1, 10, 1, 1]           1,450\n",
            "================================================================\n",
            "Total params: 9,590\n",
            "Trainable params: 9,590\n",
            "Non-trainable params: 0\n",
            "----------------------------------------------------------------\n",
            "Input size (MB): 0.00\n",
            "Forward/backward pass size (MB): 1.01\n",
            "Params size (MB): 0.04\n",
            "Estimated Total Size (MB): 1.05\n",
            "----------------------------------------------------------------\n"
          ]
        }
      ]
    },
    {
      "cell_type": "markdown",
      "source": [
        "## Use dataloader to create training and test datasets, define batch size"
      ],
      "metadata": {
        "id": "8OwDrSXdCTtr"
      }
    },
    {
      "cell_type": "code",
      "source": [
        "# use dataloader to create training and test datasets with define batch size\n",
        "\n",
        "torch.manual_seed(1)\n",
        "batch_size = 128\n",
        "\n",
        "kwargs = {'num_workers': 1, 'pin_memory': True} if use_cuda else {}\n",
        "train_loader = torch.utils.data.DataLoader(\n",
        "    datasets.MNIST('../data', train=True, download=True,\n",
        "                    transform=transforms.Compose([\n",
        "                        transforms.RandomRotation((-5,5)),\n",
        "                        transforms.ToTensor(),\n",
        "                        transforms.Normalize((0.1307,), (0.3081,))\n",
        "                    ])),\n",
        "    batch_size=batch_size, shuffle=True, **kwargs)\n",
        "test_loader = torch.utils.data.DataLoader(\n",
        "    datasets.MNIST('../data', train=False, transform=transforms.Compose([\n",
        "                        transforms.ToTensor(),\n",
        "                        transforms.Normalize((0.1307,), (0.3081,))\n",
        "                    ])),\n",
        "    batch_size=batch_size, shuffle=True, **kwargs)\n"
      ],
      "metadata": {
        "id": "zEGv6M3tSaEZ"
      },
      "execution_count": 75,
      "outputs": []
    },
    {
      "cell_type": "markdown",
      "source": [
        "## Define functions for training the model for a given epoch and generating test outputs "
      ],
      "metadata": {
        "id": "H75uOGedCrhc"
      }
    },
    {
      "cell_type": "code",
      "source": [
        "from tqdm import tqdm\n",
        "\n",
        "''' \n",
        "train function taken inputs as pre defined model, device, train_loader (dataloader), pre defined optimizer,\n",
        "and optional lambda_l1 for L1 regularization.\n",
        "It returns the following: training loss, training accuracy for that epoch\n",
        "'''\n",
        "def train(model, device, train_loader, optimizer, lambda_l1=0):\n",
        "  model.train()\n",
        "  pbar = tqdm(train_loader)\n",
        "  correct = 0\n",
        "  processed = 0\n",
        "  for batch_idx, (data, target) in enumerate(pbar):\n",
        "      # get samples\n",
        "      data, target = data.to(device), target.to(device)\n",
        "\n",
        "      # Init\n",
        "      optimizer.zero_grad()\n",
        "      # In PyTorch, we need to set the gradients to zero before starting to do backpropragation because PyTorch accumulates the gradients on subsequent backward passes. \n",
        "      # Because of this, when you start your training loop, ideally you should zero out the gradients so that you do the parameter update correctly.\n",
        "\n",
        "      # Predict\n",
        "      y_pred = model(data)\n",
        "\n",
        "      # Calculate loss\n",
        "      loss = F.nll_loss(y_pred, target)\n",
        "\n",
        "      #Add L1 Regularization if lambda_l1 > 0\n",
        "      l1 = 0\n",
        "      if lambda_l1 > 0:       \n",
        "          for p in model.parameters():\n",
        "            l1 = l1 + p.abs().sum()\n",
        "      \n",
        "      #update loss with L1 regularization\n",
        "      loss = loss + lambda_l1 * l1\n",
        "\n",
        "      # Backpropagation\n",
        "      loss.backward()\n",
        "      optimizer.step()\n",
        "\n",
        "      # Update pbar-tqdm\n",
        "      \n",
        "      pred = y_pred.argmax(dim=1, keepdim=True)  # get the index of the max log-probability\n",
        "      correct += pred.eq(target.view_as(pred)).sum().item()\n",
        "      processed += len(data)\n",
        "\n",
        "      pbar.set_description(desc= f'Loss={loss.item()} Batch_id={batch_idx} Accuracy={100*correct/processed:0.2f}')\n",
        "      acc = 100*correct/processed\n",
        "  \n",
        "  #return training loss and training accuracy for that epoch\n",
        "  return loss, acc\n",
        "\n",
        "''' \n",
        "test function taken inputs as pre defined model, device, test_loader (dataloader)\n",
        "It returns the following: test loss, test accuracy for that epoch\n",
        "'''\n",
        "\n",
        "def test(model, device, test_loader):\n",
        "    model.eval()\n",
        "    loss = 0\n",
        "    correct = 0\n",
        "    with torch.no_grad():\n",
        "        for data, target in test_loader:\n",
        "            data, target = data.to(device), target.to(device)\n",
        "            output = model(data)\n",
        "            loss += F.nll_loss(output, target, reduction='sum').item()  # sum up batch loss\n",
        "            pred = output.argmax(dim=1, keepdim=True)  # get the index of the max log-probability\n",
        "            correct += pred.eq(target.view_as(pred)).sum().item()\n",
        "\n",
        "    loss /= len(test_loader.dataset)\n",
        "\n",
        "    print('\\nTest set: Average loss: {:.4f}, Accuracy: {}/{} ({:.2f}%)\\n'.format(\n",
        "        loss, correct, len(test_loader.dataset),\n",
        "        100. * correct / len(test_loader.dataset)))\n",
        "    \n",
        "    acc = 100. * correct / len(test_loader.dataset)\n",
        "\n",
        "    #return test loss and test accuracy\n",
        "    return loss, acc"
      ],
      "metadata": {
        "id": "SHBkQ7A-SaHQ"
      },
      "execution_count": 76,
      "outputs": []
    },
    {
      "cell_type": "markdown",
      "source": [
        "## train_model function to initate training for required number of epochs"
      ],
      "metadata": {
        "id": "LPtZIUgvEOki"
      }
    },
    {
      "cell_type": "code",
      "source": [
        "# Set for training on GPU\n",
        "#define optimizer\n",
        "#set the loop for training in epochs\n",
        "from model import Net\n",
        "\n",
        "from torch.optim.lr_scheduler import StepLR # Import your choice of scheduler here\n",
        "\n",
        "'''\n",
        "train_model inputs - model_type - batch, layer, or group normalization, lambda_l1 if required for L1 Regularization, and\n",
        "num_groups parameter for group normalization\n",
        "\n",
        "Generated output: \n",
        "1. model - for generating test outputs\n",
        "2. train_losses, train_acc_all, test_losses, test_acc_all - For further analysis and generating plots\n",
        "'''\n",
        "\n",
        "def train_model(model_type, device, num_epochs, lambda_l1 = 0, num_groups = 2):\n",
        "\n",
        "    train_losses= []\n",
        "    test_losses = []\n",
        "    train_acc_all = []\n",
        "    test_acc_all = []\n",
        "\n",
        "    model = Net(model_type, num_groups = num_groups).to(device)\n",
        "    \n",
        "    optimizer = optim.SGD(model.parameters(), lr=0.1, momentum=0.9)\n",
        "    scheduler = StepLR(optimizer, step_size=4, gamma=0.4)\n",
        "    \n",
        "    for epoch in range(1, num_epochs+1):\n",
        "\n",
        "      print(\"EPOCH:\", epoch, \"Learning Rate: \", optimizer.param_groups[0][\"lr\"])\n",
        "      train_loss, train_acc = train(model, device, train_loader, optimizer, lambda_l1)\n",
        "      \n",
        "      #accumulate losses & accuracy for plotting\n",
        "      train_losses.append(train_loss.item())\n",
        "      train_acc_all.append(train_acc)\n",
        "\n",
        "      #increment learning rate\n",
        "      scheduler.step()\n",
        "      \n",
        "      test_loss, test_acc = test(model, device, test_loader)\n",
        "\n",
        "      #accumulate losses & accuracy for plotting\n",
        "      test_losses.append(test_loss)\n",
        "      test_acc_all.append(test_acc)\n",
        "\n",
        "\n",
        "    return model, train_losses, train_acc_all, test_losses, test_acc_all"
      ],
      "metadata": {
        "id": "xToeD7tUSaMv"
      },
      "execution_count": 79,
      "outputs": []
    },
    {
      "cell_type": "markdown",
      "source": [
        " ## Train three models\n",
        " 1) Batch Normalization with L1 Regularization\n",
        " 2) Layer Normalization\n",
        " 3) Group Normalization"
      ],
      "metadata": {
        "id": "HMnkLB7mFZAy"
      }
    },
    {
      "cell_type": "code",
      "source": [
        "num_epochs = 20\n",
        "\n",
        "print('Training by Batch Normalization with L1 regularization')\n",
        "batch_model, b_train_losses, b_train_acc, b_test_losses, b_test_acc = train_model('batch', device, num_epochs= num_epochs, lambda_l1 = 0.0001)\n",
        "torch.save(batch_model.state_dict(), 'batchmodel.pt')\n",
        "\n",
        "print('Training by Layer Normalization')\n",
        "layer_model, l_train_losses, l_train_acc, l_test_losses, l_test_acc = train_model('layer', device, num_epochs= num_epochs)\n",
        "torch.save(layer_model.state_dict(), 'layermodel.pt')\n",
        "\n",
        "print('Training by Group Normalization')\n",
        "group_model, g_train_losses, g_train_acc, g_test_losses, g_test_acc = train_model('group', device, num_epochs= num_epochs, num_groups = 2)\n",
        "torch.save(group_model.state_dict(), 'groupmodel.pt')"
      ],
      "metadata": {
        "colab": {
          "base_uri": "https://localhost:8080/"
        },
        "id": "rZkLMu1E7D-S",
        "outputId": "367a3691-cdf6-4bc6-aa8d-1664a4eb5442"
      },
      "execution_count": 80,
      "outputs": [
        {
          "output_type": "stream",
          "name": "stdout",
          "text": [
            "Training by Batch Normalization with L1 regularization\n",
            "EPOCH: 1 Learning Rate:  0.1\n"
          ]
        },
        {
          "output_type": "stream",
          "name": "stderr",
          "text": [
            "Loss=0.19800207018852234 Batch_id=468 Accuracy=93.25: 100%|██████████| 469/469 [00:25<00:00, 18.11it/s]\n"
          ]
        },
        {
          "output_type": "stream",
          "name": "stdout",
          "text": [
            "\n",
            "Test set: Average loss: 0.0607, Accuracy: 9799/10000 (97.99%)\n",
            "\n",
            "EPOCH: 2 Learning Rate:  0.1\n"
          ]
        },
        {
          "output_type": "stream",
          "name": "stderr",
          "text": [
            "Loss=0.1194198951125145 Batch_id=468 Accuracy=97.27: 100%|██████████| 469/469 [00:23<00:00, 19.90it/s]\n"
          ]
        },
        {
          "output_type": "stream",
          "name": "stdout",
          "text": [
            "\n",
            "Test set: Average loss: 0.0708, Accuracy: 9767/10000 (97.67%)\n",
            "\n",
            "EPOCH: 3 Learning Rate:  0.1\n"
          ]
        },
        {
          "output_type": "stream",
          "name": "stderr",
          "text": [
            "Loss=0.18882128596305847 Batch_id=468 Accuracy=97.63: 100%|██████████| 469/469 [00:27<00:00, 17.18it/s]\n"
          ]
        },
        {
          "output_type": "stream",
          "name": "stdout",
          "text": [
            "\n",
            "Test set: Average loss: 0.0804, Accuracy: 9729/10000 (97.29%)\n",
            "\n",
            "EPOCH: 4 Learning Rate:  0.1\n"
          ]
        },
        {
          "output_type": "stream",
          "name": "stderr",
          "text": [
            "Loss=0.09739379584789276 Batch_id=468 Accuracy=97.77: 100%|██████████| 469/469 [00:27<00:00, 17.16it/s]\n"
          ]
        },
        {
          "output_type": "stream",
          "name": "stdout",
          "text": [
            "\n",
            "Test set: Average loss: 0.0522, Accuracy: 9839/10000 (98.39%)\n",
            "\n",
            "EPOCH: 5 Learning Rate:  0.04000000000000001\n"
          ]
        },
        {
          "output_type": "stream",
          "name": "stderr",
          "text": [
            "Loss=0.11192414164543152 Batch_id=468 Accuracy=98.41: 100%|██████████| 469/469 [00:23<00:00, 19.79it/s]\n"
          ]
        },
        {
          "output_type": "stream",
          "name": "stdout",
          "text": [
            "\n",
            "Test set: Average loss: 0.0282, Accuracy: 9913/10000 (99.13%)\n",
            "\n",
            "EPOCH: 6 Learning Rate:  0.04000000000000001\n"
          ]
        },
        {
          "output_type": "stream",
          "name": "stderr",
          "text": [
            "Loss=0.10155037045478821 Batch_id=468 Accuracy=98.60: 100%|██████████| 469/469 [00:25<00:00, 18.63it/s]\n"
          ]
        },
        {
          "output_type": "stream",
          "name": "stdout",
          "text": [
            "\n",
            "Test set: Average loss: 0.0332, Accuracy: 9887/10000 (98.87%)\n",
            "\n",
            "EPOCH: 7 Learning Rate:  0.04000000000000001\n"
          ]
        },
        {
          "output_type": "stream",
          "name": "stderr",
          "text": [
            "Loss=0.11544950306415558 Batch_id=468 Accuracy=98.58: 100%|██████████| 469/469 [00:27<00:00, 16.91it/s]\n"
          ]
        },
        {
          "output_type": "stream",
          "name": "stdout",
          "text": [
            "\n",
            "Test set: Average loss: 0.0292, Accuracy: 9905/10000 (99.05%)\n",
            "\n",
            "EPOCH: 8 Learning Rate:  0.04000000000000001\n"
          ]
        },
        {
          "output_type": "stream",
          "name": "stderr",
          "text": [
            "Loss=0.09143977612257004 Batch_id=468 Accuracy=98.49: 100%|██████████| 469/469 [00:28<00:00, 16.55it/s]\n"
          ]
        },
        {
          "output_type": "stream",
          "name": "stdout",
          "text": [
            "\n",
            "Test set: Average loss: 0.0269, Accuracy: 9926/10000 (99.26%)\n",
            "\n",
            "EPOCH: 9 Learning Rate:  0.016000000000000004\n"
          ]
        },
        {
          "output_type": "stream",
          "name": "stderr",
          "text": [
            "Loss=0.08290337026119232 Batch_id=468 Accuracy=98.82: 100%|██████████| 469/469 [00:28<00:00, 16.57it/s]\n"
          ]
        },
        {
          "output_type": "stream",
          "name": "stdout",
          "text": [
            "\n",
            "Test set: Average loss: 0.0212, Accuracy: 9926/10000 (99.26%)\n",
            "\n",
            "EPOCH: 10 Learning Rate:  0.016000000000000004\n"
          ]
        },
        {
          "output_type": "stream",
          "name": "stderr",
          "text": [
            "Loss=0.1915937066078186 Batch_id=468 Accuracy=98.88: 100%|██████████| 469/469 [00:28<00:00, 16.30it/s]\n"
          ]
        },
        {
          "output_type": "stream",
          "name": "stdout",
          "text": [
            "\n",
            "Test set: Average loss: 0.0244, Accuracy: 9914/10000 (99.14%)\n",
            "\n",
            "EPOCH: 11 Learning Rate:  0.016000000000000004\n"
          ]
        },
        {
          "output_type": "stream",
          "name": "stderr",
          "text": [
            "Loss=0.11188040673732758 Batch_id=468 Accuracy=98.87: 100%|██████████| 469/469 [00:31<00:00, 15.09it/s]\n"
          ]
        },
        {
          "output_type": "stream",
          "name": "stdout",
          "text": [
            "\n",
            "Test set: Average loss: 0.0234, Accuracy: 9919/10000 (99.19%)\n",
            "\n",
            "EPOCH: 12 Learning Rate:  0.016000000000000004\n"
          ]
        },
        {
          "output_type": "stream",
          "name": "stderr",
          "text": [
            "Loss=0.09057876467704773 Batch_id=468 Accuracy=98.93: 100%|██████████| 469/469 [00:32<00:00, 14.53it/s]\n"
          ]
        },
        {
          "output_type": "stream",
          "name": "stdout",
          "text": [
            "\n",
            "Test set: Average loss: 0.0241, Accuracy: 9930/10000 (99.30%)\n",
            "\n",
            "EPOCH: 13 Learning Rate:  0.006400000000000002\n"
          ]
        },
        {
          "output_type": "stream",
          "name": "stderr",
          "text": [
            "Loss=0.1277025043964386 Batch_id=468 Accuracy=99.04: 100%|██████████| 469/469 [00:23<00:00, 19.78it/s]\n"
          ]
        },
        {
          "output_type": "stream",
          "name": "stdout",
          "text": [
            "\n",
            "Test set: Average loss: 0.0234, Accuracy: 9921/10000 (99.21%)\n",
            "\n",
            "EPOCH: 14 Learning Rate:  0.006400000000000002\n"
          ]
        },
        {
          "output_type": "stream",
          "name": "stderr",
          "text": [
            "Loss=0.09362347424030304 Batch_id=468 Accuracy=99.04: 100%|██████████| 469/469 [00:29<00:00, 16.07it/s]\n"
          ]
        },
        {
          "output_type": "stream",
          "name": "stdout",
          "text": [
            "\n",
            "Test set: Average loss: 0.0205, Accuracy: 9925/10000 (99.25%)\n",
            "\n",
            "EPOCH: 15 Learning Rate:  0.006400000000000002\n"
          ]
        },
        {
          "output_type": "stream",
          "name": "stderr",
          "text": [
            "Loss=0.12627515196800232 Batch_id=468 Accuracy=99.03: 100%|██████████| 469/469 [00:27<00:00, 17.32it/s]\n"
          ]
        },
        {
          "output_type": "stream",
          "name": "stdout",
          "text": [
            "\n",
            "Test set: Average loss: 0.0203, Accuracy: 9932/10000 (99.32%)\n",
            "\n",
            "EPOCH: 16 Learning Rate:  0.006400000000000002\n"
          ]
        },
        {
          "output_type": "stream",
          "name": "stderr",
          "text": [
            "Loss=0.07799310237169266 Batch_id=468 Accuracy=99.05: 100%|██████████| 469/469 [00:25<00:00, 18.30it/s]\n"
          ]
        },
        {
          "output_type": "stream",
          "name": "stdout",
          "text": [
            "\n",
            "Test set: Average loss: 0.0211, Accuracy: 9931/10000 (99.31%)\n",
            "\n",
            "EPOCH: 17 Learning Rate:  0.002560000000000001\n"
          ]
        },
        {
          "output_type": "stream",
          "name": "stderr",
          "text": [
            "Loss=0.07528450340032578 Batch_id=468 Accuracy=99.11: 100%|██████████| 469/469 [00:28<00:00, 16.62it/s]\n"
          ]
        },
        {
          "output_type": "stream",
          "name": "stdout",
          "text": [
            "\n",
            "Test set: Average loss: 0.0201, Accuracy: 9935/10000 (99.35%)\n",
            "\n",
            "EPOCH: 18 Learning Rate:  0.002560000000000001\n"
          ]
        },
        {
          "output_type": "stream",
          "name": "stderr",
          "text": [
            "Loss=0.0898631289601326 Batch_id=468 Accuracy=99.14: 100%|██████████| 469/469 [00:33<00:00, 13.98it/s]\n"
          ]
        },
        {
          "output_type": "stream",
          "name": "stdout",
          "text": [
            "\n",
            "Test set: Average loss: 0.0201, Accuracy: 9930/10000 (99.30%)\n",
            "\n",
            "EPOCH: 19 Learning Rate:  0.002560000000000001\n"
          ]
        },
        {
          "output_type": "stream",
          "name": "stderr",
          "text": [
            "Loss=0.12457196414470673 Batch_id=468 Accuracy=99.13: 100%|██████████| 469/469 [00:29<00:00, 15.96it/s]\n"
          ]
        },
        {
          "output_type": "stream",
          "name": "stdout",
          "text": [
            "\n",
            "Test set: Average loss: 0.0197, Accuracy: 9933/10000 (99.33%)\n",
            "\n",
            "EPOCH: 20 Learning Rate:  0.002560000000000001\n"
          ]
        },
        {
          "output_type": "stream",
          "name": "stderr",
          "text": [
            "Loss=0.06538818776607513 Batch_id=468 Accuracy=99.14: 100%|██████████| 469/469 [00:28<00:00, 16.49it/s]\n"
          ]
        },
        {
          "output_type": "stream",
          "name": "stdout",
          "text": [
            "\n",
            "Test set: Average loss: 0.0208, Accuracy: 9927/10000 (99.27%)\n",
            "\n",
            "Training by Layer Normalization\n",
            "EPOCH: 1 Learning Rate:  0.1\n"
          ]
        },
        {
          "output_type": "stream",
          "name": "stderr",
          "text": [
            "Loss=0.13304361701011658 Batch_id=468 Accuracy=87.98: 100%|██████████| 469/469 [00:29<00:00, 15.86it/s]\n"
          ]
        },
        {
          "output_type": "stream",
          "name": "stdout",
          "text": [
            "\n",
            "Test set: Average loss: 0.1106, Accuracy: 9661/10000 (96.61%)\n",
            "\n",
            "EPOCH: 2 Learning Rate:  0.1\n"
          ]
        },
        {
          "output_type": "stream",
          "name": "stderr",
          "text": [
            "Loss=0.14613208174705505 Batch_id=468 Accuracy=96.09: 100%|██████████| 469/469 [00:26<00:00, 17.91it/s]\n"
          ]
        },
        {
          "output_type": "stream",
          "name": "stdout",
          "text": [
            "\n",
            "Test set: Average loss: 0.0893, Accuracy: 9728/10000 (97.28%)\n",
            "\n",
            "EPOCH: 3 Learning Rate:  0.1\n"
          ]
        },
        {
          "output_type": "stream",
          "name": "stderr",
          "text": [
            "Loss=0.08307603746652603 Batch_id=468 Accuracy=96.81: 100%|██████████| 469/469 [00:24<00:00, 19.16it/s]\n"
          ]
        },
        {
          "output_type": "stream",
          "name": "stdout",
          "text": [
            "\n",
            "Test set: Average loss: 0.0594, Accuracy: 9825/10000 (98.25%)\n",
            "\n",
            "EPOCH: 4 Learning Rate:  0.1\n"
          ]
        },
        {
          "output_type": "stream",
          "name": "stderr",
          "text": [
            "Loss=0.09740325808525085 Batch_id=468 Accuracy=97.36: 100%|██████████| 469/469 [00:21<00:00, 21.40it/s]\n"
          ]
        },
        {
          "output_type": "stream",
          "name": "stdout",
          "text": [
            "\n",
            "Test set: Average loss: 0.0567, Accuracy: 9825/10000 (98.25%)\n",
            "\n",
            "EPOCH: 5 Learning Rate:  0.04000000000000001\n"
          ]
        },
        {
          "output_type": "stream",
          "name": "stderr",
          "text": [
            "Loss=0.06760327517986298 Batch_id=468 Accuracy=98.03: 100%|██████████| 469/469 [00:22<00:00, 21.30it/s]\n"
          ]
        },
        {
          "output_type": "stream",
          "name": "stdout",
          "text": [
            "\n",
            "Test set: Average loss: 0.0427, Accuracy: 9865/10000 (98.65%)\n",
            "\n",
            "EPOCH: 6 Learning Rate:  0.04000000000000001\n"
          ]
        },
        {
          "output_type": "stream",
          "name": "stderr",
          "text": [
            "Loss=0.03482714667916298 Batch_id=468 Accuracy=98.18: 100%|██████████| 469/469 [00:21<00:00, 21.79it/s]\n"
          ]
        },
        {
          "output_type": "stream",
          "name": "stdout",
          "text": [
            "\n",
            "Test set: Average loss: 0.0415, Accuracy: 9884/10000 (98.84%)\n",
            "\n",
            "EPOCH: 7 Learning Rate:  0.04000000000000001\n"
          ]
        },
        {
          "output_type": "stream",
          "name": "stderr",
          "text": [
            "Loss=0.028140133246779442 Batch_id=468 Accuracy=98.31: 100%|██████████| 469/469 [00:21<00:00, 21.81it/s]\n"
          ]
        },
        {
          "output_type": "stream",
          "name": "stdout",
          "text": [
            "\n",
            "Test set: Average loss: 0.0368, Accuracy: 9881/10000 (98.81%)\n",
            "\n",
            "EPOCH: 8 Learning Rate:  0.04000000000000001\n"
          ]
        },
        {
          "output_type": "stream",
          "name": "stderr",
          "text": [
            "Loss=0.038079213351011276 Batch_id=468 Accuracy=98.35: 100%|██████████| 469/469 [00:24<00:00, 18.98it/s]\n"
          ]
        },
        {
          "output_type": "stream",
          "name": "stdout",
          "text": [
            "\n",
            "Test set: Average loss: 0.0365, Accuracy: 9891/10000 (98.91%)\n",
            "\n",
            "EPOCH: 9 Learning Rate:  0.016000000000000004\n"
          ]
        },
        {
          "output_type": "stream",
          "name": "stderr",
          "text": [
            "Loss=0.043514203280210495 Batch_id=468 Accuracy=98.54: 100%|██████████| 469/469 [00:22<00:00, 21.25it/s]\n"
          ]
        },
        {
          "output_type": "stream",
          "name": "stdout",
          "text": [
            "\n",
            "Test set: Average loss: 0.0352, Accuracy: 9889/10000 (98.89%)\n",
            "\n",
            "EPOCH: 10 Learning Rate:  0.016000000000000004\n"
          ]
        },
        {
          "output_type": "stream",
          "name": "stderr",
          "text": [
            "Loss=0.03507499024271965 Batch_id=468 Accuracy=98.61: 100%|██████████| 469/469 [00:21<00:00, 21.34it/s]\n"
          ]
        },
        {
          "output_type": "stream",
          "name": "stdout",
          "text": [
            "\n",
            "Test set: Average loss: 0.0361, Accuracy: 9898/10000 (98.98%)\n",
            "\n",
            "EPOCH: 11 Learning Rate:  0.016000000000000004\n"
          ]
        },
        {
          "output_type": "stream",
          "name": "stderr",
          "text": [
            "Loss=0.06990227848291397 Batch_id=468 Accuracy=98.62: 100%|██████████| 469/469 [00:21<00:00, 21.79it/s]\n"
          ]
        },
        {
          "output_type": "stream",
          "name": "stdout",
          "text": [
            "\n",
            "Test set: Average loss: 0.0356, Accuracy: 9896/10000 (98.96%)\n",
            "\n",
            "EPOCH: 12 Learning Rate:  0.016000000000000004\n"
          ]
        },
        {
          "output_type": "stream",
          "name": "stderr",
          "text": [
            "Loss=0.02531784027814865 Batch_id=468 Accuracy=98.56: 100%|██████████| 469/469 [00:21<00:00, 21.82it/s]\n"
          ]
        },
        {
          "output_type": "stream",
          "name": "stdout",
          "text": [
            "\n",
            "Test set: Average loss: 0.0328, Accuracy: 9898/10000 (98.98%)\n",
            "\n",
            "EPOCH: 13 Learning Rate:  0.006400000000000002\n"
          ]
        },
        {
          "output_type": "stream",
          "name": "stderr",
          "text": [
            "Loss=0.016909277066588402 Batch_id=468 Accuracy=98.73: 100%|██████████| 469/469 [00:21<00:00, 21.62it/s]\n"
          ]
        },
        {
          "output_type": "stream",
          "name": "stdout",
          "text": [
            "\n",
            "Test set: Average loss: 0.0334, Accuracy: 9901/10000 (99.01%)\n",
            "\n",
            "EPOCH: 14 Learning Rate:  0.006400000000000002\n"
          ]
        },
        {
          "output_type": "stream",
          "name": "stderr",
          "text": [
            "Loss=0.07912349700927734 Batch_id=468 Accuracy=98.70: 100%|██████████| 469/469 [00:22<00:00, 21.27it/s]\n"
          ]
        },
        {
          "output_type": "stream",
          "name": "stdout",
          "text": [
            "\n",
            "Test set: Average loss: 0.0332, Accuracy: 9896/10000 (98.96%)\n",
            "\n",
            "EPOCH: 15 Learning Rate:  0.006400000000000002\n"
          ]
        },
        {
          "output_type": "stream",
          "name": "stderr",
          "text": [
            "Loss=0.048848722130060196 Batch_id=468 Accuracy=98.73: 100%|██████████| 469/469 [00:21<00:00, 21.93it/s]\n"
          ]
        },
        {
          "output_type": "stream",
          "name": "stdout",
          "text": [
            "\n",
            "Test set: Average loss: 0.0325, Accuracy: 9903/10000 (99.03%)\n",
            "\n",
            "EPOCH: 16 Learning Rate:  0.006400000000000002\n"
          ]
        },
        {
          "output_type": "stream",
          "name": "stderr",
          "text": [
            "Loss=0.016245180740952492 Batch_id=468 Accuracy=98.72: 100%|██████████| 469/469 [00:21<00:00, 22.01it/s]\n"
          ]
        },
        {
          "output_type": "stream",
          "name": "stdout",
          "text": [
            "\n",
            "Test set: Average loss: 0.0333, Accuracy: 9906/10000 (99.06%)\n",
            "\n",
            "EPOCH: 17 Learning Rate:  0.002560000000000001\n"
          ]
        },
        {
          "output_type": "stream",
          "name": "stderr",
          "text": [
            "Loss=0.07458044588565826 Batch_id=468 Accuracy=98.75: 100%|██████████| 469/469 [00:21<00:00, 21.75it/s]\n"
          ]
        },
        {
          "output_type": "stream",
          "name": "stdout",
          "text": [
            "\n",
            "Test set: Average loss: 0.0321, Accuracy: 9906/10000 (99.06%)\n",
            "\n",
            "EPOCH: 18 Learning Rate:  0.002560000000000001\n"
          ]
        },
        {
          "output_type": "stream",
          "name": "stderr",
          "text": [
            "Loss=0.05145765468478203 Batch_id=468 Accuracy=98.78: 100%|██████████| 469/469 [00:22<00:00, 20.81it/s]\n"
          ]
        },
        {
          "output_type": "stream",
          "name": "stdout",
          "text": [
            "\n",
            "Test set: Average loss: 0.0320, Accuracy: 9901/10000 (99.01%)\n",
            "\n",
            "EPOCH: 19 Learning Rate:  0.002560000000000001\n"
          ]
        },
        {
          "output_type": "stream",
          "name": "stderr",
          "text": [
            "Loss=0.011470629833638668 Batch_id=468 Accuracy=98.81: 100%|██████████| 469/469 [00:25<00:00, 18.55it/s]\n"
          ]
        },
        {
          "output_type": "stream",
          "name": "stdout",
          "text": [
            "\n",
            "Test set: Average loss: 0.0318, Accuracy: 9904/10000 (99.04%)\n",
            "\n",
            "EPOCH: 20 Learning Rate:  0.002560000000000001\n"
          ]
        },
        {
          "output_type": "stream",
          "name": "stderr",
          "text": [
            "Loss=0.03871579468250275 Batch_id=468 Accuracy=98.74: 100%|██████████| 469/469 [00:21<00:00, 22.14it/s]\n"
          ]
        },
        {
          "output_type": "stream",
          "name": "stdout",
          "text": [
            "\n",
            "Test set: Average loss: 0.0332, Accuracy: 9902/10000 (99.02%)\n",
            "\n",
            "Training by Group Normalization\n",
            "EPOCH: 1 Learning Rate:  0.1\n"
          ]
        },
        {
          "output_type": "stream",
          "name": "stderr",
          "text": [
            "Loss=0.13363130390644073 Batch_id=468 Accuracy=90.71: 100%|██████████| 469/469 [00:23<00:00, 20.28it/s]\n"
          ]
        },
        {
          "output_type": "stream",
          "name": "stdout",
          "text": [
            "\n",
            "Test set: Average loss: 0.0760, Accuracy: 9759/10000 (97.59%)\n",
            "\n",
            "EPOCH: 2 Learning Rate:  0.1\n"
          ]
        },
        {
          "output_type": "stream",
          "name": "stderr",
          "text": [
            "Loss=0.06250189244747162 Batch_id=468 Accuracy=96.60: 100%|██████████| 469/469 [00:23<00:00, 19.90it/s]\n"
          ]
        },
        {
          "output_type": "stream",
          "name": "stdout",
          "text": [
            "\n",
            "Test set: Average loss: 0.0549, Accuracy: 9822/10000 (98.22%)\n",
            "\n",
            "EPOCH: 3 Learning Rate:  0.1\n"
          ]
        },
        {
          "output_type": "stream",
          "name": "stderr",
          "text": [
            "Loss=0.05724851414561272 Batch_id=468 Accuracy=97.30: 100%|██████████| 469/469 [00:22<00:00, 20.58it/s]\n"
          ]
        },
        {
          "output_type": "stream",
          "name": "stdout",
          "text": [
            "\n",
            "Test set: Average loss: 0.0468, Accuracy: 9848/10000 (98.48%)\n",
            "\n",
            "EPOCH: 4 Learning Rate:  0.1\n"
          ]
        },
        {
          "output_type": "stream",
          "name": "stderr",
          "text": [
            "Loss=0.052019085735082626 Batch_id=468 Accuracy=97.58: 100%|██████████| 469/469 [00:21<00:00, 21.59it/s]\n"
          ]
        },
        {
          "output_type": "stream",
          "name": "stdout",
          "text": [
            "\n",
            "Test set: Average loss: 0.0479, Accuracy: 9853/10000 (98.53%)\n",
            "\n",
            "EPOCH: 5 Learning Rate:  0.04000000000000001\n"
          ]
        },
        {
          "output_type": "stream",
          "name": "stderr",
          "text": [
            "Loss=0.069191575050354 Batch_id=468 Accuracy=98.15: 100%|██████████| 469/469 [00:22<00:00, 20.81it/s]\n"
          ]
        },
        {
          "output_type": "stream",
          "name": "stdout",
          "text": [
            "\n",
            "Test set: Average loss: 0.0333, Accuracy: 9898/10000 (98.98%)\n",
            "\n",
            "EPOCH: 6 Learning Rate:  0.04000000000000001\n"
          ]
        },
        {
          "output_type": "stream",
          "name": "stderr",
          "text": [
            "Loss=0.02850016951560974 Batch_id=468 Accuracy=98.23: 100%|██████████| 469/469 [00:21<00:00, 21.79it/s]\n"
          ]
        },
        {
          "output_type": "stream",
          "name": "stdout",
          "text": [
            "\n",
            "Test set: Average loss: 0.0313, Accuracy: 9901/10000 (99.01%)\n",
            "\n",
            "EPOCH: 7 Learning Rate:  0.04000000000000001\n"
          ]
        },
        {
          "output_type": "stream",
          "name": "stderr",
          "text": [
            "Loss=0.03761538490653038 Batch_id=468 Accuracy=98.35: 100%|██████████| 469/469 [00:21<00:00, 21.82it/s]\n"
          ]
        },
        {
          "output_type": "stream",
          "name": "stdout",
          "text": [
            "\n",
            "Test set: Average loss: 0.0287, Accuracy: 9909/10000 (99.09%)\n",
            "\n",
            "EPOCH: 8 Learning Rate:  0.04000000000000001\n"
          ]
        },
        {
          "output_type": "stream",
          "name": "stderr",
          "text": [
            "Loss=0.06603027135133743 Batch_id=468 Accuracy=98.46: 100%|██████████| 469/469 [00:21<00:00, 21.89it/s]\n"
          ]
        },
        {
          "output_type": "stream",
          "name": "stdout",
          "text": [
            "\n",
            "Test set: Average loss: 0.0277, Accuracy: 9909/10000 (99.09%)\n",
            "\n",
            "EPOCH: 9 Learning Rate:  0.016000000000000004\n"
          ]
        },
        {
          "output_type": "stream",
          "name": "stderr",
          "text": [
            "Loss=0.019294090569019318 Batch_id=468 Accuracy=98.57: 100%|██████████| 469/469 [00:22<00:00, 21.07it/s]\n"
          ]
        },
        {
          "output_type": "stream",
          "name": "stdout",
          "text": [
            "\n",
            "Test set: Average loss: 0.0255, Accuracy: 9919/10000 (99.19%)\n",
            "\n",
            "EPOCH: 10 Learning Rate:  0.016000000000000004\n"
          ]
        },
        {
          "output_type": "stream",
          "name": "stderr",
          "text": [
            "Loss=0.018562886863946915 Batch_id=468 Accuracy=98.64: 100%|██████████| 469/469 [00:21<00:00, 21.49it/s]\n"
          ]
        },
        {
          "output_type": "stream",
          "name": "stdout",
          "text": [
            "\n",
            "Test set: Average loss: 0.0256, Accuracy: 9924/10000 (99.24%)\n",
            "\n",
            "EPOCH: 11 Learning Rate:  0.016000000000000004\n"
          ]
        },
        {
          "output_type": "stream",
          "name": "stderr",
          "text": [
            "Loss=0.01411967072635889 Batch_id=468 Accuracy=98.68: 100%|██████████| 469/469 [00:21<00:00, 21.59it/s]\n"
          ]
        },
        {
          "output_type": "stream",
          "name": "stdout",
          "text": [
            "\n",
            "Test set: Average loss: 0.0254, Accuracy: 9919/10000 (99.19%)\n",
            "\n",
            "EPOCH: 12 Learning Rate:  0.016000000000000004\n"
          ]
        },
        {
          "output_type": "stream",
          "name": "stderr",
          "text": [
            "Loss=0.004221601411700249 Batch_id=468 Accuracy=98.70: 100%|██████████| 469/469 [00:22<00:00, 20.89it/s]\n"
          ]
        },
        {
          "output_type": "stream",
          "name": "stdout",
          "text": [
            "\n",
            "Test set: Average loss: 0.0253, Accuracy: 9921/10000 (99.21%)\n",
            "\n",
            "EPOCH: 13 Learning Rate:  0.006400000000000002\n"
          ]
        },
        {
          "output_type": "stream",
          "name": "stderr",
          "text": [
            "Loss=0.028366215527057648 Batch_id=468 Accuracy=98.78: 100%|██████████| 469/469 [00:21<00:00, 21.58it/s]\n"
          ]
        },
        {
          "output_type": "stream",
          "name": "stdout",
          "text": [
            "\n",
            "Test set: Average loss: 0.0244, Accuracy: 9924/10000 (99.24%)\n",
            "\n",
            "EPOCH: 14 Learning Rate:  0.006400000000000002\n"
          ]
        },
        {
          "output_type": "stream",
          "name": "stderr",
          "text": [
            "Loss=0.005105362273752689 Batch_id=468 Accuracy=98.78: 100%|██████████| 469/469 [00:21<00:00, 21.86it/s]\n"
          ]
        },
        {
          "output_type": "stream",
          "name": "stdout",
          "text": [
            "\n",
            "Test set: Average loss: 0.0245, Accuracy: 9923/10000 (99.23%)\n",
            "\n",
            "EPOCH: 15 Learning Rate:  0.006400000000000002\n"
          ]
        },
        {
          "output_type": "stream",
          "name": "stderr",
          "text": [
            "Loss=0.08597790449857712 Batch_id=468 Accuracy=98.81: 100%|██████████| 469/469 [00:22<00:00, 21.31it/s]\n"
          ]
        },
        {
          "output_type": "stream",
          "name": "stdout",
          "text": [
            "\n",
            "Test set: Average loss: 0.0249, Accuracy: 9919/10000 (99.19%)\n",
            "\n",
            "EPOCH: 16 Learning Rate:  0.006400000000000002\n"
          ]
        },
        {
          "output_type": "stream",
          "name": "stderr",
          "text": [
            "Loss=0.005070275627076626 Batch_id=468 Accuracy=98.78: 100%|██████████| 469/469 [00:21<00:00, 21.48it/s]\n"
          ]
        },
        {
          "output_type": "stream",
          "name": "stdout",
          "text": [
            "\n",
            "Test set: Average loss: 0.0244, Accuracy: 9928/10000 (99.28%)\n",
            "\n",
            "EPOCH: 17 Learning Rate:  0.002560000000000001\n"
          ]
        },
        {
          "output_type": "stream",
          "name": "stderr",
          "text": [
            "Loss=0.0037149100098758936 Batch_id=468 Accuracy=98.78: 100%|██████████| 469/469 [00:22<00:00, 21.17it/s]\n"
          ]
        },
        {
          "output_type": "stream",
          "name": "stdout",
          "text": [
            "\n",
            "Test set: Average loss: 0.0239, Accuracy: 9926/10000 (99.26%)\n",
            "\n",
            "EPOCH: 18 Learning Rate:  0.002560000000000001\n"
          ]
        },
        {
          "output_type": "stream",
          "name": "stderr",
          "text": [
            "Loss=0.08341319113969803 Batch_id=468 Accuracy=98.86: 100%|██████████| 469/469 [00:21<00:00, 21.37it/s]\n"
          ]
        },
        {
          "output_type": "stream",
          "name": "stdout",
          "text": [
            "\n",
            "Test set: Average loss: 0.0237, Accuracy: 9929/10000 (99.29%)\n",
            "\n",
            "EPOCH: 19 Learning Rate:  0.002560000000000001\n"
          ]
        },
        {
          "output_type": "stream",
          "name": "stderr",
          "text": [
            "Loss=0.015281588770449162 Batch_id=468 Accuracy=98.84: 100%|██████████| 469/469 [00:22<00:00, 20.58it/s]\n"
          ]
        },
        {
          "output_type": "stream",
          "name": "stdout",
          "text": [
            "\n",
            "Test set: Average loss: 0.0239, Accuracy: 9921/10000 (99.21%)\n",
            "\n",
            "EPOCH: 20 Learning Rate:  0.002560000000000001\n"
          ]
        },
        {
          "output_type": "stream",
          "name": "stderr",
          "text": [
            "Loss=0.05000406503677368 Batch_id=468 Accuracy=98.81: 100%|██████████| 469/469 [00:21<00:00, 21.39it/s]\n"
          ]
        },
        {
          "output_type": "stream",
          "name": "stdout",
          "text": [
            "\n",
            "Test set: Average loss: 0.0236, Accuracy: 9925/10000 (99.25%)\n",
            "\n"
          ]
        }
      ]
    },
    {
      "cell_type": "markdown",
      "source": [
        "# Plot graphs for test loss and test accuracy"
      ],
      "metadata": {
        "id": "nxB_iRveKGWY"
      }
    },
    {
      "cell_type": "code",
      "source": [
        "# function for plotting graphs\n",
        "import matplotlib.pyplot as plt\n",
        "\n",
        "\n",
        "fig, axs = plt.subplots(1,2,figsize=(15,6))\n",
        "axs[0].plot(b_test_losses, label = 'batch')\n",
        "axs[0].plot(l_test_losses, label = 'layer')\n",
        "axs[0].plot(g_test_losses, label = 'group')\n",
        "axs[0].set_title(\"Test Loss\")\n",
        "axs[0].legend()\n",
        "axs[0].legend(loc='upper right')\n",
        "\n",
        "axs[1].plot(b_test_acc, label = 'batch')\n",
        "axs[1].plot(l_test_acc, label = 'layer')\n",
        "axs[1].plot(g_test_acc, label = 'group')\n",
        "axs[1].set_title(\"Test Accuracy\")\n",
        "axs[1].legend()\n",
        "axs[1].legend(loc='upper right')\n"
      ],
      "metadata": {
        "colab": {
          "base_uri": "https://localhost:8080/",
          "height": 407
        },
        "id": "1Mu2VP4LG4i4",
        "outputId": "807769b9-d01f-48aa-eeaa-3a7b71166c05"
      },
      "execution_count": 82,
      "outputs": [
        {
          "output_type": "execute_result",
          "data": {
            "text/plain": [
              "<matplotlib.legend.Legend at 0x7fc149640220>"
            ]
          },
          "metadata": {},
          "execution_count": 82
        },
        {
          "output_type": "display_data",
          "data": {
            "text/plain": [
              "<Figure size 1080x432 with 2 Axes>"
            ],
            "image/png": "[encoded data removed]"
          },
          "metadata": {
            "needs_background": "light"
          }
        }
      ]
    },
    {
      "cell_type": "markdown",
      "source": [
        "# Define function that return data points for incorrect predictions"
      ],
      "metadata": {
        "id": "FLFdvzRpKZ7u"
      }
    },
    {
      "cell_type": "code",
      "source": [
        "'''\n",
        "function to return data points for plotting misses\n",
        "It accepts trained model, device and test_loader as inputs\n",
        "Outputs provided for all incorrect predictions, where length of each list = number of batches:\n",
        "1. data_images - List of torch tensors of images, if no mispredictions in a given batch then empty tensor \n",
        "2. pred_labels - List of Predicted labels, if no mispredictions in a given batch then empty tensor \n",
        "3. target_labels - Ground truth or target labels, if no mispredictions in a given batch then empty tensor \n",
        "'''\n",
        "\n",
        "def ntest(model, device, test_loader):\n",
        "    model.eval()\n",
        "    missed_images = []    #will contain list of batches, for a given batch will return list of indices not predicted correctly\n",
        "                          #empty list will indicate no mis predictions\n",
        "    pred_labels = []      #contains list of predicted labels by each batch\n",
        "    data_images = []      #contains list of images by each batch for plotting\n",
        "    target_labels = []    #contains list of target labels by batch\n",
        "    with torch.no_grad():\n",
        "        for data, target in test_loader:\n",
        "            data, target = data.to(device), target.to(device)\n",
        "            output = model(data)\n",
        "            #test_loss += F.nll_loss(output, target, reduction='sum').item()  # sum up batch loss\n",
        "            pred = output.argmax(dim=1, keepdim=True)  # get the index of the max log-probability\n",
        "            #missed_images.append(torch.where(torch.not_equal(pred.squeeze(),target).cpu()))\n",
        "            misses = torch.where(torch.not_equal(pred.squeeze(),target))\n",
        "            data_images.append(data[misses].cpu())\n",
        "            target_labels.append(target[misses].cpu())\n",
        "            pred_labels.append(pred[misses].cpu())\n",
        "    return data_images, pred_labels, target_labels\n"
      ],
      "metadata": {
        "id": "U_oeqm-Q8KUt"
      },
      "execution_count": 83,
      "outputs": []
    },
    {
      "cell_type": "markdown",
      "source": [
        "# Define function to plot misclassifications"
      ],
      "metadata": {
        "id": "ZkS4COCBLoGV"
      }
    },
    {
      "cell_type": "code",
      "source": [
        "'''\n",
        "function to return data points for plotting misses\n",
        "It accepts the following\n",
        "1. image_data as a list\n",
        "2. targeted_labels as a list\n",
        "3. predicted_labels as a list\n",
        "4. classes - as a list\n",
        "5. Number of images to be plotted\n",
        "\n",
        "Required number of images are plotted as output with target and predicted labels\n",
        "'''\n",
        "\n",
        "def plot_misclassified(image_data, targeted_labels, predicted_labels, classes, no_images):\n",
        "    \n",
        "    no_images = min(no_images, len(predicted_labels))\n",
        "    \n",
        "    figure = plt.figure(figsize = (12,5))\n",
        "\n",
        "    for index in range(1, no_images + 1):\n",
        "        plt.subplot(2, 5, index)\n",
        "        plt.imshow(image_data[index-1].numpy().squeeze())     \n",
        "        plt.tick_params(left = False, right = False , labelleft = False ,\n",
        "                    labelbottom = False, bottom = False)\n",
        "        title = \"Target:\" + str(classes[targeted_labels[index-1]]) +\"\\nPredicted:\" + str(classes[predicted_labels[index-1]])\n",
        "        plt.title(title)"
      ],
      "metadata": {
        "id": "kv5EQ7AM9A1l"
      },
      "execution_count": 88,
      "outputs": []
    },
    {
      "cell_type": "markdown",
      "source": [
        "# Plot mispredictions for model with Batch Normalization & L1 Regularization"
      ],
      "metadata": {
        "id": "vT5F1i1OMJRU"
      }
    },
    {
      "cell_type": "code",
      "source": [
        "#batch_model = torch.load('batchmodel.pt')\n",
        "data_images, pred_labels, target_labels = ntest(batch_model, device, test_loader)\n",
        "\n",
        "#flatten the lists\n",
        "flat_pred_labels = [x.item() for item in pred_labels for x in item ]\n",
        "flat_target_labels = [x.item() for item in target_labels for x in item ]\n",
        "flat_data_images = [x for item in data_images for x in item ]\n",
        "#print(len(flat_data_images), len(flat_pred_labels), len(flat_target_labels))\n",
        "\n",
        "# generate class labels\n",
        "_,t = next(iter(test_loader))\n",
        "classes = torch.unique(t, return_inverse=False, return_counts=False).tolist()\n",
        "#print(classes)\n",
        "\n",
        "plot_misclassified(flat_data_images, flat_target_labels, flat_pred_labels, classes, 10)"
      ],
      "metadata": {
        "colab": {
          "base_uri": "https://localhost:8080/",
          "height": 326
        },
        "id": "xmPbOALUBSUp",
        "outputId": "bf6564d1-39df-406b-ce15-1f5e8ebd83b5"
      },
      "execution_count": 89,
      "outputs": [
        {
          "output_type": "display_data",
          "data": {
            "text/plain": [
              "<Figure size 864x360 with 10 Axes>"
            ],
            "image/png": "[encoded data removed]"
          },
          "metadata": {}
        }
      ]
    },
    {
      "cell_type": "markdown",
      "source": [
        "# Plot mispredictions for model with Layer Normalization"
      ],
      "metadata": {
        "id": "9sW6eumrMRdV"
      }
    },
    {
      "cell_type": "code",
      "source": [
        "#batch_model = torch.load('batchmodel.pt')\n",
        "data_images, pred_labels, target_labels = ntest(layer_model, device, test_loader)\n",
        "\n",
        "#flatten the lists\n",
        "flat_pred_labels = [x.item() for item in pred_labels for x in item ]\n",
        "flat_target_labels = [x.item() for item in target_labels for x in item ]\n",
        "flat_data_images = [x for item in data_images for x in item ]\n",
        "#print(len(flat_data_images), len(flat_pred_labels), len(flat_target_labels))\n",
        "\n",
        "# generate class labels\n",
        "_,t = next(iter(test_loader))\n",
        "classes = torch.unique(t, return_inverse=False, return_counts=False).tolist()\n",
        "#print(classes)\n",
        "\n",
        "plot_misclassified(flat_data_images, flat_target_labels, flat_pred_labels, classes, 10)"
      ],
      "metadata": {
        "colab": {
          "base_uri": "https://localhost:8080/",
          "height": 326
        },
        "id": "U68DwtGyMcIv",
        "outputId": "efc5124d-751e-4f0a-e520-ca5798d6c222"
      },
      "execution_count": 90,
      "outputs": [
        {
          "output_type": "display_data",
          "data": {
            "text/plain": [
              "<Figure size 864x360 with 10 Axes>"
            ],
            "image/png": "[encoded data removed]"
          },
          "metadata": {}
        }
      ]
    },
    {
      "cell_type": "markdown",
      "source": [
        "# Plot mispredictions for model with Group Normalization"
      ],
      "metadata": {
        "id": "R6A5DQHzMUhY"
      }
    },
    {
      "cell_type": "code",
      "source": [
        "#batch_model = torch.load('batchmodel.pt')\n",
        "data_images, pred_labels, target_labels = ntest(group_model, device, test_loader)\n",
        "\n",
        "#flatten the lists\n",
        "flat_pred_labels = [x.item() for item in pred_labels for x in item ]\n",
        "flat_target_labels = [x.item() for item in target_labels for x in item ]\n",
        "flat_data_images = [x for item in data_images for x in item ]\n",
        "#print(len(flat_data_images), len(flat_pred_labels), len(flat_target_labels))\n",
        "\n",
        "# generate class labels\n",
        "_,t = next(iter(test_loader))\n",
        "classes = torch.unique(t, return_inverse=False, return_counts=False).tolist()\n",
        "#print(classes)\n",
        "\n",
        "plot_misclassified(flat_data_images, flat_target_labels, flat_pred_labels, classes, 10)"
      ],
      "metadata": {
        "colab": {
          "base_uri": "https://localhost:8080/",
          "height": 326
        },
        "id": "23m2NLr2MXgI",
        "outputId": "d8423290-eace-4935-d000-be69db12eb63"
      },
      "execution_count": 91,
      "outputs": [
        {
          "output_type": "display_data",
          "data": {
            "text/plain": [
              "<Figure size 864x360 with 10 Axes>"
            ],
            "image/png": "[encoded data removed]"
          },
          "metadata": {}
        }
      ]
    }
  ]
}