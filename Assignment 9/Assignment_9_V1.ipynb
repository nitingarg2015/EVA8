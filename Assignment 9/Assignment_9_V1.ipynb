{
  "nbformat": 4,
  "nbformat_minor": 0,
  "metadata": {
    "colab": {
      "provenance": [],
      "include_colab_link": true
    },
    "kernelspec": {
      "name": "python3",
      "display_name": "Python 3"
    },
    "language_info": {
      "name": "python"
    },
    "accelerator": "GPU",
    "gpuClass": "premium",
    "widgets": {
      "application/vnd.jupyter.widget-state+json": {
        "199eaaa3312d4cbc93b5ab4ed7e86bee": {
          "model_module": "@jupyter-widgets/controls",
          "model_name": "HBoxModel",
          "model_module_version": "1.5.0",
          "state": {
            "_dom_classes": [],
            "_model_module": "@jupyter-widgets/controls",
            "_model_module_version": "1.5.0",
            "_model_name": "HBoxModel",
            "_view_count": null,
            "_view_module": "@jupyter-widgets/controls",
            "_view_module_version": "1.5.0",
            "_view_name": "HBoxView",
            "box_style": "",
            "children": [
              "IPY_MODEL_376ac51c62df484f9c7da7f694bfc388",
              "IPY_MODEL_e0dc28f867d34a7da63d4fa3d1ab4281",
              "IPY_MODEL_7e0ae49a1cfb47b8a41b362eafc79e9d"
            ],
            "layout": "IPY_MODEL_877a7fbad00b4bc5bf2b56283611bc27"
          }
        },
        "376ac51c62df484f9c7da7f694bfc388": {
          "model_module": "@jupyter-widgets/controls",
          "model_name": "HTMLModel",
          "model_module_version": "1.5.0",
          "state": {
            "_dom_classes": [],
            "_model_module": "@jupyter-widgets/controls",
            "_model_module_version": "1.5.0",
            "_model_name": "HTMLModel",
            "_view_count": null,
            "_view_module": "@jupyter-widgets/controls",
            "_view_module_version": "1.5.0",
            "_view_name": "HTMLView",
            "description": "",
            "description_tooltip": null,
            "layout": "IPY_MODEL_b529b0365708450d90cee948507580a9",
            "placeholder": "​",
            "style": "IPY_MODEL_86f00cc4de144859bd9336e64ae385d6",
            "value": "100%"
          }
        },
        "e0dc28f867d34a7da63d4fa3d1ab4281": {
          "model_module": "@jupyter-widgets/controls",
          "model_name": "FloatProgressModel",
          "model_module_version": "1.5.0",
          "state": {
            "_dom_classes": [],
            "_model_module": "@jupyter-widgets/controls",
            "_model_module_version": "1.5.0",
            "_model_name": "FloatProgressModel",
            "_view_count": null,
            "_view_module": "@jupyter-widgets/controls",
            "_view_module_version": "1.5.0",
            "_view_name": "ProgressView",
            "bar_style": "success",
            "description": "",
            "description_tooltip": null,
            "layout": "IPY_MODEL_ca44b5fc687f4c20965c605d3500b8c3",
            "max": 170498071,
            "min": 0,
            "orientation": "horizontal",
            "style": "IPY_MODEL_23f7ed4a9ec84301b5d340a106756eb9",
            "value": 170498071
          }
        },
        "7e0ae49a1cfb47b8a41b362eafc79e9d": {
          "model_module": "@jupyter-widgets/controls",
          "model_name": "HTMLModel",
          "model_module_version": "1.5.0",
          "state": {
            "_dom_classes": [],
            "_model_module": "@jupyter-widgets/controls",
            "_model_module_version": "1.5.0",
            "_model_name": "HTMLModel",
            "_view_count": null,
            "_view_module": "@jupyter-widgets/controls",
            "_view_module_version": "1.5.0",
            "_view_name": "HTMLView",
            "description": "",
            "description_tooltip": null,
            "layout": "IPY_MODEL_a35d652b4f2b44d4865e813dd3e7f1f2",
            "placeholder": "​",
            "style": "IPY_MODEL_86f191632c8a49c4a3bee95050b71afe",
            "value": " 170498071/170498071 [00:13&lt;00:00, 14694319.07it/s]"
          }
        },
        "877a7fbad00b4bc5bf2b56283611bc27": {
          "model_module": "@jupyter-widgets/base",
          "model_name": "LayoutModel",
          "model_module_version": "1.2.0",
          "state": {
            "_model_module": "@jupyter-widgets/base",
            "_model_module_version": "1.2.0",
            "_model_name": "LayoutModel",
            "_view_count": null,
            "_view_module": "@jupyter-widgets/base",
            "_view_module_version": "1.2.0",
            "_view_name": "LayoutView",
            "align_content": null,
            "align_items": null,
            "align_self": null,
            "border": null,
            "bottom": null,
            "display": null,
            "flex": null,
            "flex_flow": null,
            "grid_area": null,
            "grid_auto_columns": null,
            "grid_auto_flow": null,
            "grid_auto_rows": null,
            "grid_column": null,
            "grid_gap": null,
            "grid_row": null,
            "grid_template_areas": null,
            "grid_template_columns": null,
            "grid_template_rows": null,
            "height": null,
            "justify_content": null,
            "justify_items": null,
            "left": null,
            "margin": null,
            "max_height": null,
            "max_width": null,
            "min_height": null,
            "min_width": null,
            "object_fit": null,
            "object_position": null,
            "order": null,
            "overflow": null,
            "overflow_x": null,
            "overflow_y": null,
            "padding": null,
            "right": null,
            "top": null,
            "visibility": null,
            "width": null
          }
        },
        "b529b0365708450d90cee948507580a9": {
          "model_module": "@jupyter-widgets/base",
          "model_name": "LayoutModel",
          "model_module_version": "1.2.0",
          "state": {
            "_model_module": "@jupyter-widgets/base",
            "_model_module_version": "1.2.0",
            "_model_name": "LayoutModel",
            "_view_count": null,
            "_view_module": "@jupyter-widgets/base",
            "_view_module_version": "1.2.0",
            "_view_name": "LayoutView",
            "align_content": null,
            "align_items": null,
            "align_self": null,
            "border": null,
            "bottom": null,
            "display": null,
            "flex": null,
            "flex_flow": null,
            "grid_area": null,
            "grid_auto_columns": null,
            "grid_auto_flow": null,
            "grid_auto_rows": null,
            "grid_column": null,
            "grid_gap": null,
            "grid_row": null,
            "grid_template_areas": null,
            "grid_template_columns": null,
            "grid_template_rows": null,
            "height": null,
            "justify_content": null,
            "justify_items": null,
            "left": null,
            "margin": null,
            "max_height": null,
            "max_width": null,
            "min_height": null,
            "min_width": null,
            "object_fit": null,
            "object_position": null,
            "order": null,
            "overflow": null,
            "overflow_x": null,
            "overflow_y": null,
            "padding": null,
            "right": null,
            "top": null,
            "visibility": null,
            "width": null
          }
        },
        "86f00cc4de144859bd9336e64ae385d6": {
          "model_module": "@jupyter-widgets/controls",
          "model_name": "DescriptionStyleModel",
          "model_module_version": "1.5.0",
          "state": {
            "_model_module": "@jupyter-widgets/controls",
            "_model_module_version": "1.5.0",
            "_model_name": "DescriptionStyleModel",
            "_view_count": null,
            "_view_module": "@jupyter-widgets/base",
            "_view_module_version": "1.2.0",
            "_view_name": "StyleView",
            "description_width": ""
          }
        },
        "ca44b5fc687f4c20965c605d3500b8c3": {
          "model_module": "@jupyter-widgets/base",
          "model_name": "LayoutModel",
          "model_module_version": "1.2.0",
          "state": {
            "_model_module": "@jupyter-widgets/base",
            "_model_module_version": "1.2.0",
            "_model_name": "LayoutModel",
            "_view_count": null,
            "_view_module": "@jupyter-widgets/base",
            "_view_module_version": "1.2.0",
            "_view_name": "LayoutView",
            "align_content": null,
            "align_items": null,
            "align_self": null,
            "border": null,
            "bottom": null,
            "display": null,
            "flex": null,
            "flex_flow": null,
            "grid_area": null,
            "grid_auto_columns": null,
            "grid_auto_flow": null,
            "grid_auto_rows": null,
            "grid_column": null,
            "grid_gap": null,
            "grid_row": null,
            "grid_template_areas": null,
            "grid_template_columns": null,
            "grid_template_rows": null,
            "height": null,
            "justify_content": null,
            "justify_items": null,
            "left": null,
            "margin": null,
            "max_height": null,
            "max_width": null,
            "min_height": null,
            "min_width": null,
            "object_fit": null,
            "object_position": null,
            "order": null,
            "overflow": null,
            "overflow_x": null,
            "overflow_y": null,
            "padding": null,
            "right": null,
            "top": null,
            "visibility": null,
            "width": null
          }
        },
        "23f7ed4a9ec84301b5d340a106756eb9": {
          "model_module": "@jupyter-widgets/controls",
          "model_name": "ProgressStyleModel",
          "model_module_version": "1.5.0",
          "state": {
            "_model_module": "@jupyter-widgets/controls",
            "_model_module_version": "1.5.0",
            "_model_name": "ProgressStyleModel",
            "_view_count": null,
            "_view_module": "@jupyter-widgets/base",
            "_view_module_version": "1.2.0",
            "_view_name": "StyleView",
            "bar_color": null,
            "description_width": ""
          }
        },
        "a35d652b4f2b44d4865e813dd3e7f1f2": {
          "model_module": "@jupyter-widgets/base",
          "model_name": "LayoutModel",
          "model_module_version": "1.2.0",
          "state": {
            "_model_module": "@jupyter-widgets/base",
            "_model_module_version": "1.2.0",
            "_model_name": "LayoutModel",
            "_view_count": null,
            "_view_module": "@jupyter-widgets/base",
            "_view_module_version": "1.2.0",
            "_view_name": "LayoutView",
            "align_content": null,
            "align_items": null,
            "align_self": null,
            "border": null,
            "bottom": null,
            "display": null,
            "flex": null,
            "flex_flow": null,
            "grid_area": null,
            "grid_auto_columns": null,
            "grid_auto_flow": null,
            "grid_auto_rows": null,
            "grid_column": null,
            "grid_gap": null,
            "grid_row": null,
            "grid_template_areas": null,
            "grid_template_columns": null,
            "grid_template_rows": null,
            "height": null,
            "justify_content": null,
            "justify_items": null,
            "left": null,
            "margin": null,
            "max_height": null,
            "max_width": null,
            "min_height": null,
            "min_width": null,
            "object_fit": null,
            "object_position": null,
            "order": null,
            "overflow": null,
            "overflow_x": null,
            "overflow_y": null,
            "padding": null,
            "right": null,
            "top": null,
            "visibility": null,
            "width": null
          }
        },
        "86f191632c8a49c4a3bee95050b71afe": {
          "model_module": "@jupyter-widgets/controls",
          "model_name": "DescriptionStyleModel",
          "model_module_version": "1.5.0",
          "state": {
            "_model_module": "@jupyter-widgets/controls",
            "_model_module_version": "1.5.0",
            "_model_name": "DescriptionStyleModel",
            "_view_count": null,
            "_view_module": "@jupyter-widgets/base",
            "_view_module_version": "1.2.0",
            "_view_name": "StyleView",
            "description_width": ""
          }
        }
      }
    }
  },
  "cells": [
    {
      "cell_type": "markdown",
      "metadata": {
        "id": "view-in-github",
        "colab_type": "text"
      },
      "source": [
        "<a href=\"https://colab.research.google.com/github/nitingarg2015/EVA8/blob/master/Assignment%209/Assignment_9_V1.ipynb\" target=\"_parent\"><img src=\"https://colab.research.google.com/assets/colab-badge.svg\" alt=\"Open In Colab\"/></a>"
      ]
    },
    {
      "cell_type": "markdown",
      "source": [
        "## Install required libraries/ packages"
      ],
      "metadata": {
        "id": "NmpyMqhMrD65"
      }
    },
    {
      "cell_type": "code",
      "execution_count": 1,
      "metadata": {
        "id": "InFJa1m8hwd1"
      },
      "outputs": [],
      "source": [
        "\n",
        "from __future__ import print_function\n",
        "import torch\n",
        "import torch.nn as nn\n",
        "import torch.nn.functional as F\n",
        "import torch.optim as optim\n",
        "from torchvision import datasets, transforms\n",
        "import torchvision\n",
        "from torch.optim.lr_scheduler import StepLR # Import your choice of scheduler here\n",
        "import albumentations as A\n",
        "from albumentations.pytorch import ToTensorV2\n",
        "\n",
        "%matplotlib inline\n",
        "from torch.utils.data import DataLoader\n",
        "import math\n"
      ]
    },
    {
      "cell_type": "code",
      "source": [
        "#install torchsummary and torch-lr-finder if required\n",
        "\n",
        "try:\n",
        "    from torchsummary import summary\n",
        "except ImportError:\n",
        "    !pip install torchsummary\n",
        "    from torchsummary import summary\n",
        "\n",
        "try:\n",
        "    from torch_lr_finder import LRFinder, TrainDataLoaderIter, ValDataLoaderIter\n",
        "except ImportError:\n",
        "    !pip install torch-lr-finder\n",
        "    from torch_lr_finder import LRFinder\n",
        "\n",
        "# !pip install grad-cam\n",
        "\n",
        "use_cuda = torch.cuda.is_available()\n",
        "device = torch.device(\"cuda\" if use_cuda else \"cpu\")"
      ],
      "metadata": {
        "colab": {
          "base_uri": "https://localhost:8080/"
        },
        "id": "dswEkM7ZrKo0",
        "outputId": "89f0f962-7f4f-430e-d385-8ea34c2c6427"
      },
      "execution_count": 2,
      "outputs": [
        {
          "output_type": "stream",
          "name": "stdout",
          "text": [
            "Looking in indexes: https://pypi.org/simple, https://us-python.pkg.dev/colab-wheels/public/simple/\n",
            "Collecting torch-lr-finder\n",
            "  Downloading torch_lr_finder-0.2.1-py3-none-any.whl (11 kB)\n",
            "Requirement already satisfied: matplotlib in /usr/local/lib/python3.8/dist-packages (from torch-lr-finder) (3.2.2)\n",
            "Requirement already satisfied: tqdm in /usr/local/lib/python3.8/dist-packages (from torch-lr-finder) (4.64.1)\n",
            "Requirement already satisfied: packaging in /usr/local/lib/python3.8/dist-packages (from torch-lr-finder) (23.0)\n",
            "Requirement already satisfied: torch>=0.4.1 in /usr/local/lib/python3.8/dist-packages (from torch-lr-finder) (1.13.1+cu116)\n",
            "Requirement already satisfied: numpy in /usr/local/lib/python3.8/dist-packages (from torch-lr-finder) (1.22.4)\n",
            "Requirement already satisfied: typing-extensions in /usr/local/lib/python3.8/dist-packages (from torch>=0.4.1->torch-lr-finder) (4.5.0)\n",
            "Requirement already satisfied: python-dateutil>=2.1 in /usr/local/lib/python3.8/dist-packages (from matplotlib->torch-lr-finder) (2.8.2)\n",
            "Requirement already satisfied: kiwisolver>=1.0.1 in /usr/local/lib/python3.8/dist-packages (from matplotlib->torch-lr-finder) (1.4.4)\n",
            "Requirement already satisfied: pyparsing!=2.0.4,!=2.1.2,!=2.1.6,>=2.0.1 in /usr/local/lib/python3.8/dist-packages (from matplotlib->torch-lr-finder) (3.0.9)\n",
            "Requirement already satisfied: cycler>=0.10 in /usr/local/lib/python3.8/dist-packages (from matplotlib->torch-lr-finder) (0.11.0)\n",
            "Requirement already satisfied: six>=1.5 in /usr/local/lib/python3.8/dist-packages (from python-dateutil>=2.1->matplotlib->torch-lr-finder) (1.15.0)\n",
            "Installing collected packages: torch-lr-finder\n",
            "Successfully installed torch-lr-finder-0.2.1\n"
          ]
        }
      ]
    },
    {
      "cell_type": "markdown",
      "source": [
        "## Clone model, utility and other files from Git repository"
      ],
      "metadata": {
        "id": "9z3btxPX8KN5"
      }
    },
    {
      "cell_type": "code",
      "source": [
        "!git clone  https://github.com/nitingarg2015/Refs.git"
      ],
      "metadata": {
        "id": "0dVfzbTOqK9J",
        "colab": {
          "base_uri": "https://localhost:8080/"
        },
        "outputId": "93cf21db-5526-4006-dc7f-05fed545fe4d"
      },
      "execution_count": 3,
      "outputs": [
        {
          "output_type": "stream",
          "name": "stdout",
          "text": [
            "Cloning into 'Refs'...\n",
            "remote: Enumerating objects: 110, done.\u001b[K\n",
            "remote: Counting objects: 100% (110/110), done.\u001b[K\n",
            "remote: Compressing objects: 100% (75/75), done.\u001b[K\n",
            "remote: Total 110 (delta 58), reused 81 (delta 34), pack-reused 0\u001b[K\n",
            "Receiving objects: 100% (110/110), 25.00 KiB | 25.00 MiB/s, done.\n",
            "Resolving deltas: 100% (58/58), done.\n"
          ]
        }
      ]
    },
    {
      "cell_type": "markdown",
      "source": [
        "## Import and load Ultimus model"
      ],
      "metadata": {
        "id": "AWXgbm1J8R__"
      }
    },
    {
      "cell_type": "code",
      "source": [
        "from Refs.models import basic_attention\n",
        "\n",
        "model = basic_attention.AttnNet(in_nodes = 48, d_k = 8, dropout=0.1, no_classes=10)\n",
        "model"
      ],
      "metadata": {
        "id": "R3kZkzQDzjqP",
        "colab": {
          "base_uri": "https://localhost:8080/"
        },
        "outputId": "219ae7cf-1b1e-413a-88c3-3596a35d77dd"
      },
      "execution_count": 4,
      "outputs": [
        {
          "output_type": "execute_result",
          "data": {
            "text/plain": [
              "AttentionNet(\n",
              "  (conv): ConvNet(\n",
              "    (conv1): Sequential(\n",
              "      (0): Conv2d(3, 16, kernel_size=(3, 3), stride=(2, 2), padding=(1, 1))\n",
              "      (1): BatchNorm2d(16, eps=1e-05, momentum=0.1, affine=True, track_running_stats=True)\n",
              "      (2): Dropout(p=0.1, inplace=False)\n",
              "    )\n",
              "    (conv2): Sequential(\n",
              "      (0): Conv2d(16, 32, kernel_size=(3, 3), stride=(2, 2), padding=(1, 1))\n",
              "      (1): BatchNorm2d(32, eps=1e-05, momentum=0.1, affine=True, track_running_stats=True)\n",
              "      (2): Dropout(p=0.1, inplace=False)\n",
              "    )\n",
              "    (conv3): Sequential(\n",
              "      (0): Conv2d(32, 48, kernel_size=(3, 3), stride=(2, 2), padding=(1, 1))\n",
              "      (1): BatchNorm2d(48, eps=1e-05, momentum=0.1, affine=True, track_running_stats=True)\n",
              "      (2): Dropout(p=0.1, inplace=False)\n",
              "    )\n",
              "    (GAP): Sequential(\n",
              "      (0): AvgPool2d(kernel_size=4, stride=4, padding=0)\n",
              "    )\n",
              "  )\n",
              "  (ultimus1): Ultimus(\n",
              "    (query): Linear(in_features=48, out_features=8, bias=True)\n",
              "    (keys): Linear(in_features=48, out_features=8, bias=True)\n",
              "    (values): Linear(in_features=48, out_features=8, bias=True)\n",
              "    (fc1): Linear(in_features=8, out_features=48, bias=True)\n",
              "  )\n",
              "  (ultimus2): Ultimus(\n",
              "    (query): Linear(in_features=48, out_features=8, bias=True)\n",
              "    (keys): Linear(in_features=48, out_features=8, bias=True)\n",
              "    (values): Linear(in_features=48, out_features=8, bias=True)\n",
              "    (fc1): Linear(in_features=8, out_features=48, bias=True)\n",
              "  )\n",
              "  (ultimus3): Ultimus(\n",
              "    (query): Linear(in_features=48, out_features=8, bias=True)\n",
              "    (keys): Linear(in_features=48, out_features=8, bias=True)\n",
              "    (values): Linear(in_features=48, out_features=8, bias=True)\n",
              "    (fc1): Linear(in_features=8, out_features=48, bias=True)\n",
              "  )\n",
              "  (ultimus4): Ultimus(\n",
              "    (query): Linear(in_features=48, out_features=8, bias=True)\n",
              "    (keys): Linear(in_features=48, out_features=8, bias=True)\n",
              "    (values): Linear(in_features=48, out_features=8, bias=True)\n",
              "    (fc1): Linear(in_features=8, out_features=48, bias=True)\n",
              "  )\n",
              "  (fc): Linear(in_features=48, out_features=10, bias=True)\n",
              ")"
            ]
          },
          "metadata": {},
          "execution_count": 4
        }
      ]
    },
    {
      "cell_type": "code",
      "source": [
        "summary(model.to(device), input_size=(3, 32, 32))"
      ],
      "metadata": {
        "id": "JR0DXCFBrSn2",
        "colab": {
          "base_uri": "https://localhost:8080/"
        },
        "outputId": "865b7f28-749b-4375-e036-10e72fab0723"
      },
      "execution_count": 5,
      "outputs": [
        {
          "output_type": "stream",
          "name": "stdout",
          "text": [
            "----------------------------------------------------------------\n",
            "        Layer (type)               Output Shape         Param #\n",
            "================================================================\n",
            "            Conv2d-1           [-1, 16, 16, 16]             448\n",
            "       BatchNorm2d-2           [-1, 16, 16, 16]              32\n",
            "           Dropout-3           [-1, 16, 16, 16]               0\n",
            "            Conv2d-4             [-1, 32, 8, 8]           4,640\n",
            "       BatchNorm2d-5             [-1, 32, 8, 8]              64\n",
            "           Dropout-6             [-1, 32, 8, 8]               0\n",
            "            Conv2d-7             [-1, 48, 4, 4]          13,872\n",
            "       BatchNorm2d-8             [-1, 48, 4, 4]              96\n",
            "           Dropout-9             [-1, 48, 4, 4]               0\n",
            "        AvgPool2d-10             [-1, 48, 1, 1]               0\n",
            "          ConvNet-11                   [-1, 48]               0\n",
            "           Linear-12                    [-1, 8]             392\n",
            "           Linear-13                    [-1, 8]             392\n",
            "           Linear-14                    [-1, 8]             392\n",
            "           Linear-15                   [-1, 48]             432\n",
            "          Ultimus-16                   [-1, 48]               0\n",
            "           Linear-17                    [-1, 8]             392\n",
            "           Linear-18                    [-1, 8]             392\n",
            "           Linear-19                    [-1, 8]             392\n",
            "           Linear-20                   [-1, 48]             432\n",
            "          Ultimus-21                   [-1, 48]               0\n",
            "           Linear-22                    [-1, 8]             392\n",
            "           Linear-23                    [-1, 8]             392\n",
            "           Linear-24                    [-1, 8]             392\n",
            "           Linear-25                   [-1, 48]             432\n",
            "          Ultimus-26                   [-1, 48]               0\n",
            "           Linear-27                    [-1, 8]             392\n",
            "           Linear-28                    [-1, 8]             392\n",
            "           Linear-29                    [-1, 8]             392\n",
            "           Linear-30                   [-1, 48]             432\n",
            "          Ultimus-31                   [-1, 48]               0\n",
            "           Linear-32                   [-1, 10]             490\n",
            "================================================================\n",
            "Total params: 26,074\n",
            "Trainable params: 26,074\n",
            "Non-trainable params: 0\n",
            "----------------------------------------------------------------\n",
            "Input size (MB): 0.01\n",
            "Forward/backward pass size (MB): 0.16\n",
            "Params size (MB): 0.10\n",
            "Estimated Total Size (MB): 0.27\n",
            "----------------------------------------------------------------\n"
          ]
        }
      ]
    },
    {
      "cell_type": "markdown",
      "source": [
        "## Load CIFAR train and test data loaders"
      ],
      "metadata": {
        "id": "UwHVuGD98XIp"
      }
    },
    {
      "cell_type": "code",
      "source": [
        "#import load_CIFAR_dataloader\n",
        "\n",
        "from Refs.utils import CIFARdata \n",
        "\n",
        "#set batch size\n",
        "batch_size = 512\n",
        "\n",
        "#load training dataset\n",
        "classes, train_loader = CIFARdata.load_CIFAR_dataloader(train = True, transform = True, batch_size = batch_size)\n",
        "#load test dataset\n",
        "_, test_loader = CIFARdata.load_CIFAR_dataloader(train = False, transform = False, batch_size = batch_size)\n",
        "\n",
        "len(train_loader), len(test_loader)"
      ],
      "metadata": {
        "colab": {
          "base_uri": "https://localhost:8080/",
          "height": 122,
          "referenced_widgets": [
            "199eaaa3312d4cbc93b5ab4ed7e86bee",
            "376ac51c62df484f9c7da7f694bfc388",
            "e0dc28f867d34a7da63d4fa3d1ab4281",
            "7e0ae49a1cfb47b8a41b362eafc79e9d",
            "877a7fbad00b4bc5bf2b56283611bc27",
            "b529b0365708450d90cee948507580a9",
            "86f00cc4de144859bd9336e64ae385d6",
            "ca44b5fc687f4c20965c605d3500b8c3",
            "23f7ed4a9ec84301b5d340a106756eb9",
            "a35d652b4f2b44d4865e813dd3e7f1f2",
            "86f191632c8a49c4a3bee95050b71afe"
          ]
        },
        "id": "0VMcTvau0fm-",
        "outputId": "ca0017b1-4796-4da7-fdca-f1de07080f0a"
      },
      "execution_count": 6,
      "outputs": [
        {
          "output_type": "stream",
          "name": "stdout",
          "text": [
            "Downloading https://www.cs.toronto.edu/~kriz/cifar-10-python.tar.gz to ./data/cifar-10-python.tar.gz\n"
          ]
        },
        {
          "output_type": "display_data",
          "data": {
            "text/plain": [
              "  0%|          | 0/170498071 [00:00<?, ?it/s]"
            ],
            "application/vnd.jupyter.widget-view+json": {
              "version_major": 2,
              "version_minor": 0,
              "model_id": "199eaaa3312d4cbc93b5ab4ed7e86bee"
            }
          },
          "metadata": {}
        },
        {
          "output_type": "stream",
          "name": "stdout",
          "text": [
            "Extracting ./data/cifar-10-python.tar.gz to ./data\n",
            "Files already downloaded and verified\n"
          ]
        },
        {
          "output_type": "execute_result",
          "data": {
            "text/plain": [
              "(98, 20)"
            ]
          },
          "metadata": {},
          "execution_count": 6
        }
      ]
    },
    {
      "cell_type": "markdown",
      "source": [
        "## View sample images"
      ],
      "metadata": {
        "id": "oAAbSR5Q8chq"
      }
    },
    {
      "cell_type": "code",
      "source": [
        "# get some random training images\n",
        "from Refs.utils import utils\n",
        "\n",
        "import matplotlib.pyplot as plt\n",
        "images, labels = next(iter(train_loader))\n",
        "\n",
        "no_images = 10\n",
        "\n",
        "figure = plt.figure(figsize=(12, 5))\n",
        "\n",
        "for index in range(1, no_images + 1):\n",
        "    plt.subplot(2, 5, index)\n",
        "    utils.imshow(images[index - 1])\n",
        "    plt.tick_params(left=False, right=False, labelleft=False,\n",
        "                    labelbottom=False, bottom=False)\n",
        "    title = str(classes[labels[index - 1]])\n",
        "    plt.title(title)\n"
      ],
      "metadata": {
        "colab": {
          "base_uri": "https://localhost:8080/",
          "height": 311
        },
        "id": "E4_twiD3dlt4",
        "outputId": "0f3e0568-98f0-4678-d7f7-48bc1cf30d96"
      },
      "execution_count": 7,
      "outputs": [
        {
          "output_type": "display_data",
          "data": {
            "text/plain": [
              "<Figure size 864x360 with 10 Axes>"
            ],
            "image/png": "[encoded data removed]"
          },
          "metadata": {}
        }
      ]
    },
    {
      "cell_type": "markdown",
      "source": [
        "## Train model for 24 Epochs with CIFAR train data loader"
      ],
      "metadata": {
        "id": "XoVDIbQ-8frV"
      }
    },
    {
      "cell_type": "code",
      "source": [
        "from Refs import main_ass8\n",
        "model = basic_attention.AttnNet(in_nodes = 48, d_k = 8, dropout=0, no_classes=10).to(device)\n",
        "\n",
        "optimizer = torch.optim.Adam(model.parameters(), lr=0.0001)\n",
        "\n",
        "scheduler = torch.optim.lr_scheduler.OneCycleLR(optimizer, \n",
        "                                                max_lr=0.001,\n",
        "                                                steps_per_epoch=len(train_loader), \n",
        "                                                epochs=24,\n",
        "                                                pct_start=0.15,\n",
        "                                                div_factor=10,\n",
        "                                                three_phase=False, \n",
        "                                                #final_div_factor=1000,\n",
        "                                                anneal_strategy='linear'\n",
        "                                                ) \n",
        "\n",
        "model_tr, train_losses, train_acc_all, test_losses, test_acc_all = main_ass8.fit_model(\n",
        "                                                    model=model, \n",
        "                                                    device=device,\n",
        "                                                    trainloader=train_loader, \n",
        "                                                    testloader=test_loader,\n",
        "                                                    criterion = nn.CrossEntropyLoss(),\n",
        "                                                    EPOCHS=24,\n",
        "                                                    optimizer=optimizer,\n",
        "                                                    scheduler=scheduler  \n",
        "                                                )"
      ],
      "metadata": {
        "id": "SUd6NdGF4o2g",
        "colab": {
          "base_uri": "https://localhost:8080/"
        },
        "outputId": "f44c4816-de24-4778-eb02-3098b1620c58"
      },
      "execution_count": 10,
      "outputs": [
        {
          "output_type": "stream",
          "name": "stdout",
          "text": [
            "EPOCH: 1 (LR: 0.0001)\n"
          ]
        },
        {
          "output_type": "stream",
          "name": "stderr",
          "text": [
            "100%|██████████| 98/98 [00:09<00:00, 10.12it/s]\n"
          ]
        },
        {
          "output_type": "stream",
          "name": "stdout",
          "text": [
            "\n",
            "Average Training Loss=0.004513149185180664, Accuracy=10.0\n",
            "Test set: Average loss: 0.0046, Accuracy: 1000/10000 (10.00%)\n",
            "\n",
            "EPOCH: 2 (LR: 0.0003507106310403638)\n"
          ]
        },
        {
          "output_type": "stream",
          "name": "stderr",
          "text": [
            "100%|██████████| 98/98 [00:09<00:00, 10.20it/s]\n"
          ]
        },
        {
          "output_type": "stream",
          "name": "stdout",
          "text": [
            "\n",
            "Average Training Loss=0.00451313223361969, Accuracy=10.0\n",
            "Test set: Average loss: 0.0046, Accuracy: 1000/10000 (10.00%)\n",
            "\n",
            "EPOCH: 3 (LR: 0.0006014212620807277)\n"
          ]
        },
        {
          "output_type": "stream",
          "name": "stderr",
          "text": [
            "100%|██████████| 98/98 [00:09<00:00, 10.22it/s]\n"
          ]
        },
        {
          "output_type": "stream",
          "name": "stdout",
          "text": [
            "\n",
            "Average Training Loss=0.0045057374477386475, Accuracy=13.242\n",
            "Test set: Average loss: 0.0046, Accuracy: 1674/10000 (16.74%)\n",
            "\n",
            "EPOCH: 4 (LR: 0.0008521318931210915)\n"
          ]
        },
        {
          "output_type": "stream",
          "name": "stderr",
          "text": [
            "100%|██████████| 98/98 [00:09<00:00, 10.22it/s]\n"
          ]
        },
        {
          "output_type": "stream",
          "name": "stdout",
          "text": [
            "\n",
            "Average Training Loss=0.004402688765525818, Accuracy=18.458\n",
            "Test set: Average loss: 0.0045, Accuracy: 1900/10000 (19.00%)\n",
            "\n",
            "EPOCH: 5 (LR: 0.0009798921578631453)\n"
          ]
        },
        {
          "output_type": "stream",
          "name": "stderr",
          "text": [
            "100%|██████████| 98/98 [00:09<00:00, 10.10it/s]\n"
          ]
        },
        {
          "output_type": "stream",
          "name": "stdout",
          "text": [
            "\n",
            "Average Training Loss=0.004365225620269775, Accuracy=18.84\n",
            "Test set: Average loss: 0.0044, Accuracy: 1924/10000 (19.24%)\n",
            "\n",
            "EPOCH: 6 (LR: 0.0009308730402160865)\n"
          ]
        },
        {
          "output_type": "stream",
          "name": "stderr",
          "text": [
            "100%|██████████| 98/98 [00:09<00:00, 10.20it/s]\n"
          ]
        },
        {
          "output_type": "stream",
          "name": "stdout",
          "text": [
            "\n",
            "Average Training Loss=0.004339631428718567, Accuracy=21.304\n",
            "Test set: Average loss: 0.0044, Accuracy: 2341/10000 (23.41%)\n",
            "\n",
            "EPOCH: 7 (LR: 0.0008818539225690276)\n"
          ]
        },
        {
          "output_type": "stream",
          "name": "stderr",
          "text": [
            "100%|██████████| 98/98 [00:09<00:00, 10.23it/s]\n"
          ]
        },
        {
          "output_type": "stream",
          "name": "stdout",
          "text": [
            "\n",
            "Average Training Loss=0.0043180733251571655, Accuracy=23.162\n",
            "Test set: Average loss: 0.0044, Accuracy: 2403/10000 (24.03%)\n",
            "\n",
            "EPOCH: 8 (LR: 0.0008328348049219688)\n"
          ]
        },
        {
          "output_type": "stream",
          "name": "stderr",
          "text": [
            "100%|██████████| 98/98 [00:09<00:00, 10.16it/s]\n"
          ]
        },
        {
          "output_type": "stream",
          "name": "stdout",
          "text": [
            "\n",
            "Average Training Loss=0.004307409782409668, Accuracy=23.62\n",
            "Test set: Average loss: 0.0044, Accuracy: 2455/10000 (24.55%)\n",
            "\n",
            "EPOCH: 9 (LR: 0.0007838156872749099)\n"
          ]
        },
        {
          "output_type": "stream",
          "name": "stderr",
          "text": [
            "100%|██████████| 98/98 [00:09<00:00, 10.03it/s]\n"
          ]
        },
        {
          "output_type": "stream",
          "name": "stdout",
          "text": [
            "\n",
            "Average Training Loss=0.004298781142234802, Accuracy=23.994\n",
            "Test set: Average loss: 0.0044, Accuracy: 2439/10000 (24.39%)\n",
            "\n",
            "EPOCH: 10 (LR: 0.0007347965696278511)\n"
          ]
        },
        {
          "output_type": "stream",
          "name": "stderr",
          "text": [
            "100%|██████████| 98/98 [00:09<00:00, 10.09it/s]\n"
          ]
        },
        {
          "output_type": "stream",
          "name": "stdout",
          "text": [
            "\n",
            "Average Training Loss=0.004293371601104736, Accuracy=24.194\n",
            "Test set: Average loss: 0.0044, Accuracy: 2529/10000 (25.29%)\n",
            "\n",
            "EPOCH: 11 (LR: 0.0006857774519807922)\n"
          ]
        },
        {
          "output_type": "stream",
          "name": "stderr",
          "text": [
            "100%|██████████| 98/98 [00:09<00:00,  9.97it/s]\n"
          ]
        },
        {
          "output_type": "stream",
          "name": "stdout",
          "text": [
            "\n",
            "Average Training Loss=0.004289733939170837, Accuracy=24.41\n",
            "Test set: Average loss: 0.0044, Accuracy: 2499/10000 (24.99%)\n",
            "\n",
            "EPOCH: 12 (LR: 0.0006367583343337335)\n"
          ]
        },
        {
          "output_type": "stream",
          "name": "stderr",
          "text": [
            "100%|██████████| 98/98 [00:09<00:00, 10.13it/s]\n"
          ]
        },
        {
          "output_type": "stream",
          "name": "stdout",
          "text": [
            "\n",
            "Average Training Loss=0.004283499712944031, Accuracy=24.87\n",
            "Test set: Average loss: 0.0044, Accuracy: 2544/10000 (25.44%)\n",
            "\n",
            "EPOCH: 13 (LR: 0.0005877392166866747)\n"
          ]
        },
        {
          "output_type": "stream",
          "name": "stderr",
          "text": [
            "100%|██████████| 98/98 [00:09<00:00, 10.23it/s]\n"
          ]
        },
        {
          "output_type": "stream",
          "name": "stdout",
          "text": [
            "\n",
            "Average Training Loss=0.004283380365371704, Accuracy=24.954\n",
            "Test set: Average loss: 0.0044, Accuracy: 2524/10000 (25.24%)\n",
            "\n",
            "EPOCH: 14 (LR: 0.0005387200990396158)\n"
          ]
        },
        {
          "output_type": "stream",
          "name": "stderr",
          "text": [
            "100%|██████████| 98/98 [00:09<00:00, 10.20it/s]\n"
          ]
        },
        {
          "output_type": "stream",
          "name": "stdout",
          "text": [
            "\n",
            "Average Training Loss=0.004278504252433777, Accuracy=25.474\n",
            "Test set: Average loss: 0.0044, Accuracy: 2602/10000 (26.02%)\n",
            "\n",
            "EPOCH: 15 (LR: 0.000489700981392557)\n"
          ]
        },
        {
          "output_type": "stream",
          "name": "stderr",
          "text": [
            "100%|██████████| 98/98 [00:09<00:00, 10.22it/s]\n"
          ]
        },
        {
          "output_type": "stream",
          "name": "stdout",
          "text": [
            "\n",
            "Average Training Loss=0.004272243375778198, Accuracy=26.268\n",
            "Test set: Average loss: 0.0043, Accuracy: 2742/10000 (27.42%)\n",
            "\n",
            "EPOCH: 16 (LR: 0.00044068186374549814)\n"
          ]
        },
        {
          "output_type": "stream",
          "name": "stderr",
          "text": [
            "100%|██████████| 98/98 [00:09<00:00, 10.20it/s]\n"
          ]
        },
        {
          "output_type": "stream",
          "name": "stdout",
          "text": [
            "\n",
            "Average Training Loss=0.004265599913597107, Accuracy=27.118\n",
            "Test set: Average loss: 0.0043, Accuracy: 2881/10000 (28.81%)\n",
            "\n",
            "EPOCH: 17 (LR: 0.0003916627460984394)\n"
          ]
        },
        {
          "output_type": "stream",
          "name": "stderr",
          "text": [
            "100%|██████████| 98/98 [00:09<00:00, 10.21it/s]\n"
          ]
        },
        {
          "output_type": "stream",
          "name": "stdout",
          "text": [
            "\n",
            "Average Training Loss=0.004259399099349976, Accuracy=27.742\n",
            "Test set: Average loss: 0.0043, Accuracy: 2952/10000 (29.52%)\n",
            "\n",
            "EPOCH: 18 (LR: 0.00034264362845138046)\n"
          ]
        },
        {
          "output_type": "stream",
          "name": "stderr",
          "text": [
            "100%|██████████| 98/98 [00:09<00:00, 10.20it/s]\n"
          ]
        },
        {
          "output_type": "stream",
          "name": "stdout",
          "text": [
            "\n",
            "Average Training Loss=0.004248260164260865, Accuracy=28.638\n",
            "Test set: Average loss: 0.0043, Accuracy: 2965/10000 (29.65%)\n",
            "\n",
            "EPOCH: 19 (LR: 0.0002936245108043217)\n"
          ]
        },
        {
          "output_type": "stream",
          "name": "stderr",
          "text": [
            "100%|██████████| 98/98 [00:09<00:00, 10.16it/s]\n"
          ]
        },
        {
          "output_type": "stream",
          "name": "stdout",
          "text": [
            "\n",
            "Average Training Loss=0.004241198077201843, Accuracy=28.892\n",
            "Test set: Average loss: 0.0043, Accuracy: 3050/10000 (30.50%)\n",
            "\n",
            "EPOCH: 20 (LR: 0.0002446053931572629)\n"
          ]
        },
        {
          "output_type": "stream",
          "name": "stderr",
          "text": [
            "100%|██████████| 98/98 [00:09<00:00, 10.16it/s]\n"
          ]
        },
        {
          "output_type": "stream",
          "name": "stdout",
          "text": [
            "\n",
            "Average Training Loss=0.004236304197311401, Accuracy=28.924\n",
            "Test set: Average loss: 0.0043, Accuracy: 2971/10000 (29.71%)\n",
            "\n",
            "EPOCH: 21 (LR: 0.00019558627551020404)\n"
          ]
        },
        {
          "output_type": "stream",
          "name": "stderr",
          "text": [
            "100%|██████████| 98/98 [00:09<00:00, 10.19it/s]\n"
          ]
        },
        {
          "output_type": "stream",
          "name": "stdout",
          "text": [
            "\n",
            "Average Training Loss=0.0042290030097961425, Accuracy=29.414\n",
            "Test set: Average loss: 0.0043, Accuracy: 3083/10000 (30.83%)\n",
            "\n",
            "EPOCH: 22 (LR: 0.0001465671578631452)\n"
          ]
        },
        {
          "output_type": "stream",
          "name": "stderr",
          "text": [
            "100%|██████████| 98/98 [00:09<00:00, 10.08it/s]\n"
          ]
        },
        {
          "output_type": "stream",
          "name": "stdout",
          "text": [
            "\n",
            "Average Training Loss=0.004227466506958008, Accuracy=29.408\n",
            "Test set: Average loss: 0.0043, Accuracy: 3051/10000 (30.51%)\n",
            "\n",
            "EPOCH: 23 (LR: 9.754804021608636e-05)\n"
          ]
        },
        {
          "output_type": "stream",
          "name": "stderr",
          "text": [
            "100%|██████████| 98/98 [00:09<00:00, 10.18it/s]\n"
          ]
        },
        {
          "output_type": "stream",
          "name": "stdout",
          "text": [
            "\n",
            "Average Training Loss=0.004223490085601807, Accuracy=29.698\n",
            "Test set: Average loss: 0.0043, Accuracy: 3089/10000 (30.89%)\n",
            "\n",
            "EPOCH: 24 (LR: 4.852892256902762e-05)\n"
          ]
        },
        {
          "output_type": "stream",
          "name": "stderr",
          "text": [
            "100%|██████████| 98/98 [00:09<00:00, 10.17it/s]\n"
          ]
        },
        {
          "output_type": "stream",
          "name": "stdout",
          "text": [
            "\n",
            "Average Training Loss=0.0042196294403076175, Accuracy=29.918\n",
            "Test set: Average loss: 0.0043, Accuracy: 3093/10000 (30.93%)\n",
            "\n"
          ]
        }
      ]
    },
    {
      "cell_type": "markdown",
      "source": [
        "## Plot training/ test Accuracy and Loss"
      ],
      "metadata": {
        "id": "nswjIktIn_1u"
      }
    },
    {
      "cell_type": "code",
      "source": [
        "from Refs.utils import utils\n",
        "\n",
        "utils.plot_LossAndAcc(train_acc_all, train_losses,test_acc_all,test_losses)"
      ],
      "metadata": {
        "colab": {
          "base_uri": "https://localhost:8080/",
          "height": 404
        },
        "id": "Q5pFFH_6oEmv",
        "outputId": "ec28c510-1901-4d4a-85d4-96ab3b558def"
      },
      "execution_count": 11,
      "outputs": [
        {
          "output_type": "display_data",
          "data": {
            "text/plain": [
              "<Figure size 1080x432 with 2 Axes>"
            ],
            "image/png": "[encoded data removed]"
          },
          "metadata": {
            "needs_background": "light"
          }
        }
      ]
    },
    {
      "cell_type": "markdown",
      "source": [
        "## Test Accuracy"
      ],
      "metadata": {
        "id": "N7JpEbsiMV1B"
      }
    },
    {
      "cell_type": "code",
      "source": [
        "from Refs import main_ass8\n",
        "\n",
        "main_ass8.test(model, device, test_loader, criterion = nn.CrossEntropyLoss())"
      ],
      "metadata": {
        "colab": {
          "base_uri": "https://localhost:8080/"
        },
        "id": "MJ_h1UTl-stq",
        "outputId": "cf1eebc3-85a6-447e-91e2-8715355b85dd"
      },
      "execution_count": 12,
      "outputs": [
        {
          "output_type": "stream",
          "name": "stdout",
          "text": [
            "Test set: Average loss: 0.0043, Accuracy: 3093/10000 (30.93%)\n",
            "\n"
          ]
        },
        {
          "output_type": "execute_result",
          "data": {
            "text/plain": [
              "(0.004290341019630432, 30.93)"
            ]
          },
          "metadata": {},
          "execution_count": 12
        }
      ]
    },
    {
      "cell_type": "markdown",
      "source": [
        "## Retrieve data for misclassified images"
      ],
      "metadata": {
        "id": "B2E0a7-uciyO"
      }
    },
    {
      "cell_type": "code",
      "source": [
        "from Refs.utils import utils\n",
        "\n",
        "data_images, pred_labels, target_labels = utils.get_mis_classified_byloader(model, device, test_loader)\n",
        "print(len(data_images), len(pred_labels), len(target_labels))"
      ],
      "metadata": {
        "id": "5F2xVtBSZGII",
        "colab": {
          "base_uri": "https://localhost:8080/"
        },
        "outputId": "86fa83ca-1477-4da9-b543-5b6bb27af508"
      },
      "execution_count": 13,
      "outputs": [
        {
          "output_type": "stream",
          "name": "stdout",
          "text": [
            "6907 6907 6907\n"
          ]
        }
      ]
    },
    {
      "cell_type": "markdown",
      "source": [
        "## Plot mis classified images"
      ],
      "metadata": {
        "id": "Adwzn7joMD9u"
      }
    },
    {
      "cell_type": "code",
      "source": [
        "import matplotlib.pyplot as plt\n",
        "from Refs.utils import utils\n",
        "        \n",
        "utils.plot_misclassified(data_images, target_labels, pred_labels, classes, no_images= 10)"
      ],
      "metadata": {
        "colab": {
          "base_uri": "https://localhost:8080/",
          "height": 326
        },
        "id": "yOXgNUaC_HMK",
        "outputId": "3eb4a645-e289-4664-93e4-5ed4ef3cc05f"
      },
      "execution_count": 14,
      "outputs": [
        {
          "output_type": "display_data",
          "data": {
            "text/plain": [
              "<Figure size 864x360 with 10 Axes>"
            ],
            "image/png": "[encoded data removed]"
          },
          "metadata": {}
        }
      ]
    }
  ]
}