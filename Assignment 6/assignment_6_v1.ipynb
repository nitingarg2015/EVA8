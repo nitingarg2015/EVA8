{
  "nbformat": 4,
  "nbformat_minor": 0,
  "metadata": {
    "colab": {
      "provenance": [],
      "authorship_tag": "ABX9TyM4qnMvH8CVCjfmsXYnwr7L",
      "include_colab_link": true
    },
    "kernelspec": {
      "name": "python3",
      "display_name": "Python 3"
    },
    "language_info": {
      "name": "python"
    },
    "gpuClass": "standard",
    "widgets": {
      "application/vnd.jupyter.widget-state+json": {
        "3d25cb6f6bc54a08b938990b0b62dd12": {
          "model_module": "@jupyter-widgets/controls",
          "model_name": "HBoxModel",
          "model_module_version": "1.5.0",
          "state": {
            "_dom_classes": [],
            "_model_module": "@jupyter-widgets/controls",
            "_model_module_version": "1.5.0",
            "_model_name": "HBoxModel",
            "_view_count": null,
            "_view_module": "@jupyter-widgets/controls",
            "_view_module_version": "1.5.0",
            "_view_name": "HBoxView",
            "box_style": "",
            "children": [
              "IPY_MODEL_fbb8ff32e22e478e8c3e45680cd3c5ab",
              "IPY_MODEL_c92acb82f3ab41dda6ab5f77558c8556",
              "IPY_MODEL_230f913d95484e0298e463a8daf1a89a"
            ],
            "layout": "IPY_MODEL_230fde5ecbcf4598bfa59f5c66caa196"
          }
        },
        "fbb8ff32e22e478e8c3e45680cd3c5ab": {
          "model_module": "@jupyter-widgets/controls",
          "model_name": "HTMLModel",
          "model_module_version": "1.5.0",
          "state": {
            "_dom_classes": [],
            "_model_module": "@jupyter-widgets/controls",
            "_model_module_version": "1.5.0",
            "_model_name": "HTMLModel",
            "_view_count": null,
            "_view_module": "@jupyter-widgets/controls",
            "_view_module_version": "1.5.0",
            "_view_name": "HTMLView",
            "description": "",
            "description_tooltip": null,
            "layout": "IPY_MODEL_8547165ef6b9425dac0d33b2bfa7a7d6",
            "placeholder": "​",
            "style": "IPY_MODEL_d337a6314d8e4b6abf4d212db0e9ba0e",
            "value": "100%"
          }
        },
        "c92acb82f3ab41dda6ab5f77558c8556": {
          "model_module": "@jupyter-widgets/controls",
          "model_name": "FloatProgressModel",
          "model_module_version": "1.5.0",
          "state": {
            "_dom_classes": [],
            "_model_module": "@jupyter-widgets/controls",
            "_model_module_version": "1.5.0",
            "_model_name": "FloatProgressModel",
            "_view_count": null,
            "_view_module": "@jupyter-widgets/controls",
            "_view_module_version": "1.5.0",
            "_view_name": "ProgressView",
            "bar_style": "success",
            "description": "",
            "description_tooltip": null,
            "layout": "IPY_MODEL_effa85826b464c17bbfd09c28f319884",
            "max": 170498071,
            "min": 0,
            "orientation": "horizontal",
            "style": "IPY_MODEL_c0001597b87345569f41ce5454396f3d",
            "value": 170498071
          }
        },
        "230f913d95484e0298e463a8daf1a89a": {
          "model_module": "@jupyter-widgets/controls",
          "model_name": "HTMLModel",
          "model_module_version": "1.5.0",
          "state": {
            "_dom_classes": [],
            "_model_module": "@jupyter-widgets/controls",
            "_model_module_version": "1.5.0",
            "_model_name": "HTMLModel",
            "_view_count": null,
            "_view_module": "@jupyter-widgets/controls",
            "_view_module_version": "1.5.0",
            "_view_name": "HTMLView",
            "description": "",
            "description_tooltip": null,
            "layout": "IPY_MODEL_d2967786e15f4b8298a487fa292bc3d6",
            "placeholder": "​",
            "style": "IPY_MODEL_29e702e714164ebaa55edcd1f2764124",
            "value": " 170498071/170498071 [00:13&lt;00:00, 14008018.02it/s]"
          }
        },
        "230fde5ecbcf4598bfa59f5c66caa196": {
          "model_module": "@jupyter-widgets/base",
          "model_name": "LayoutModel",
          "model_module_version": "1.2.0",
          "state": {
            "_model_module": "@jupyter-widgets/base",
            "_model_module_version": "1.2.0",
            "_model_name": "LayoutModel",
            "_view_count": null,
            "_view_module": "@jupyter-widgets/base",
            "_view_module_version": "1.2.0",
            "_view_name": "LayoutView",
            "align_content": null,
            "align_items": null,
            "align_self": null,
            "border": null,
            "bottom": null,
            "display": null,
            "flex": null,
            "flex_flow": null,
            "grid_area": null,
            "grid_auto_columns": null,
            "grid_auto_flow": null,
            "grid_auto_rows": null,
            "grid_column": null,
            "grid_gap": null,
            "grid_row": null,
            "grid_template_areas": null,
            "grid_template_columns": null,
            "grid_template_rows": null,
            "height": null,
            "justify_content": null,
            "justify_items": null,
            "left": null,
            "margin": null,
            "max_height": null,
            "max_width": null,
            "min_height": null,
            "min_width": null,
            "object_fit": null,
            "object_position": null,
            "order": null,
            "overflow": null,
            "overflow_x": null,
            "overflow_y": null,
            "padding": null,
            "right": null,
            "top": null,
            "visibility": null,
            "width": null
          }
        },
        "8547165ef6b9425dac0d33b2bfa7a7d6": {
          "model_module": "@jupyter-widgets/base",
          "model_name": "LayoutModel",
          "model_module_version": "1.2.0",
          "state": {
            "_model_module": "@jupyter-widgets/base",
            "_model_module_version": "1.2.0",
            "_model_name": "LayoutModel",
            "_view_count": null,
            "_view_module": "@jupyter-widgets/base",
            "_view_module_version": "1.2.0",
            "_view_name": "LayoutView",
            "align_content": null,
            "align_items": null,
            "align_self": null,
            "border": null,
            "bottom": null,
            "display": null,
            "flex": null,
            "flex_flow": null,
            "grid_area": null,
            "grid_auto_columns": null,
            "grid_auto_flow": null,
            "grid_auto_rows": null,
            "grid_column": null,
            "grid_gap": null,
            "grid_row": null,
            "grid_template_areas": null,
            "grid_template_columns": null,
            "grid_template_rows": null,
            "height": null,
            "justify_content": null,
            "justify_items": null,
            "left": null,
            "margin": null,
            "max_height": null,
            "max_width": null,
            "min_height": null,
            "min_width": null,
            "object_fit": null,
            "object_position": null,
            "order": null,
            "overflow": null,
            "overflow_x": null,
            "overflow_y": null,
            "padding": null,
            "right": null,
            "top": null,
            "visibility": null,
            "width": null
          }
        },
        "d337a6314d8e4b6abf4d212db0e9ba0e": {
          "model_module": "@jupyter-widgets/controls",
          "model_name": "DescriptionStyleModel",
          "model_module_version": "1.5.0",
          "state": {
            "_model_module": "@jupyter-widgets/controls",
            "_model_module_version": "1.5.0",
            "_model_name": "DescriptionStyleModel",
            "_view_count": null,
            "_view_module": "@jupyter-widgets/base",
            "_view_module_version": "1.2.0",
            "_view_name": "StyleView",
            "description_width": ""
          }
        },
        "effa85826b464c17bbfd09c28f319884": {
          "model_module": "@jupyter-widgets/base",
          "model_name": "LayoutModel",
          "model_module_version": "1.2.0",
          "state": {
            "_model_module": "@jupyter-widgets/base",
            "_model_module_version": "1.2.0",
            "_model_name": "LayoutModel",
            "_view_count": null,
            "_view_module": "@jupyter-widgets/base",
            "_view_module_version": "1.2.0",
            "_view_name": "LayoutView",
            "align_content": null,
            "align_items": null,
            "align_self": null,
            "border": null,
            "bottom": null,
            "display": null,
            "flex": null,
            "flex_flow": null,
            "grid_area": null,
            "grid_auto_columns": null,
            "grid_auto_flow": null,
            "grid_auto_rows": null,
            "grid_column": null,
            "grid_gap": null,
            "grid_row": null,
            "grid_template_areas": null,
            "grid_template_columns": null,
            "grid_template_rows": null,
            "height": null,
            "justify_content": null,
            "justify_items": null,
            "left": null,
            "margin": null,
            "max_height": null,
            "max_width": null,
            "min_height": null,
            "min_width": null,
            "object_fit": null,
            "object_position": null,
            "order": null,
            "overflow": null,
            "overflow_x": null,
            "overflow_y": null,
            "padding": null,
            "right": null,
            "top": null,
            "visibility": null,
            "width": null
          }
        },
        "c0001597b87345569f41ce5454396f3d": {
          "model_module": "@jupyter-widgets/controls",
          "model_name": "ProgressStyleModel",
          "model_module_version": "1.5.0",
          "state": {
            "_model_module": "@jupyter-widgets/controls",
            "_model_module_version": "1.5.0",
            "_model_name": "ProgressStyleModel",
            "_view_count": null,
            "_view_module": "@jupyter-widgets/base",
            "_view_module_version": "1.2.0",
            "_view_name": "StyleView",
            "bar_color": null,
            "description_width": ""
          }
        },
        "d2967786e15f4b8298a487fa292bc3d6": {
          "model_module": "@jupyter-widgets/base",
          "model_name": "LayoutModel",
          "model_module_version": "1.2.0",
          "state": {
            "_model_module": "@jupyter-widgets/base",
            "_model_module_version": "1.2.0",
            "_model_name": "LayoutModel",
            "_view_count": null,
            "_view_module": "@jupyter-widgets/base",
            "_view_module_version": "1.2.0",
            "_view_name": "LayoutView",
            "align_content": null,
            "align_items": null,
            "align_self": null,
            "border": null,
            "bottom": null,
            "display": null,
            "flex": null,
            "flex_flow": null,
            "grid_area": null,
            "grid_auto_columns": null,
            "grid_auto_flow": null,
            "grid_auto_rows": null,
            "grid_column": null,
            "grid_gap": null,
            "grid_row": null,
            "grid_template_areas": null,
            "grid_template_columns": null,
            "grid_template_rows": null,
            "height": null,
            "justify_content": null,
            "justify_items": null,
            "left": null,
            "margin": null,
            "max_height": null,
            "max_width": null,
            "min_height": null,
            "min_width": null,
            "object_fit": null,
            "object_position": null,
            "order": null,
            "overflow": null,
            "overflow_x": null,
            "overflow_y": null,
            "padding": null,
            "right": null,
            "top": null,
            "visibility": null,
            "width": null
          }
        },
        "29e702e714164ebaa55edcd1f2764124": {
          "model_module": "@jupyter-widgets/controls",
          "model_name": "DescriptionStyleModel",
          "model_module_version": "1.5.0",
          "state": {
            "_model_module": "@jupyter-widgets/controls",
            "_model_module_version": "1.5.0",
            "_model_name": "DescriptionStyleModel",
            "_view_count": null,
            "_view_module": "@jupyter-widgets/base",
            "_view_module_version": "1.2.0",
            "_view_name": "StyleView",
            "description_width": ""
          }
        }
      }
    },
    "accelerator": "GPU"
  },
  "cells": [
    {
      "cell_type": "markdown",
      "metadata": {
        "id": "view-in-github",
        "colab_type": "text"
      },
      "source": [
        "<a href=\"https://colab.research.google.com/github/nitingarg2015/EVA8/blob/master/Assignment%206/assignment_6_v1.ipynb\" target=\"_parent\"><img src=\"https://colab.research.google.com/assets/colab-badge.svg\" alt=\"Open In Colab\"/></a>"
      ]
    },
    {
      "cell_type": "markdown",
      "source": [
        "## Predicting CIFAR Dataset - Assignment 6"
      ],
      "metadata": {
        "id": "rM0akbVFVgmf"
      }
    },
    {
      "cell_type": "code",
      "execution_count": 1,
      "metadata": {
        "colab": {
          "base_uri": "https://localhost:8080/"
        },
        "id": "GtksgIt7VVA8",
        "outputId": "c799b859-34a5-43e2-a13b-1a9c4ed05f8b"
      },
      "outputs": [
        {
          "output_type": "stream",
          "name": "stdout",
          "text": [
            "Looking in indexes: https://pypi.org/simple, https://us-python.pkg.dev/colab-wheels/public/simple/\n",
            "Requirement already satisfied: torchsummary in /usr/local/lib/python3.8/dist-packages (1.5.1)\n"
          ]
        }
      ],
      "source": [
        "from __future__ import print_function\n",
        "import torch\n",
        "import torch.nn as nn\n",
        "import torch.nn.functional as F\n",
        "import torch.optim as optim\n",
        "from torchvision import datasets, transforms\n",
        "import torchvision\n",
        "from torch.optim.lr_scheduler import StepLR # Import your choice of scheduler here\n",
        "import albumentations as A\n",
        "from albumentations.pytorch import ToTensorV2\n",
        "\n",
        "!pip install torchsummary\n",
        "from torchsummary import summary\n",
        "use_cuda = torch.cuda.is_available()\n",
        "device = torch.device(\"cuda\" if use_cuda else \"cpu\")"
      ]
    },
    {
      "cell_type": "markdown",
      "source": [
        "## Load model"
      ],
      "metadata": {
        "id": "ortPKkqKPOm1"
      }
    },
    {
      "cell_type": "code",
      "source": [
        "#import model.py - contains model class which accepts type normalization method as input parameter\n",
        "\n",
        "from model import Net\n",
        "\n",
        "#instantiate Net class and check model summary\n",
        "\n",
        "model = Net(dropout = 0.1).to(device)\n",
        "\n",
        "summary(model, input_size=(3, 32, 32))\n"
      ],
      "metadata": {
        "colab": {
          "base_uri": "https://localhost:8080/"
        },
        "id": "ArDjsh3Gtqei",
        "outputId": "96f7e4c5-326d-4e7c-f613-b2f992a416e3"
      },
      "execution_count": 2,
      "outputs": [
        {
          "output_type": "stream",
          "name": "stdout",
          "text": [
            "----------------------------------------------------------------\n",
            "        Layer (type)               Output Shape         Param #\n",
            "================================================================\n",
            "            Conv2d-1           [-1, 32, 32, 32]             896\n",
            "       BatchNorm2d-2           [-1, 32, 32, 32]              64\n",
            "           Dropout-3           [-1, 32, 32, 32]               0\n",
            "            Conv2d-4           [-1, 32, 32, 32]           9,248\n",
            "       BatchNorm2d-5           [-1, 32, 32, 32]              64\n",
            "           Dropout-6           [-1, 32, 32, 32]               0\n",
            "            Conv2d-7           [-1, 64, 16, 16]          18,496\n",
            "       BatchNorm2d-8           [-1, 64, 16, 16]             128\n",
            "           Dropout-9           [-1, 64, 16, 16]               0\n",
            "           Conv2d-10           [-1, 32, 16, 16]           2,080\n",
            "          Dropout-11           [-1, 32, 16, 16]               0\n",
            "           Conv2d-12           [-1, 64, 16, 16]          18,496\n",
            "      BatchNorm2d-13           [-1, 64, 16, 16]             128\n",
            "          Dropout-14           [-1, 64, 16, 16]               0\n",
            "           Conv2d-15             [-1, 64, 8, 8]          36,928\n",
            "      BatchNorm2d-16             [-1, 64, 8, 8]             128\n",
            "          Dropout-17             [-1, 64, 8, 8]               0\n",
            "           Conv2d-18             [-1, 32, 8, 8]           2,080\n",
            "           Conv2d-19             [-1, 64, 6, 6]          18,496\n",
            "      BatchNorm2d-20             [-1, 64, 6, 6]             128\n",
            "          Dropout-21             [-1, 64, 6, 6]               0\n",
            "           Conv2d-22             [-1, 64, 6, 6]          36,928\n",
            "      BatchNorm2d-23             [-1, 64, 6, 6]             128\n",
            "          Dropout-24             [-1, 64, 6, 6]               0\n",
            "           Conv2d-25             [-1, 64, 6, 6]          36,928\n",
            "      BatchNorm2d-26             [-1, 64, 6, 6]             128\n",
            "          Dropout-27             [-1, 64, 6, 6]               0\n",
            "           Conv2d-28             [-1, 64, 4, 4]             640\n",
            "           Conv2d-29             [-1, 64, 4, 4]           4,160\n",
            "        AvgPool2d-30             [-1, 64, 2, 2]               0\n",
            "           Linear-31                   [-1, 10]           2,570\n",
            "================================================================\n",
            "Total params: 188,842\n",
            "Trainable params: 188,842\n",
            "Non-trainable params: 0\n",
            "----------------------------------------------------------------\n",
            "Input size (MB): 0.01\n",
            "Forward/backward pass size (MB): 2.66\n",
            "Params size (MB): 0.72\n",
            "Estimated Total Size (MB): 3.39\n",
            "----------------------------------------------------------------\n"
          ]
        }
      ]
    },
    {
      "cell_type": "markdown",
      "source": [
        "## Load Datasets"
      ],
      "metadata": {
        "id": "Yz9-76NKPQf_"
      }
    },
    {
      "cell_type": "code",
      "source": [
        "# import function to load CIFAR dataset\n",
        "from loadcifar import load_CIFAR\n",
        "\n",
        "#set batch size\n",
        "batch_size = 32\n",
        "\n",
        "#define tranformations for train and test datasets\n",
        "\n",
        "train_transform = A.Compose([\n",
        "    A.HorizontalFlip(), # Same with transforms.RandomHorizontalFlip()\n",
        "    A.ShiftScaleRotate(shift_limit = 0.06, scale_limit = 0.1, rotate_limit = 45),\n",
        "    A.CoarseDropout(min_holes=1, max_holes=1, min_height=8, max_width=8, min_width=8, max_height=8, fill_value = [127,127,127], mask_fill_value = None, p=1),\n",
        "    A.Normalize((0.5, 0.5, 0.5), (0.5, 0.5, 0.5)),\n",
        "    ToTensorV2()\n",
        "])\n",
        "\n",
        "test_transform = A.Compose([\n",
        "    A.Normalize((0.5, 0.5, 0.5), (0.5, 0.5, 0.5)),\n",
        "    ToTensorV2()\n",
        "])\n",
        "\n",
        "#load training dataset\n",
        "classes, train_loader = load_CIFAR(train_transform, batch_size)\n",
        "#load test dataset\n",
        "_, test_loader = load_CIFAR(test_transform, batch_size)"
      ],
      "metadata": {
        "colab": {
          "base_uri": "https://localhost:8080/",
          "height": 104,
          "referenced_widgets": [
            "3d25cb6f6bc54a08b938990b0b62dd12",
            "fbb8ff32e22e478e8c3e45680cd3c5ab",
            "c92acb82f3ab41dda6ab5f77558c8556",
            "230f913d95484e0298e463a8daf1a89a",
            "230fde5ecbcf4598bfa59f5c66caa196",
            "8547165ef6b9425dac0d33b2bfa7a7d6",
            "d337a6314d8e4b6abf4d212db0e9ba0e",
            "effa85826b464c17bbfd09c28f319884",
            "c0001597b87345569f41ce5454396f3d",
            "d2967786e15f4b8298a487fa292bc3d6",
            "29e702e714164ebaa55edcd1f2764124"
          ]
        },
        "id": "Scc-nSNwOquM",
        "outputId": "4078951c-dad5-4863-fca1-885e80bf6866"
      },
      "execution_count": 3,
      "outputs": [
        {
          "output_type": "stream",
          "name": "stdout",
          "text": [
            "Downloading https://www.cs.toronto.edu/~kriz/cifar-10-python.tar.gz to /root/data/cifar10/cifar-10-python.tar.gz\n"
          ]
        },
        {
          "output_type": "display_data",
          "data": {
            "text/plain": [
              "  0%|          | 0/170498071 [00:00<?, ?it/s]"
            ],
            "application/vnd.jupyter.widget-view+json": {
              "version_major": 2,
              "version_minor": 0,
              "model_id": "3d25cb6f6bc54a08b938990b0b62dd12"
            }
          },
          "metadata": {}
        },
        {
          "output_type": "stream",
          "name": "stdout",
          "text": [
            "Extracting /root/data/cifar10/cifar-10-python.tar.gz to /root/data/cifar10\n",
            "Files already downloaded and verified\n"
          ]
        }
      ]
    },
    {
      "cell_type": "markdown",
      "source": [
        "## View data"
      ],
      "metadata": {
        "id": "mhDoHzAwPTTs"
      }
    },
    {
      "cell_type": "code",
      "source": [
        "import matplotlib.pyplot as plt\n",
        "import numpy as np\n",
        "\n",
        "# functions to show an image\n",
        "\n",
        "\n",
        "def imshow(img):\n",
        "    img = img / 2 + 0.5     # unnormalize\n",
        "    npimg = img.numpy()\n",
        "    plt.imshow(np.transpose(npimg, (1, 2, 0)))\n",
        "\n",
        "# get some random training images\n",
        "images, labels = next(iter(train_loader))\n",
        "\n",
        "no_images = 10\n",
        "\n",
        "figure = plt.figure(figsize=(12, 5))\n",
        "\n",
        "for index in range(1, no_images + 1):\n",
        "    plt.subplot(2, 5, index)\n",
        "    imshow(images[index - 1])\n",
        "    plt.tick_params(left=False, right=False, labelleft=False,\n",
        "                    labelbottom=False, bottom=False)\n",
        "    title = str(classes[labels[index - 1]])\n",
        "    plt.title(title)\n"
      ],
      "metadata": {
        "colab": {
          "base_uri": "https://localhost:8080/",
          "height": 311
        },
        "id": "7gYA1GRtOq8i",
        "outputId": "5e0db8cb-dad5-4713-ce36-39a37054d473"
      },
      "execution_count": 4,
      "outputs": [
        {
          "output_type": "display_data",
          "data": {
            "text/plain": [
              "<Figure size 864x360 with 10 Axes>"
            ],
            "image/png": "[encoded data removed]"
          },
          "metadata": {}
        }
      ]
    },
    {
      "cell_type": "markdown",
      "source": [
        "##Define parameters for training and train the network"
      ],
      "metadata": {
        "id": "uO-6WzEZR3q4"
      }
    },
    {
      "cell_type": "code",
      "source": [
        "import torch.optim as optim\n",
        "from torch.optim.lr_scheduler import StepLR # Import your choice of scheduler here\n",
        "\n",
        "def train(model, train_loader, epochs = 2):\n",
        "    criterion = torch.nn.CrossEntropyLoss()\n",
        "    optimizer = optim.SGD(model.parameters(), lr=0.1, momentum=0.9)\n",
        "    #scheduler = StepLR(optimizer, step_size=15, gamma=0.1)\n",
        "\n",
        "    for epoch in range(epochs):  # loop over the dataset multiple times\n",
        "\n",
        "        running_loss = 0.0\n",
        "        correct = 0.0\n",
        "\n",
        "        for i, data in enumerate(train_loader, 0):\n",
        "            # get the inputs\n",
        "            inputs, labels = data\n",
        "            inputs = inputs.to(device)\n",
        "            labels = labels.to(device)\n",
        "\n",
        "            # zero the parameter gradients\n",
        "            optimizer.zero_grad()\n",
        "\n",
        "            # forward + backward + optimize\n",
        "            outputs = model(inputs)\n",
        "            loss = criterion(outputs, labels)\n",
        "            loss.backward()\n",
        "            optimizer.step()\n",
        "\n",
        "            # print statistics\n",
        "            running_loss += loss.item()\n",
        "\n",
        "            output = model(inputs)\n",
        "            pred = output.argmax(dim=1, keepdim=True)  # get the index of the max log-probability\n",
        "            correct += pred.eq(labels.view_as(pred)).sum().item()\n",
        "        \n",
        "        print(\"Epoch: \", epoch, \"Learning Rate: \", optimizer.param_groups[0][\"lr\"])\n",
        "        print('\\nTrain set: Average loss: {:.4f}, Accuracy: {}/{} ({:.2f}%)\\n'.format(\n",
        "            loss, correct, len(train_loader.dataset),\n",
        "            100. * correct / len(train_loader.dataset)))    \n",
        "\n",
        "    print('Finished Training')\n",
        "\n",
        "    return model"
      ],
      "metadata": {
        "id": "RXIc619uikFx"
      },
      "execution_count": 7,
      "outputs": []
    },
    {
      "cell_type": "code",
      "source": [
        "model = train(model, train_loader, epochs = 46)"
      ],
      "metadata": {
        "colab": {
          "base_uri": "https://localhost:8080/"
        },
        "id": "4KRqirZHX-O7",
        "outputId": "3c41ee35-68c7-4ec2-8c0c-3f892242d04b"
      },
      "execution_count": 8,
      "outputs": [
        {
          "output_type": "stream",
          "name": "stdout",
          "text": [
            "Epoch:  0 Learning Rate:  0.1\n",
            "\n",
            "Train set: Average loss: 1.5752, Accuracy: 19823.0/50000 (39.65%)\n",
            "\n",
            "Epoch:  1 Learning Rate:  0.1\n",
            "\n",
            "Train set: Average loss: 1.1969, Accuracy: 24298.0/50000 (48.60%)\n",
            "\n",
            "Epoch:  2 Learning Rate:  0.1\n",
            "\n",
            "Train set: Average loss: 1.4277, Accuracy: 26632.0/50000 (53.26%)\n",
            "\n",
            "Epoch:  3 Learning Rate:  0.1\n",
            "\n",
            "Train set: Average loss: 1.1698, Accuracy: 28527.0/50000 (57.05%)\n",
            "\n",
            "Epoch:  4 Learning Rate:  0.1\n",
            "\n",
            "Train set: Average loss: 1.1685, Accuracy: 29668.0/50000 (59.34%)\n",
            "\n",
            "Epoch:  5 Learning Rate:  0.1\n",
            "\n",
            "Train set: Average loss: 1.1815, Accuracy: 30971.0/50000 (61.94%)\n",
            "\n",
            "Epoch:  6 Learning Rate:  0.1\n",
            "\n",
            "Train set: Average loss: 1.0826, Accuracy: 31586.0/50000 (63.17%)\n",
            "\n",
            "Epoch:  7 Learning Rate:  0.1\n",
            "\n",
            "Train set: Average loss: 1.1450, Accuracy: 32383.0/50000 (64.77%)\n",
            "\n",
            "Epoch:  8 Learning Rate:  0.1\n",
            "\n",
            "Train set: Average loss: 0.9771, Accuracy: 32790.0/50000 (65.58%)\n",
            "\n",
            "Epoch:  9 Learning Rate:  0.1\n",
            "\n",
            "Train set: Average loss: 1.0462, Accuracy: 33519.0/50000 (67.04%)\n",
            "\n",
            "Epoch:  10 Learning Rate:  0.1\n",
            "\n",
            "Train set: Average loss: 1.0357, Accuracy: 33945.0/50000 (67.89%)\n",
            "\n",
            "Epoch:  11 Learning Rate:  0.1\n",
            "\n",
            "Train set: Average loss: 0.9657, Accuracy: 34399.0/50000 (68.80%)\n",
            "\n",
            "Epoch:  12 Learning Rate:  0.1\n",
            "\n",
            "Train set: Average loss: 0.8567, Accuracy: 34821.0/50000 (69.64%)\n",
            "\n",
            "Epoch:  13 Learning Rate:  0.1\n",
            "\n",
            "Train set: Average loss: 0.7784, Accuracy: 35231.0/50000 (70.46%)\n",
            "\n",
            "Epoch:  14 Learning Rate:  0.1\n",
            "\n",
            "Train set: Average loss: 0.8372, Accuracy: 35644.0/50000 (71.29%)\n",
            "\n",
            "Epoch:  15 Learning Rate:  0.1\n",
            "\n",
            "Train set: Average loss: 0.9261, Accuracy: 36002.0/50000 (72.00%)\n",
            "\n",
            "Epoch:  16 Learning Rate:  0.1\n",
            "\n",
            "Train set: Average loss: 0.8170, Accuracy: 36095.0/50000 (72.19%)\n",
            "\n",
            "Epoch:  17 Learning Rate:  0.1\n",
            "\n",
            "Train set: Average loss: 1.0392, Accuracy: 36381.0/50000 (72.76%)\n",
            "\n",
            "Epoch:  18 Learning Rate:  0.1\n",
            "\n",
            "Train set: Average loss: 1.0099, Accuracy: 36465.0/50000 (72.93%)\n",
            "\n",
            "Epoch:  19 Learning Rate:  0.1\n",
            "\n",
            "Train set: Average loss: 0.7692, Accuracy: 36854.0/50000 (73.71%)\n",
            "\n",
            "Epoch:  20 Learning Rate:  0.1\n",
            "\n",
            "Train set: Average loss: 1.1620, Accuracy: 37056.0/50000 (74.11%)\n",
            "\n",
            "Epoch:  21 Learning Rate:  0.1\n",
            "\n",
            "Train set: Average loss: 0.6861, Accuracy: 37172.0/50000 (74.34%)\n",
            "\n",
            "Epoch:  22 Learning Rate:  0.1\n",
            "\n",
            "Train set: Average loss: 0.6671, Accuracy: 37244.0/50000 (74.49%)\n",
            "\n",
            "Epoch:  23 Learning Rate:  0.1\n",
            "\n",
            "Train set: Average loss: 0.9064, Accuracy: 37472.0/50000 (74.94%)\n",
            "\n",
            "Epoch:  24 Learning Rate:  0.1\n",
            "\n",
            "Train set: Average loss: 0.7125, Accuracy: 37547.0/50000 (75.09%)\n",
            "\n",
            "Epoch:  25 Learning Rate:  0.1\n",
            "\n",
            "Train set: Average loss: 1.0254, Accuracy: 37773.0/50000 (75.55%)\n",
            "\n",
            "Epoch:  26 Learning Rate:  0.1\n",
            "\n",
            "Train set: Average loss: 0.6362, Accuracy: 37885.0/50000 (75.77%)\n",
            "\n",
            "Epoch:  27 Learning Rate:  0.1\n",
            "\n",
            "Train set: Average loss: 0.7955, Accuracy: 38067.0/50000 (76.13%)\n",
            "\n",
            "Epoch:  28 Learning Rate:  0.1\n",
            "\n",
            "Train set: Average loss: 0.8969, Accuracy: 38045.0/50000 (76.09%)\n",
            "\n",
            "Epoch:  29 Learning Rate:  0.1\n",
            "\n",
            "Train set: Average loss: 0.8071, Accuracy: 38052.0/50000 (76.10%)\n",
            "\n",
            "Epoch:  30 Learning Rate:  0.1\n",
            "\n",
            "Train set: Average loss: 0.7746, Accuracy: 38437.0/50000 (76.87%)\n",
            "\n",
            "Epoch:  31 Learning Rate:  0.1\n",
            "\n",
            "Train set: Average loss: 0.8084, Accuracy: 38295.0/50000 (76.59%)\n",
            "\n",
            "Epoch:  32 Learning Rate:  0.1\n",
            "\n",
            "Train set: Average loss: 0.7592, Accuracy: 38432.0/50000 (76.86%)\n",
            "\n",
            "Epoch:  33 Learning Rate:  0.1\n",
            "\n",
            "Train set: Average loss: 0.6879, Accuracy: 38599.0/50000 (77.20%)\n",
            "\n",
            "Epoch:  34 Learning Rate:  0.1\n",
            "\n",
            "Train set: Average loss: 0.5765, Accuracy: 38623.0/50000 (77.25%)\n",
            "\n",
            "Epoch:  35 Learning Rate:  0.1\n",
            "\n",
            "Train set: Average loss: 0.6187, Accuracy: 38950.0/50000 (77.90%)\n",
            "\n",
            "Epoch:  36 Learning Rate:  0.1\n",
            "\n",
            "Train set: Average loss: 0.5119, Accuracy: 38989.0/50000 (77.98%)\n",
            "\n",
            "Epoch:  37 Learning Rate:  0.1\n",
            "\n",
            "Train set: Average loss: 0.6726, Accuracy: 39059.0/50000 (78.12%)\n",
            "\n",
            "Epoch:  38 Learning Rate:  0.1\n",
            "\n",
            "Train set: Average loss: 0.6323, Accuracy: 38997.0/50000 (77.99%)\n",
            "\n",
            "Epoch:  39 Learning Rate:  0.1\n",
            "\n",
            "Train set: Average loss: 0.5949, Accuracy: 39154.0/50000 (78.31%)\n",
            "\n",
            "Epoch:  40 Learning Rate:  0.1\n",
            "\n",
            "Train set: Average loss: 0.7889, Accuracy: 39140.0/50000 (78.28%)\n",
            "\n",
            "Epoch:  41 Learning Rate:  0.1\n",
            "\n",
            "Train set: Average loss: 0.5845, Accuracy: 39168.0/50000 (78.34%)\n",
            "\n",
            "Epoch:  42 Learning Rate:  0.1\n",
            "\n",
            "Train set: Average loss: 0.7466, Accuracy: 39219.0/50000 (78.44%)\n",
            "\n",
            "Epoch:  43 Learning Rate:  0.1\n",
            "\n",
            "Train set: Average loss: 0.6876, Accuracy: 39395.0/50000 (78.79%)\n",
            "\n",
            "Epoch:  44 Learning Rate:  0.1\n",
            "\n",
            "Train set: Average loss: 0.8003, Accuracy: 39443.0/50000 (78.89%)\n",
            "\n",
            "Epoch:  45 Learning Rate:  0.1\n",
            "\n",
            "Train set: Average loss: 0.4095, Accuracy: 39538.0/50000 (79.08%)\n",
            "\n",
            "Finished Training\n"
          ]
        }
      ]
    },
    {
      "cell_type": "markdown",
      "source": [
        "## Test Model"
      ],
      "metadata": {
        "id": "DReP6rkRZTqv"
      }
    },
    {
      "cell_type": "code",
      "source": [
        "#import test function\n",
        "from testfns import test\n",
        "\n",
        "test(model, device, test_loader)"
      ],
      "metadata": {
        "id": "f5pzDtgJ7W29",
        "colab": {
          "base_uri": "https://localhost:8080/"
        },
        "outputId": "02c5570e-333d-4535-c027-dcbac6349e04"
      },
      "execution_count": 9,
      "outputs": [
        {
          "output_type": "stream",
          "name": "stdout",
          "text": [
            "\n",
            "Test set: Average loss: 0.0029, Accuracy: 43637/50000 (87.27%)\n",
            "\n"
          ]
        },
        {
          "output_type": "execute_result",
          "data": {
            "text/plain": [
              "(0.002889762138724327, 87.274)"
            ]
          },
          "metadata": {},
          "execution_count": 9
        }
      ]
    },
    {
      "cell_type": "markdown",
      "source": [
        "## Generate miss classified images and View"
      ],
      "metadata": {
        "id": "jIeVAUVEOuTh"
      }
    },
    {
      "cell_type": "code",
      "source": [
        "#import function to plot misclassified images: get_miss_classified(model, device, images, labels)\n",
        "from misclassified import get_miss_classified\n",
        "\n",
        "images, labels = next(iter(train_loader))\n",
        "images, targets, predictions = get_miss_classified(model, device, images, labels)\n",
        "\n",
        "#plot 10 misclassified images\n",
        "no_images = 10\n",
        "\n",
        "figure = plt.figure(figsize=(12, 5))\n",
        "\n",
        "for index in range(1, no_images + 1):\n",
        "    plt.subplot(2, 5, index)\n",
        "    imshow(images[index - 1])\n",
        "    plt.tick_params(left=False, right=False, labelleft=False,\n",
        "                    labelbottom=False, bottom=False)\n",
        "    title = \"Target:\" + str(classes[targets[index - 1]]) + \"\\nPredicted:\" + str(\n",
        "        classes[predictions[index - 1]])\n",
        "    plt.title(title)"
      ],
      "metadata": {
        "colab": {
          "base_uri": "https://localhost:8080/",
          "height": 326
        },
        "id": "xqJvsSlEOxRk",
        "outputId": "996bbd19-3bf3-49d9-9417-2f1f68842cf6"
      },
      "execution_count": 12,
      "outputs": [
        {
          "output_type": "display_data",
          "data": {
            "text/plain": [
              "<Figure size 864x360 with 10 Axes>"
            ],
            "image/png": "[encoded data removed]"
          },
          "metadata": {}
        }
      ]
    },
    {
      "cell_type": "markdown",
      "source": [
        "# Miss-classification by class"
      ],
      "metadata": {
        "id": "6hW50f-kv0wF"
      }
    },
    {
      "cell_type": "code",
      "source": [
        "#import function to calculate misclassifications getFractionsMissed(model, device, test_loader)\n",
        "\n",
        "from misclassified import getFractionsMissed\n",
        "\n",
        "x = getFractionsMissed(model, device, test_loader)\n",
        "print(x)\n",
        "print(classes)\n",
        "\n"
      ],
      "metadata": {
        "colab": {
          "base_uri": "https://localhost:8080/"
        },
        "id": "mjSVhT1yxc6b",
        "outputId": "7b07e4db-6a93-44fa-87a4-16ba3ef2d31f"
      },
      "execution_count": 13,
      "outputs": [
        {
          "output_type": "stream",
          "name": "stdout",
          "text": [
            "{0: 0.1404, 1: 0.049, 2: 0.1898, 3: 0.2732, 4: 0.1472, 5: 0.2522, 6: 0.0428, 7: 0.1006, 8: 0.041, 9: 0.0364}\n",
            "('plane', 'car', 'bird', 'cat', 'deer', 'dog', 'frog', 'horse', 'ship', 'truck')\n"
          ]
        }
      ]
    },
    {
      "cell_type": "code",
      "source": [
        "import matplotlib.pyplot as plt\n",
        "\n",
        "plt.bar(range(len(x)), list(x.values()), align='center')\n",
        "plt.xticks(range(len(x)), list(classes))\n",
        "plt.title(\"Misclassification percentages\")\n",
        "plt.show()"
      ],
      "metadata": {
        "colab": {
          "base_uri": "https://localhost:8080/",
          "height": 281
        },
        "id": "q760wzV7DSbw",
        "outputId": "eb88fab9-2f9a-400c-dc36-9322e3a469a5"
      },
      "execution_count": 17,
      "outputs": [
        {
          "output_type": "display_data",
          "data": {
            "text/plain": [
              "<Figure size 432x288 with 1 Axes>"
            ],
            "image/png": "[encoded data removed]"
          },
          "metadata": {
            "needs_background": "light"
          }
        }
      ]
    }
  ]
}