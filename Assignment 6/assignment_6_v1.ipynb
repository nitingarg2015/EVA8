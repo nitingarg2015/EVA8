{
  "nbformat": 4,
  "nbformat_minor": 0,
  "metadata": {
    "colab": {
      "provenance": [],
      "include_colab_link": true
    },
    "kernelspec": {
      "name": "python3",
      "display_name": "Python 3"
    },
    "language_info": {
      "name": "python"
    },
    "gpuClass": "standard",
    "widgets": {
      "application/vnd.jupyter.widget-state+json": {
        "b065c5a3f11448a6be33d74cac2e9dbc": {
          "model_module": "@jupyter-widgets/controls",
          "model_name": "HBoxModel",
          "model_module_version": "1.5.0",
          "state": {
            "_dom_classes": [],
            "_model_module": "@jupyter-widgets/controls",
            "_model_module_version": "1.5.0",
            "_model_name": "HBoxModel",
            "_view_count": null,
            "_view_module": "@jupyter-widgets/controls",
            "_view_module_version": "1.5.0",
            "_view_name": "HBoxView",
            "box_style": "",
            "children": [
              "IPY_MODEL_f3d277a01d754fc08547f92d8a9fdff0",
              "IPY_MODEL_e9576a2543604fae8a2b0e0ac44656a0",
              "IPY_MODEL_c014a5d2e9354b2883daedee9ea0cc2f"
            ],
            "layout": "IPY_MODEL_d69077c5834946c7a4d57d240fdcfbf9"
          }
        },
        "f3d277a01d754fc08547f92d8a9fdff0": {
          "model_module": "@jupyter-widgets/controls",
          "model_name": "HTMLModel",
          "model_module_version": "1.5.0",
          "state": {
            "_dom_classes": [],
            "_model_module": "@jupyter-widgets/controls",
            "_model_module_version": "1.5.0",
            "_model_name": "HTMLModel",
            "_view_count": null,
            "_view_module": "@jupyter-widgets/controls",
            "_view_module_version": "1.5.0",
            "_view_name": "HTMLView",
            "description": "",
            "description_tooltip": null,
            "layout": "IPY_MODEL_36f8a932007c414b9365db090a03e3dc",
            "placeholder": "​",
            "style": "IPY_MODEL_f5c69cf743b7498bb244e86ced033ad9",
            "value": "100%"
          }
        },
        "e9576a2543604fae8a2b0e0ac44656a0": {
          "model_module": "@jupyter-widgets/controls",
          "model_name": "FloatProgressModel",
          "model_module_version": "1.5.0",
          "state": {
            "_dom_classes": [],
            "_model_module": "@jupyter-widgets/controls",
            "_model_module_version": "1.5.0",
            "_model_name": "FloatProgressModel",
            "_view_count": null,
            "_view_module": "@jupyter-widgets/controls",
            "_view_module_version": "1.5.0",
            "_view_name": "ProgressView",
            "bar_style": "success",
            "description": "",
            "description_tooltip": null,
            "layout": "IPY_MODEL_b9098902eaff490a882aa05a81fab6bf",
            "max": 170498071,
            "min": 0,
            "orientation": "horizontal",
            "style": "IPY_MODEL_168d2d32e289420e8854bb6b2a1203e9",
            "value": 170498071
          }
        },
        "c014a5d2e9354b2883daedee9ea0cc2f": {
          "model_module": "@jupyter-widgets/controls",
          "model_name": "HTMLModel",
          "model_module_version": "1.5.0",
          "state": {
            "_dom_classes": [],
            "_model_module": "@jupyter-widgets/controls",
            "_model_module_version": "1.5.0",
            "_model_name": "HTMLModel",
            "_view_count": null,
            "_view_module": "@jupyter-widgets/controls",
            "_view_module_version": "1.5.0",
            "_view_name": "HTMLView",
            "description": "",
            "description_tooltip": null,
            "layout": "IPY_MODEL_7d54d37e59de4e2eaba436ab000891d6",
            "placeholder": "​",
            "style": "IPY_MODEL_618d23bff5f144108b54a686772ab9c7",
            "value": " 170498071/170498071 [00:02&lt;00:00, 93702022.94it/s]"
          }
        },
        "d69077c5834946c7a4d57d240fdcfbf9": {
          "model_module": "@jupyter-widgets/base",
          "model_name": "LayoutModel",
          "model_module_version": "1.2.0",
          "state": {
            "_model_module": "@jupyter-widgets/base",
            "_model_module_version": "1.2.0",
            "_model_name": "LayoutModel",
            "_view_count": null,
            "_view_module": "@jupyter-widgets/base",
            "_view_module_version": "1.2.0",
            "_view_name": "LayoutView",
            "align_content": null,
            "align_items": null,
            "align_self": null,
            "border": null,
            "bottom": null,
            "display": null,
            "flex": null,
            "flex_flow": null,
            "grid_area": null,
            "grid_auto_columns": null,
            "grid_auto_flow": null,
            "grid_auto_rows": null,
            "grid_column": null,
            "grid_gap": null,
            "grid_row": null,
            "grid_template_areas": null,
            "grid_template_columns": null,
            "grid_template_rows": null,
            "height": null,
            "justify_content": null,
            "justify_items": null,
            "left": null,
            "margin": null,
            "max_height": null,
            "max_width": null,
            "min_height": null,
            "min_width": null,
            "object_fit": null,
            "object_position": null,
            "order": null,
            "overflow": null,
            "overflow_x": null,
            "overflow_y": null,
            "padding": null,
            "right": null,
            "top": null,
            "visibility": null,
            "width": null
          }
        },
        "36f8a932007c414b9365db090a03e3dc": {
          "model_module": "@jupyter-widgets/base",
          "model_name": "LayoutModel",
          "model_module_version": "1.2.0",
          "state": {
            "_model_module": "@jupyter-widgets/base",
            "_model_module_version": "1.2.0",
            "_model_name": "LayoutModel",
            "_view_count": null,
            "_view_module": "@jupyter-widgets/base",
            "_view_module_version": "1.2.0",
            "_view_name": "LayoutView",
            "align_content": null,
            "align_items": null,
            "align_self": null,
            "border": null,
            "bottom": null,
            "display": null,
            "flex": null,
            "flex_flow": null,
            "grid_area": null,
            "grid_auto_columns": null,
            "grid_auto_flow": null,
            "grid_auto_rows": null,
            "grid_column": null,
            "grid_gap": null,
            "grid_row": null,
            "grid_template_areas": null,
            "grid_template_columns": null,
            "grid_template_rows": null,
            "height": null,
            "justify_content": null,
            "justify_items": null,
            "left": null,
            "margin": null,
            "max_height": null,
            "max_width": null,
            "min_height": null,
            "min_width": null,
            "object_fit": null,
            "object_position": null,
            "order": null,
            "overflow": null,
            "overflow_x": null,
            "overflow_y": null,
            "padding": null,
            "right": null,
            "top": null,
            "visibility": null,
            "width": null
          }
        },
        "f5c69cf743b7498bb244e86ced033ad9": {
          "model_module": "@jupyter-widgets/controls",
          "model_name": "DescriptionStyleModel",
          "model_module_version": "1.5.0",
          "state": {
            "_model_module": "@jupyter-widgets/controls",
            "_model_module_version": "1.5.0",
            "_model_name": "DescriptionStyleModel",
            "_view_count": null,
            "_view_module": "@jupyter-widgets/base",
            "_view_module_version": "1.2.0",
            "_view_name": "StyleView",
            "description_width": ""
          }
        },
        "b9098902eaff490a882aa05a81fab6bf": {
          "model_module": "@jupyter-widgets/base",
          "model_name": "LayoutModel",
          "model_module_version": "1.2.0",
          "state": {
            "_model_module": "@jupyter-widgets/base",
            "_model_module_version": "1.2.0",
            "_model_name": "LayoutModel",
            "_view_count": null,
            "_view_module": "@jupyter-widgets/base",
            "_view_module_version": "1.2.0",
            "_view_name": "LayoutView",
            "align_content": null,
            "align_items": null,
            "align_self": null,
            "border": null,
            "bottom": null,
            "display": null,
            "flex": null,
            "flex_flow": null,
            "grid_area": null,
            "grid_auto_columns": null,
            "grid_auto_flow": null,
            "grid_auto_rows": null,
            "grid_column": null,
            "grid_gap": null,
            "grid_row": null,
            "grid_template_areas": null,
            "grid_template_columns": null,
            "grid_template_rows": null,
            "height": null,
            "justify_content": null,
            "justify_items": null,
            "left": null,
            "margin": null,
            "max_height": null,
            "max_width": null,
            "min_height": null,
            "min_width": null,
            "object_fit": null,
            "object_position": null,
            "order": null,
            "overflow": null,
            "overflow_x": null,
            "overflow_y": null,
            "padding": null,
            "right": null,
            "top": null,
            "visibility": null,
            "width": null
          }
        },
        "168d2d32e289420e8854bb6b2a1203e9": {
          "model_module": "@jupyter-widgets/controls",
          "model_name": "ProgressStyleModel",
          "model_module_version": "1.5.0",
          "state": {
            "_model_module": "@jupyter-widgets/controls",
            "_model_module_version": "1.5.0",
            "_model_name": "ProgressStyleModel",
            "_view_count": null,
            "_view_module": "@jupyter-widgets/base",
            "_view_module_version": "1.2.0",
            "_view_name": "StyleView",
            "bar_color": null,
            "description_width": ""
          }
        },
        "7d54d37e59de4e2eaba436ab000891d6": {
          "model_module": "@jupyter-widgets/base",
          "model_name": "LayoutModel",
          "model_module_version": "1.2.0",
          "state": {
            "_model_module": "@jupyter-widgets/base",
            "_model_module_version": "1.2.0",
            "_model_name": "LayoutModel",
            "_view_count": null,
            "_view_module": "@jupyter-widgets/base",
            "_view_module_version": "1.2.0",
            "_view_name": "LayoutView",
            "align_content": null,
            "align_items": null,
            "align_self": null,
            "border": null,
            "bottom": null,
            "display": null,
            "flex": null,
            "flex_flow": null,
            "grid_area": null,
            "grid_auto_columns": null,
            "grid_auto_flow": null,
            "grid_auto_rows": null,
            "grid_column": null,
            "grid_gap": null,
            "grid_row": null,
            "grid_template_areas": null,
            "grid_template_columns": null,
            "grid_template_rows": null,
            "height": null,
            "justify_content": null,
            "justify_items": null,
            "left": null,
            "margin": null,
            "max_height": null,
            "max_width": null,
            "min_height": null,
            "min_width": null,
            "object_fit": null,
            "object_position": null,
            "order": null,
            "overflow": null,
            "overflow_x": null,
            "overflow_y": null,
            "padding": null,
            "right": null,
            "top": null,
            "visibility": null,
            "width": null
          }
        },
        "618d23bff5f144108b54a686772ab9c7": {
          "model_module": "@jupyter-widgets/controls",
          "model_name": "DescriptionStyleModel",
          "model_module_version": "1.5.0",
          "state": {
            "_model_module": "@jupyter-widgets/controls",
            "_model_module_version": "1.5.0",
            "_model_name": "DescriptionStyleModel",
            "_view_count": null,
            "_view_module": "@jupyter-widgets/base",
            "_view_module_version": "1.2.0",
            "_view_name": "StyleView",
            "description_width": ""
          }
        }
      }
    },
    "accelerator": "GPU"
  },
  "cells": [
    {
      "cell_type": "markdown",
      "metadata": {
        "id": "view-in-github",
        "colab_type": "text"
      },
      "source": [
        "<a href=\"https://colab.research.google.com/github/nitingarg2015/EVA8/blob/master/Assignment%206/assignment_6_v1.ipynb\" target=\"_parent\"><img src=\"https://colab.research.google.com/assets/colab-badge.svg\" alt=\"Open In Colab\"/></a>"
      ]
    },
    {
      "cell_type": "markdown",
      "source": [
        "## Predicting CIFAR Dataset - Assignment 6"
      ],
      "metadata": {
        "id": "rM0akbVFVgmf"
      }
    },
    {
      "cell_type": "code",
      "execution_count": null,
      "metadata": {
        "colab": {
          "base_uri": "https://localhost:8080/"
        },
        "id": "GtksgIt7VVA8",
        "outputId": "058989f7-90bf-4327-8ef5-f870c1dc1894"
      },
      "outputs": [
        {
          "output_type": "stream",
          "name": "stdout",
          "text": [
            "Looking in indexes: https://pypi.org/simple, https://us-python.pkg.dev/colab-wheels/public/simple/\n",
            "Requirement already satisfied: torchsummary in /usr/local/lib/python3.8/dist-packages (1.5.1)\n"
          ]
        }
      ],
      "source": [
        "from __future__ import print_function\n",
        "import torch\n",
        "import torch.nn as nn\n",
        "import torch.nn.functional as F\n",
        "import torch.optim as optim\n",
        "from torchvision import datasets, transforms\n",
        "import torchvision\n",
        "from torch.optim.lr_scheduler import StepLR # Import your choice of scheduler here\n",
        "import albumentations as A\n",
        "from albumentations.pytorch import ToTensorV2\n",
        "\n",
        "!pip install torchsummary\n",
        "from torchsummary import summary\n",
        "use_cuda = torch.cuda.is_available()\n",
        "device = torch.device(\"cuda\" if use_cuda else \"cpu\")"
      ]
    },
    {
      "cell_type": "markdown",
      "source": [
        "## Load model"
      ],
      "metadata": {
        "id": "ortPKkqKPOm1"
      }
    },
    {
      "cell_type": "code",
      "source": [
        "#import model.py - contains model class which accepts type normalization method as input parameter\n",
        "\n",
        "from model import Net\n",
        "\n",
        "#instantiate Net class and check model summary\n",
        "\n",
        "model = Net(dropout = 0.1).to(device)\n",
        "\n",
        "summary(model, input_size=(3, 32, 32))\n"
      ],
      "metadata": {
        "colab": {
          "base_uri": "https://localhost:8080/"
        },
        "id": "ArDjsh3Gtqei",
        "outputId": "4857ca0a-32c2-49c4-d02b-41936e68dbc2"
      },
      "execution_count": null,
      "outputs": [
        {
          "output_type": "stream",
          "name": "stdout",
          "text": [
            "----------------------------------------------------------------\n",
            "        Layer (type)               Output Shape         Param #\n",
            "================================================================\n",
            "            Conv2d-1           [-1, 32, 32, 32]             896\n",
            "       BatchNorm2d-2           [-1, 32, 32, 32]              64\n",
            "           Dropout-3           [-1, 32, 32, 32]               0\n",
            "            Conv2d-4           [-1, 32, 32, 32]           9,248\n",
            "       BatchNorm2d-5           [-1, 32, 32, 32]              64\n",
            "           Dropout-6           [-1, 32, 32, 32]               0\n",
            "            Conv2d-7           [-1, 64, 16, 16]          18,496\n",
            "       BatchNorm2d-8           [-1, 64, 16, 16]             128\n",
            "           Dropout-9           [-1, 64, 16, 16]               0\n",
            "           Conv2d-10           [-1, 32, 16, 16]           2,080\n",
            "          Dropout-11           [-1, 32, 16, 16]               0\n",
            "           Conv2d-12           [-1, 64, 16, 16]          18,496\n",
            "      BatchNorm2d-13           [-1, 64, 16, 16]             128\n",
            "          Dropout-14           [-1, 64, 16, 16]               0\n",
            "           Conv2d-15             [-1, 64, 8, 8]          36,928\n",
            "      BatchNorm2d-16             [-1, 64, 8, 8]             128\n",
            "          Dropout-17             [-1, 64, 8, 8]               0\n",
            "           Conv2d-18             [-1, 32, 8, 8]           2,080\n",
            "           Conv2d-19             [-1, 64, 6, 6]          18,496\n",
            "      BatchNorm2d-20             [-1, 64, 6, 6]             128\n",
            "          Dropout-21             [-1, 64, 6, 6]               0\n",
            "           Conv2d-22             [-1, 64, 6, 6]          36,928\n",
            "      BatchNorm2d-23             [-1, 64, 6, 6]             128\n",
            "          Dropout-24             [-1, 64, 6, 6]               0\n",
            "           Conv2d-25             [-1, 64, 6, 6]          36,928\n",
            "      BatchNorm2d-26             [-1, 64, 6, 6]             128\n",
            "          Dropout-27             [-1, 64, 6, 6]               0\n",
            "           Conv2d-28             [-1, 64, 4, 4]             640\n",
            "           Conv2d-29             [-1, 64, 4, 4]           4,160\n",
            "        AvgPool2d-30             [-1, 64, 2, 2]               0\n",
            "           Linear-31                   [-1, 10]           2,570\n",
            "================================================================\n",
            "Total params: 188,842\n",
            "Trainable params: 188,842\n",
            "Non-trainable params: 0\n",
            "----------------------------------------------------------------\n",
            "Input size (MB): 0.01\n",
            "Forward/backward pass size (MB): 2.66\n",
            "Params size (MB): 0.72\n",
            "Estimated Total Size (MB): 3.39\n",
            "----------------------------------------------------------------\n"
          ]
        }
      ]
    },
    {
      "cell_type": "markdown",
      "source": [
        "## Load Datasets"
      ],
      "metadata": {
        "id": "Yz9-76NKPQf_"
      }
    },
    {
      "cell_type": "code",
      "source": [
        "# import function to load CIFAR dataset\n",
        "from loadcifar import load_CIFAR\n",
        "\n",
        "#set batch size\n",
        "batch_size = 32\n",
        "\n",
        "#define tranformations for train and test datasets\n",
        "\n",
        "train_transform = A.Compose([\n",
        "    A.HorizontalFlip(), # Same with transforms.RandomHorizontalFlip()\n",
        "    A.ShiftScaleRotate(shift_limit = 0.06, scale_limit = 0.1, rotate_limit = 45),\n",
        "    A.CoarseDropout(min_holes=1, max_holes=1, min_height=8, max_width=8, min_width=8, max_height=8, fill_value = [127,127,127], mask_fill_value = None, p=1),\n",
        "    A.Normalize((0.5, 0.5, 0.5), (0.5, 0.5, 0.5)),\n",
        "    ToTensorV2()\n",
        "])\n",
        "\n",
        "test_transform = A.Compose([\n",
        "    A.Normalize((0.5, 0.5, 0.5), (0.5, 0.5, 0.5)),\n",
        "    ToTensorV2()\n",
        "])\n",
        "\n",
        "#load training dataset\n",
        "classes, train_loader = load_CIFAR(train_transform, batch_size)\n",
        "#load test dataset\n",
        "_, test_loader = load_CIFAR(test_transform, batch_size)"
      ],
      "metadata": {
        "colab": {
          "base_uri": "https://localhost:8080/",
          "height": 104,
          "referenced_widgets": [
            "b065c5a3f11448a6be33d74cac2e9dbc",
            "f3d277a01d754fc08547f92d8a9fdff0",
            "e9576a2543604fae8a2b0e0ac44656a0",
            "c014a5d2e9354b2883daedee9ea0cc2f",
            "d69077c5834946c7a4d57d240fdcfbf9",
            "36f8a932007c414b9365db090a03e3dc",
            "f5c69cf743b7498bb244e86ced033ad9",
            "b9098902eaff490a882aa05a81fab6bf",
            "168d2d32e289420e8854bb6b2a1203e9",
            "7d54d37e59de4e2eaba436ab000891d6",
            "618d23bff5f144108b54a686772ab9c7"
          ]
        },
        "id": "Scc-nSNwOquM",
        "outputId": "6bc340b1-a5a6-4bdb-e280-26d4275a6db9"
      },
      "execution_count": null,
      "outputs": [
        {
          "output_type": "stream",
          "name": "stdout",
          "text": [
            "Downloading https://www.cs.toronto.edu/~kriz/cifar-10-python.tar.gz to /root/data/cifar10/cifar-10-python.tar.gz\n"
          ]
        },
        {
          "output_type": "display_data",
          "data": {
            "text/plain": [
              "  0%|          | 0/170498071 [00:00<?, ?it/s]"
            ],
            "application/vnd.jupyter.widget-view+json": {
              "version_major": 2,
              "version_minor": 0,
              "model_id": "b065c5a3f11448a6be33d74cac2e9dbc"
            }
          },
          "metadata": {}
        },
        {
          "output_type": "stream",
          "name": "stdout",
          "text": [
            "Extracting /root/data/cifar10/cifar-10-python.tar.gz to /root/data/cifar10\n",
            "Files already downloaded and verified\n"
          ]
        }
      ]
    },
    {
      "cell_type": "markdown",
      "source": [
        "## View data"
      ],
      "metadata": {
        "id": "mhDoHzAwPTTs"
      }
    },
    {
      "cell_type": "code",
      "source": [
        "import matplotlib.pyplot as plt\n",
        "import numpy as np\n",
        "\n",
        "# functions to show an image\n",
        "\n",
        "\n",
        "def imshow(img):\n",
        "    img = img / 2 + 0.5     # unnormalize\n",
        "    npimg = img.numpy()\n",
        "    plt.imshow(np.transpose(npimg, (1, 2, 0)))\n",
        "\n",
        "# get some random training images\n",
        "images, labels = next(iter(train_loader))\n",
        "\n",
        "no_images = 10\n",
        "\n",
        "figure = plt.figure(figsize=(12, 5))\n",
        "\n",
        "for index in range(1, no_images + 1):\n",
        "    plt.subplot(2, 5, index)\n",
        "    imshow(images[index - 1])\n",
        "    plt.tick_params(left=False, right=False, labelleft=False,\n",
        "                    labelbottom=False, bottom=False)\n",
        "    title = str(classes[labels[index - 1]])\n",
        "    plt.title(title)\n"
      ],
      "metadata": {
        "colab": {
          "base_uri": "https://localhost:8080/",
          "height": 311
        },
        "id": "7gYA1GRtOq8i",
        "outputId": "73ade274-d0b5-4077-ec24-fe3b1cf6e6dc"
      },
      "execution_count": null,
      "outputs": [
        {
          "output_type": "display_data",
          "data": {
            "text/plain": [
              "<Figure size 864x360 with 10 Axes>"
            ],
            "image/png": "[encoded data removed]"
          },
          "metadata": {}
        }
      ]
    },
    {
      "cell_type": "markdown",
      "source": [
        "##Define parameters for training and train the network"
      ],
      "metadata": {
        "id": "uO-6WzEZR3q4"
      }
    },
    {
      "cell_type": "code",
      "source": [
        "import torch.optim as optim\n",
        "from torch.optim.lr_scheduler import StepLR # Import your choice of scheduler here\n",
        "#import test function\n",
        "from testfns import test\n",
        "\n",
        "def train(model, train_loader, test_loader, device, epochs = 2):\n",
        "    criterion = torch.nn.CrossEntropyLoss()\n",
        "    optimizer = optim.SGD(model.parameters(), lr=0.1, momentum=0.9)\n",
        "    scheduler = StepLR(optimizer, step_size=30, gamma=0.1)\n",
        "\n",
        "    for epoch in range(epochs):  # loop over the dataset multiple times\n",
        "\n",
        "        running_loss = 0.0\n",
        "        correct = 0.0\n",
        "\n",
        "        for i, data in enumerate(train_loader, 0):\n",
        "            # get the inputs\n",
        "            inputs, labels = data\n",
        "            inputs = inputs.to(device)\n",
        "            labels = labels.to(device)\n",
        "\n",
        "            # zero the parameter gradients\n",
        "            optimizer.zero_grad()\n",
        "\n",
        "            # forward + backward + optimize\n",
        "            outputs = model(inputs)\n",
        "            loss = criterion(outputs, labels)\n",
        "            loss.backward()\n",
        "            optimizer.step()\n",
        "\n",
        "            # print statistics\n",
        "            running_loss += loss.item()\n",
        "\n",
        "            output = model(inputs)\n",
        "            pred = output.argmax(dim=1, keepdim=True)  # get the index of the max log-probability\n",
        "            correct += pred.eq(labels.view_as(pred)).sum().item()\n",
        "        \n",
        "        print(\"Epoch: \", epoch, \"Learning Rate: \", optimizer.param_groups[0][\"lr\"])\n",
        "        print('\\nTrain set: Average loss: {:.4f}, Accuracy: {}/{} ({:.2f}%)\\n'.format(\n",
        "            loss, correct, len(train_loader.dataset),\n",
        "            100. * correct / len(train_loader.dataset)))    \n",
        "        test(model, device, test_loader)\n",
        "\n",
        "        #increment learning rate\n",
        "        scheduler.step()\n",
        "\n",
        "    print('Finished Training')\n",
        "\n",
        "    return model"
      ],
      "metadata": {
        "id": "RXIc619uikFx"
      },
      "execution_count": null,
      "outputs": []
    },
    {
      "cell_type": "code",
      "source": [
        "model = train(model, train_loader, test_loader, device, epochs = 46)"
      ],
      "metadata": {
        "colab": {
          "base_uri": "https://localhost:8080/"
        },
        "id": "4KRqirZHX-O7",
        "outputId": "7f0b1b33-0c83-4618-df10-cda3bebf8890"
      },
      "execution_count": null,
      "outputs": [
        {
          "output_type": "stream",
          "name": "stdout",
          "text": [
            "Epoch:  0 Learning Rate:  0.1\n",
            "\n",
            "Train set: Average loss: 1.6040, Accuracy: 20292.0/50000 (40.58%)\n",
            "\n",
            "\n",
            "Test set: Average loss: 0.0112, Accuracy: 24352/50000 (48.70%)\n",
            "\n",
            "Epoch:  1 Learning Rate:  0.1\n",
            "\n",
            "Train set: Average loss: 1.6188, Accuracy: 23463.0/50000 (46.93%)\n",
            "\n",
            "\n",
            "Test set: Average loss: 0.0110, Accuracy: 24269/50000 (48.54%)\n",
            "\n",
            "Epoch:  2 Learning Rate:  0.1\n",
            "\n",
            "Train set: Average loss: 1.6254, Accuracy: 26400.0/50000 (52.80%)\n",
            "\n",
            "\n",
            "Test set: Average loss: 0.0095, Accuracy: 28459/50000 (56.92%)\n",
            "\n",
            "Epoch:  3 Learning Rate:  0.1\n",
            "\n",
            "Train set: Average loss: 1.2043, Accuracy: 28280.0/50000 (56.56%)\n",
            "\n",
            "\n",
            "Test set: Average loss: 0.0084, Accuracy: 30922/50000 (61.84%)\n",
            "\n",
            "Epoch:  4 Learning Rate:  0.1\n",
            "\n",
            "Train set: Average loss: 1.3525, Accuracy: 29791.0/50000 (59.58%)\n",
            "\n",
            "\n",
            "Test set: Average loss: 0.0086, Accuracy: 30481/50000 (60.96%)\n",
            "\n",
            "Epoch:  5 Learning Rate:  0.1\n",
            "\n",
            "Train set: Average loss: 1.2711, Accuracy: 30761.0/50000 (61.52%)\n",
            "\n",
            "\n",
            "Test set: Average loss: 0.0073, Accuracy: 33776/50000 (67.55%)\n",
            "\n",
            "Epoch:  6 Learning Rate:  0.1\n",
            "\n",
            "Train set: Average loss: 1.0308, Accuracy: 31783.0/50000 (63.57%)\n",
            "\n",
            "\n",
            "Test set: Average loss: 0.0066, Accuracy: 35135/50000 (70.27%)\n",
            "\n",
            "Epoch:  7 Learning Rate:  0.1\n",
            "\n",
            "Train set: Average loss: 1.0147, Accuracy: 32650.0/50000 (65.30%)\n",
            "\n",
            "\n",
            "Test set: Average loss: 0.0064, Accuracy: 35688/50000 (71.38%)\n",
            "\n",
            "Epoch:  8 Learning Rate:  0.1\n",
            "\n",
            "Train set: Average loss: 0.9772, Accuracy: 33342.0/50000 (66.68%)\n",
            "\n",
            "\n",
            "Test set: Average loss: 0.0063, Accuracy: 35907/50000 (71.81%)\n",
            "\n",
            "Epoch:  9 Learning Rate:  0.1\n",
            "\n",
            "Train set: Average loss: 1.0157, Accuracy: 33834.0/50000 (67.67%)\n",
            "\n",
            "\n",
            "Test set: Average loss: 0.0061, Accuracy: 36574/50000 (73.15%)\n",
            "\n",
            "Epoch:  10 Learning Rate:  0.1\n",
            "\n",
            "Train set: Average loss: 0.8317, Accuracy: 34471.0/50000 (68.94%)\n",
            "\n",
            "\n",
            "Test set: Average loss: 0.0063, Accuracy: 36046/50000 (72.09%)\n",
            "\n",
            "Epoch:  11 Learning Rate:  0.1\n",
            "\n",
            "Train set: Average loss: 1.0659, Accuracy: 34959.0/50000 (69.92%)\n",
            "\n",
            "\n",
            "Test set: Average loss: 0.0060, Accuracy: 36560/50000 (73.12%)\n",
            "\n",
            "Epoch:  12 Learning Rate:  0.1\n",
            "\n",
            "Train set: Average loss: 0.8993, Accuracy: 35320.0/50000 (70.64%)\n",
            "\n",
            "\n",
            "Test set: Average loss: 0.0056, Accuracy: 37418/50000 (74.84%)\n",
            "\n",
            "Epoch:  13 Learning Rate:  0.1\n",
            "\n",
            "Train set: Average loss: 1.0155, Accuracy: 35653.0/50000 (71.31%)\n",
            "\n",
            "\n",
            "Test set: Average loss: 0.0053, Accuracy: 38211/50000 (76.42%)\n",
            "\n",
            "Epoch:  14 Learning Rate:  0.1\n",
            "\n",
            "Train set: Average loss: 0.9753, Accuracy: 35989.0/50000 (71.98%)\n",
            "\n",
            "\n",
            "Test set: Average loss: 0.0053, Accuracy: 38239/50000 (76.48%)\n",
            "\n",
            "Epoch:  15 Learning Rate:  0.1\n",
            "\n",
            "Train set: Average loss: 1.0369, Accuracy: 36125.0/50000 (72.25%)\n",
            "\n",
            "\n",
            "Test set: Average loss: 0.0050, Accuracy: 38791/50000 (77.58%)\n",
            "\n",
            "Epoch:  16 Learning Rate:  0.1\n",
            "\n",
            "Train set: Average loss: 0.6465, Accuracy: 36411.0/50000 (72.82%)\n",
            "\n",
            "\n",
            "Test set: Average loss: 0.0050, Accuracy: 38890/50000 (77.78%)\n",
            "\n",
            "Epoch:  17 Learning Rate:  0.1\n",
            "\n",
            "Train set: Average loss: 0.9052, Accuracy: 36932.0/50000 (73.86%)\n",
            "\n",
            "\n",
            "Test set: Average loss: 0.0049, Accuracy: 39346/50000 (78.69%)\n",
            "\n",
            "Epoch:  18 Learning Rate:  0.1\n",
            "\n",
            "Train set: Average loss: 0.8883, Accuracy: 36973.0/50000 (73.95%)\n",
            "\n",
            "\n",
            "Test set: Average loss: 0.0049, Accuracy: 39192/50000 (78.38%)\n",
            "\n",
            "Epoch:  19 Learning Rate:  0.1\n",
            "\n",
            "Train set: Average loss: 0.8262, Accuracy: 37138.0/50000 (74.28%)\n",
            "\n",
            "\n",
            "Test set: Average loss: 0.0045, Accuracy: 40050/50000 (80.10%)\n",
            "\n",
            "Epoch:  20 Learning Rate:  0.1\n",
            "\n",
            "Train set: Average loss: 0.8955, Accuracy: 37403.0/50000 (74.81%)\n",
            "\n",
            "\n",
            "Test set: Average loss: 0.0048, Accuracy: 39265/50000 (78.53%)\n",
            "\n",
            "Epoch:  21 Learning Rate:  0.1\n",
            "\n",
            "Train set: Average loss: 0.7998, Accuracy: 37591.0/50000 (75.18%)\n",
            "\n",
            "\n",
            "Test set: Average loss: 0.0053, Accuracy: 38480/50000 (76.96%)\n",
            "\n",
            "Epoch:  22 Learning Rate:  0.1\n",
            "\n",
            "Train set: Average loss: 0.6546, Accuracy: 37885.0/50000 (75.77%)\n",
            "\n",
            "\n",
            "Test set: Average loss: 0.0042, Accuracy: 40496/50000 (80.99%)\n",
            "\n",
            "Epoch:  23 Learning Rate:  0.1\n",
            "\n",
            "Train set: Average loss: 0.7277, Accuracy: 37998.0/50000 (76.00%)\n",
            "\n",
            "\n",
            "Test set: Average loss: 0.0042, Accuracy: 40855/50000 (81.71%)\n",
            "\n",
            "Epoch:  24 Learning Rate:  0.1\n",
            "\n",
            "Train set: Average loss: 0.7443, Accuracy: 38050.0/50000 (76.10%)\n",
            "\n",
            "\n",
            "Test set: Average loss: 0.0043, Accuracy: 40446/50000 (80.89%)\n",
            "\n",
            "Epoch:  25 Learning Rate:  0.1\n",
            "\n",
            "Train set: Average loss: 0.7394, Accuracy: 38226.0/50000 (76.45%)\n",
            "\n",
            "\n",
            "Test set: Average loss: 0.0047, Accuracy: 39695/50000 (79.39%)\n",
            "\n",
            "Epoch:  26 Learning Rate:  0.1\n",
            "\n",
            "Train set: Average loss: 0.7154, Accuracy: 38267.0/50000 (76.53%)\n",
            "\n",
            "\n",
            "Test set: Average loss: 0.0041, Accuracy: 41079/50000 (82.16%)\n",
            "\n",
            "Epoch:  27 Learning Rate:  0.1\n",
            "\n",
            "Train set: Average loss: 0.8048, Accuracy: 38290.0/50000 (76.58%)\n",
            "\n",
            "\n",
            "Test set: Average loss: 0.0043, Accuracy: 40456/50000 (80.91%)\n",
            "\n",
            "Epoch:  28 Learning Rate:  0.1\n",
            "\n",
            "Train set: Average loss: 0.6964, Accuracy: 38495.0/50000 (76.99%)\n",
            "\n",
            "\n",
            "Test set: Average loss: 0.0044, Accuracy: 40264/50000 (80.53%)\n",
            "\n",
            "Epoch:  29 Learning Rate:  0.1\n",
            "\n",
            "Train set: Average loss: 0.8768, Accuracy: 38550.0/50000 (77.10%)\n",
            "\n",
            "\n",
            "Test set: Average loss: 0.0039, Accuracy: 41350/50000 (82.70%)\n",
            "\n",
            "Epoch:  30 Learning Rate:  0.010000000000000002\n",
            "\n",
            "Train set: Average loss: 0.6056, Accuracy: 39183.0/50000 (78.37%)\n",
            "\n",
            "\n",
            "Test set: Average loss: 0.0031, Accuracy: 43064/50000 (86.13%)\n",
            "\n",
            "Epoch:  31 Learning Rate:  0.010000000000000002\n",
            "\n",
            "Train set: Average loss: 0.7244, Accuracy: 39592.0/50000 (79.18%)\n",
            "\n",
            "\n",
            "Test set: Average loss: 0.0030, Accuracy: 43290/50000 (86.58%)\n",
            "\n",
            "Epoch:  32 Learning Rate:  0.010000000000000002\n",
            "\n",
            "Train set: Average loss: 0.4572, Accuracy: 40046.0/50000 (80.09%)\n",
            "\n",
            "\n",
            "Test set: Average loss: 0.0030, Accuracy: 43506/50000 (87.01%)\n",
            "\n",
            "Epoch:  33 Learning Rate:  0.010000000000000002\n",
            "\n",
            "Train set: Average loss: 0.7087, Accuracy: 40061.0/50000 (80.12%)\n",
            "\n",
            "\n",
            "Test set: Average loss: 0.0029, Accuracy: 43613/50000 (87.23%)\n",
            "\n",
            "Epoch:  34 Learning Rate:  0.010000000000000002\n",
            "\n",
            "Train set: Average loss: 0.5716, Accuracy: 40257.0/50000 (80.51%)\n",
            "\n",
            "\n",
            "Test set: Average loss: 0.0029, Accuracy: 43708/50000 (87.42%)\n",
            "\n",
            "Epoch:  35 Learning Rate:  0.010000000000000002\n",
            "\n",
            "Train set: Average loss: 0.3064, Accuracy: 40209.0/50000 (80.42%)\n",
            "\n",
            "\n",
            "Test set: Average loss: 0.0029, Accuracy: 43670/50000 (87.34%)\n",
            "\n",
            "Epoch:  36 Learning Rate:  0.010000000000000002\n",
            "\n",
            "Train set: Average loss: 0.5632, Accuracy: 40358.0/50000 (80.72%)\n",
            "\n",
            "\n",
            "Test set: Average loss: 0.0028, Accuracy: 43825/50000 (87.65%)\n",
            "\n",
            "Epoch:  37 Learning Rate:  0.010000000000000002\n",
            "\n",
            "Train set: Average loss: 0.5334, Accuracy: 40382.0/50000 (80.76%)\n",
            "\n",
            "\n",
            "Test set: Average loss: 0.0028, Accuracy: 43906/50000 (87.81%)\n",
            "\n",
            "Epoch:  38 Learning Rate:  0.010000000000000002\n",
            "\n",
            "Train set: Average loss: 0.4793, Accuracy: 40460.0/50000 (80.92%)\n",
            "\n",
            "\n",
            "Test set: Average loss: 0.0027, Accuracy: 43978/50000 (87.96%)\n",
            "\n",
            "Epoch:  39 Learning Rate:  0.010000000000000002\n",
            "\n",
            "Train set: Average loss: 0.5581, Accuracy: 40503.0/50000 (81.01%)\n",
            "\n",
            "\n",
            "Test set: Average loss: 0.0027, Accuracy: 44100/50000 (88.20%)\n",
            "\n",
            "Epoch:  40 Learning Rate:  0.010000000000000002\n",
            "\n",
            "Train set: Average loss: 0.4759, Accuracy: 40564.0/50000 (81.13%)\n",
            "\n",
            "\n",
            "Test set: Average loss: 0.0027, Accuracy: 44158/50000 (88.32%)\n",
            "\n",
            "Epoch:  41 Learning Rate:  0.010000000000000002\n",
            "\n",
            "Train set: Average loss: 0.5693, Accuracy: 40631.0/50000 (81.26%)\n",
            "\n",
            "\n",
            "Test set: Average loss: 0.0027, Accuracy: 44098/50000 (88.20%)\n",
            "\n",
            "Epoch:  42 Learning Rate:  0.010000000000000002\n",
            "\n",
            "Train set: Average loss: 0.4769, Accuracy: 40628.0/50000 (81.26%)\n",
            "\n",
            "\n",
            "Test set: Average loss: 0.0026, Accuracy: 44217/50000 (88.43%)\n",
            "\n",
            "Epoch:  43 Learning Rate:  0.010000000000000002\n",
            "\n",
            "Train set: Average loss: 0.6069, Accuracy: 40611.0/50000 (81.22%)\n",
            "\n",
            "\n",
            "Test set: Average loss: 0.0026, Accuracy: 44279/50000 (88.56%)\n",
            "\n",
            "Epoch:  44 Learning Rate:  0.010000000000000002\n",
            "\n",
            "Train set: Average loss: 0.5412, Accuracy: 40748.0/50000 (81.50%)\n",
            "\n",
            "\n",
            "Test set: Average loss: 0.0025, Accuracy: 44402/50000 (88.80%)\n",
            "\n",
            "Epoch:  45 Learning Rate:  0.010000000000000002\n",
            "\n",
            "Train set: Average loss: 0.4279, Accuracy: 40831.0/50000 (81.66%)\n",
            "\n",
            "\n",
            "Test set: Average loss: 0.0025, Accuracy: 44430/50000 (88.86%)\n",
            "\n",
            "Finished Training\n"
          ]
        }
      ]
    },
    {
      "cell_type": "markdown",
      "source": [
        "## Test Model"
      ],
      "metadata": {
        "id": "DReP6rkRZTqv"
      }
    },
    {
      "cell_type": "code",
      "source": [
        "#import test function\n",
        "from testfns import test\n",
        "\n",
        "test(model, device, test_loader)"
      ],
      "metadata": {
        "id": "f5pzDtgJ7W29",
        "colab": {
          "base_uri": "https://localhost:8080/"
        },
        "outputId": "3e267c58-9e95-41d4-86fc-1d52e665db57"
      },
      "execution_count": null,
      "outputs": [
        {
          "output_type": "stream",
          "name": "stdout",
          "text": [
            "\n",
            "Test set: Average loss: 0.0025, Accuracy: 44430/50000 (88.86%)\n",
            "\n"
          ]
        },
        {
          "output_type": "execute_result",
          "data": {
            "text/plain": [
              "(0.0025282704731822013, 88.86)"
            ]
          },
          "metadata": {},
          "execution_count": 7
        }
      ]
    },
    {
      "cell_type": "markdown",
      "source": [
        "## Generate miss classified images and View"
      ],
      "metadata": {
        "id": "jIeVAUVEOuTh"
      }
    },
    {
      "cell_type": "code",
      "source": [
        "#import function to plot misclassified images: get_miss_classified(model, device, images, labels)\n",
        "from misclassified import get_miss_classified\n",
        "\n",
        "images, labels = next(iter(train_loader))\n",
        "images, targets, predictions = get_miss_classified(model, device, images, labels)\n",
        "\n",
        "#plot 10 misclassified images\n",
        "no_images = 10\n",
        "\n",
        "figure = plt.figure(figsize=(12, 5))\n",
        "\n",
        "for index in range(1, no_images + 1):\n",
        "    plt.subplot(2, 5, index)\n",
        "    imshow(images[index - 1])\n",
        "    plt.tick_params(left=False, right=False, labelleft=False,\n",
        "                    labelbottom=False, bottom=False)\n",
        "    title = \"Target:\" + str(classes[targets[index - 1]]) + \"\\nPredicted:\" + str(\n",
        "        classes[predictions[index - 1]])\n",
        "    plt.title(title)"
      ],
      "metadata": {
        "colab": {
          "base_uri": "https://localhost:8080/",
          "height": 326
        },
        "id": "xqJvsSlEOxRk",
        "outputId": "4a39a682-7c15-4a4e-f129-e4a46489ff53"
      },
      "execution_count": null,
      "outputs": [
        {
          "output_type": "display_data",
          "data": {
            "text/plain": [
              "<Figure size 864x360 with 10 Axes>"
            ],
            "image/png": "[encoded data removed]"
          },
          "metadata": {}
        }
      ]
    },
    {
      "cell_type": "markdown",
      "source": [
        "# Miss-classification by class"
      ],
      "metadata": {
        "id": "6hW50f-kv0wF"
      }
    },
    {
      "cell_type": "code",
      "source": [
        "#import function to calculate misclassifications getFractionsMissed(model, device, test_loader)\n",
        "\n",
        "from misclassified import getFractionsMissed\n",
        "\n",
        "x = getFractionsMissed(model, device, test_loader)\n",
        "print(x)\n",
        "print(classes)\n",
        "\n"
      ],
      "metadata": {
        "colab": {
          "base_uri": "https://localhost:8080/"
        },
        "id": "mjSVhT1yxc6b",
        "outputId": "b14cd8fb-9d69-41a8-9af8-db3f6d5f86db"
      },
      "execution_count": null,
      "outputs": [
        {
          "output_type": "stream",
          "name": "stdout",
          "text": [
            "{0: 0.0808, 1: 0.0352, 2: 0.1706, 3: 0.2606, 4: 0.1208, 5: 0.2166, 6: 0.0638, 7: 0.071, 8: 0.044, 9: 0.0506}\n",
            "('plane', 'car', 'bird', 'cat', 'deer', 'dog', 'frog', 'horse', 'ship', 'truck')\n"
          ]
        }
      ]
    },
    {
      "cell_type": "code",
      "source": [
        "import matplotlib.pyplot as plt\n",
        "\n",
        "plt.bar(range(len(x)), list(x.values()), align='center')\n",
        "plt.xticks(range(len(x)), list(classes))\n",
        "plt.title(\"Misclassification percentages\")\n",
        "plt.show()"
      ],
      "metadata": {
        "colab": {
          "base_uri": "https://localhost:8080/",
          "height": 281
        },
        "id": "q760wzV7DSbw",
        "outputId": "1b36ea87-0b9c-4475-fe65-58c0e0df67ab"
      },
      "execution_count": null,
      "outputs": [
        {
          "output_type": "display_data",
          "data": {
            "text/plain": [
              "<Figure size 432x288 with 1 Axes>"
            ],
            "image/png": "[encoded data removed]"
          },
          "metadata": {
            "needs_background": "light"
          }
        }
      ]
    }
  ]
}