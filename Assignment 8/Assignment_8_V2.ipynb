{
  "nbformat": 4,
  "nbformat_minor": 0,
  "metadata": {
    "colab": {
      "provenance": [],
      "include_colab_link": true
    },
    "kernelspec": {
      "name": "python3",
      "display_name": "Python 3"
    },
    "language_info": {
      "name": "python"
    },
    "accelerator": "GPU",
    "gpuClass": "premium",
    "widgets": {
      "application/vnd.jupyter.widget-state+json": {
        "5e33931de56042f4867695e3cb4f63b9": {
          "model_module": "@jupyter-widgets/controls",
          "model_name": "HBoxModel",
          "model_module_version": "1.5.0",
          "state": {
            "_dom_classes": [],
            "_model_module": "@jupyter-widgets/controls",
            "_model_module_version": "1.5.0",
            "_model_name": "HBoxModel",
            "_view_count": null,
            "_view_module": "@jupyter-widgets/controls",
            "_view_module_version": "1.5.0",
            "_view_name": "HBoxView",
            "box_style": "",
            "children": [
              "IPY_MODEL_1be77d525c9b487fb04d78e3eeb5f3cb",
              "IPY_MODEL_aaefdd74d4b3483b812cfbc79d82ab3c",
              "IPY_MODEL_f4e1278602084d2eb9042a31daa4b065"
            ],
            "layout": "IPY_MODEL_a562b31fecf042fc8b6ba1ba3bb59ca2"
          }
        },
        "1be77d525c9b487fb04d78e3eeb5f3cb": {
          "model_module": "@jupyter-widgets/controls",
          "model_name": "HTMLModel",
          "model_module_version": "1.5.0",
          "state": {
            "_dom_classes": [],
            "_model_module": "@jupyter-widgets/controls",
            "_model_module_version": "1.5.0",
            "_model_name": "HTMLModel",
            "_view_count": null,
            "_view_module": "@jupyter-widgets/controls",
            "_view_module_version": "1.5.0",
            "_view_name": "HTMLView",
            "description": "",
            "description_tooltip": null,
            "layout": "IPY_MODEL_ef87ef29ba58433b8c254660d0adbc78",
            "placeholder": "​",
            "style": "IPY_MODEL_a89c52ade6064a4489360eeea990e50f",
            "value": "100%"
          }
        },
        "aaefdd74d4b3483b812cfbc79d82ab3c": {
          "model_module": "@jupyter-widgets/controls",
          "model_name": "FloatProgressModel",
          "model_module_version": "1.5.0",
          "state": {
            "_dom_classes": [],
            "_model_module": "@jupyter-widgets/controls",
            "_model_module_version": "1.5.0",
            "_model_name": "FloatProgressModel",
            "_view_count": null,
            "_view_module": "@jupyter-widgets/controls",
            "_view_module_version": "1.5.0",
            "_view_name": "ProgressView",
            "bar_style": "success",
            "description": "",
            "description_tooltip": null,
            "layout": "IPY_MODEL_af431b899bb24aa9a80363aab054c0ac",
            "max": 170498071,
            "min": 0,
            "orientation": "horizontal",
            "style": "IPY_MODEL_def6ca6cb6ad4d3b9ef85f461ec1588a",
            "value": 170498071
          }
        },
        "f4e1278602084d2eb9042a31daa4b065": {
          "model_module": "@jupyter-widgets/controls",
          "model_name": "HTMLModel",
          "model_module_version": "1.5.0",
          "state": {
            "_dom_classes": [],
            "_model_module": "@jupyter-widgets/controls",
            "_model_module_version": "1.5.0",
            "_model_name": "HTMLModel",
            "_view_count": null,
            "_view_module": "@jupyter-widgets/controls",
            "_view_module_version": "1.5.0",
            "_view_name": "HTMLView",
            "description": "",
            "description_tooltip": null,
            "layout": "IPY_MODEL_c82cd908f1a94a279f0caafdadb1d907",
            "placeholder": "​",
            "style": "IPY_MODEL_440f040b33524b7f8415f481baa121e2",
            "value": " 170498071/170498071 [00:02&lt;00:00, 87258838.62it/s]"
          }
        },
        "a562b31fecf042fc8b6ba1ba3bb59ca2": {
          "model_module": "@jupyter-widgets/base",
          "model_name": "LayoutModel",
          "model_module_version": "1.2.0",
          "state": {
            "_model_module": "@jupyter-widgets/base",
            "_model_module_version": "1.2.0",
            "_model_name": "LayoutModel",
            "_view_count": null,
            "_view_module": "@jupyter-widgets/base",
            "_view_module_version": "1.2.0",
            "_view_name": "LayoutView",
            "align_content": null,
            "align_items": null,
            "align_self": null,
            "border": null,
            "bottom": null,
            "display": null,
            "flex": null,
            "flex_flow": null,
            "grid_area": null,
            "grid_auto_columns": null,
            "grid_auto_flow": null,
            "grid_auto_rows": null,
            "grid_column": null,
            "grid_gap": null,
            "grid_row": null,
            "grid_template_areas": null,
            "grid_template_columns": null,
            "grid_template_rows": null,
            "height": null,
            "justify_content": null,
            "justify_items": null,
            "left": null,
            "margin": null,
            "max_height": null,
            "max_width": null,
            "min_height": null,
            "min_width": null,
            "object_fit": null,
            "object_position": null,
            "order": null,
            "overflow": null,
            "overflow_x": null,
            "overflow_y": null,
            "padding": null,
            "right": null,
            "top": null,
            "visibility": null,
            "width": null
          }
        },
        "ef87ef29ba58433b8c254660d0adbc78": {
          "model_module": "@jupyter-widgets/base",
          "model_name": "LayoutModel",
          "model_module_version": "1.2.0",
          "state": {
            "_model_module": "@jupyter-widgets/base",
            "_model_module_version": "1.2.0",
            "_model_name": "LayoutModel",
            "_view_count": null,
            "_view_module": "@jupyter-widgets/base",
            "_view_module_version": "1.2.0",
            "_view_name": "LayoutView",
            "align_content": null,
            "align_items": null,
            "align_self": null,
            "border": null,
            "bottom": null,
            "display": null,
            "flex": null,
            "flex_flow": null,
            "grid_area": null,
            "grid_auto_columns": null,
            "grid_auto_flow": null,
            "grid_auto_rows": null,
            "grid_column": null,
            "grid_gap": null,
            "grid_row": null,
            "grid_template_areas": null,
            "grid_template_columns": null,
            "grid_template_rows": null,
            "height": null,
            "justify_content": null,
            "justify_items": null,
            "left": null,
            "margin": null,
            "max_height": null,
            "max_width": null,
            "min_height": null,
            "min_width": null,
            "object_fit": null,
            "object_position": null,
            "order": null,
            "overflow": null,
            "overflow_x": null,
            "overflow_y": null,
            "padding": null,
            "right": null,
            "top": null,
            "visibility": null,
            "width": null
          }
        },
        "a89c52ade6064a4489360eeea990e50f": {
          "model_module": "@jupyter-widgets/controls",
          "model_name": "DescriptionStyleModel",
          "model_module_version": "1.5.0",
          "state": {
            "_model_module": "@jupyter-widgets/controls",
            "_model_module_version": "1.5.0",
            "_model_name": "DescriptionStyleModel",
            "_view_count": null,
            "_view_module": "@jupyter-widgets/base",
            "_view_module_version": "1.2.0",
            "_view_name": "StyleView",
            "description_width": ""
          }
        },
        "af431b899bb24aa9a80363aab054c0ac": {
          "model_module": "@jupyter-widgets/base",
          "model_name": "LayoutModel",
          "model_module_version": "1.2.0",
          "state": {
            "_model_module": "@jupyter-widgets/base",
            "_model_module_version": "1.2.0",
            "_model_name": "LayoutModel",
            "_view_count": null,
            "_view_module": "@jupyter-widgets/base",
            "_view_module_version": "1.2.0",
            "_view_name": "LayoutView",
            "align_content": null,
            "align_items": null,
            "align_self": null,
            "border": null,
            "bottom": null,
            "display": null,
            "flex": null,
            "flex_flow": null,
            "grid_area": null,
            "grid_auto_columns": null,
            "grid_auto_flow": null,
            "grid_auto_rows": null,
            "grid_column": null,
            "grid_gap": null,
            "grid_row": null,
            "grid_template_areas": null,
            "grid_template_columns": null,
            "grid_template_rows": null,
            "height": null,
            "justify_content": null,
            "justify_items": null,
            "left": null,
            "margin": null,
            "max_height": null,
            "max_width": null,
            "min_height": null,
            "min_width": null,
            "object_fit": null,
            "object_position": null,
            "order": null,
            "overflow": null,
            "overflow_x": null,
            "overflow_y": null,
            "padding": null,
            "right": null,
            "top": null,
            "visibility": null,
            "width": null
          }
        },
        "def6ca6cb6ad4d3b9ef85f461ec1588a": {
          "model_module": "@jupyter-widgets/controls",
          "model_name": "ProgressStyleModel",
          "model_module_version": "1.5.0",
          "state": {
            "_model_module": "@jupyter-widgets/controls",
            "_model_module_version": "1.5.0",
            "_model_name": "ProgressStyleModel",
            "_view_count": null,
            "_view_module": "@jupyter-widgets/base",
            "_view_module_version": "1.2.0",
            "_view_name": "StyleView",
            "bar_color": null,
            "description_width": ""
          }
        },
        "c82cd908f1a94a279f0caafdadb1d907": {
          "model_module": "@jupyter-widgets/base",
          "model_name": "LayoutModel",
          "model_module_version": "1.2.0",
          "state": {
            "_model_module": "@jupyter-widgets/base",
            "_model_module_version": "1.2.0",
            "_model_name": "LayoutModel",
            "_view_count": null,
            "_view_module": "@jupyter-widgets/base",
            "_view_module_version": "1.2.0",
            "_view_name": "LayoutView",
            "align_content": null,
            "align_items": null,
            "align_self": null,
            "border": null,
            "bottom": null,
            "display": null,
            "flex": null,
            "flex_flow": null,
            "grid_area": null,
            "grid_auto_columns": null,
            "grid_auto_flow": null,
            "grid_auto_rows": null,
            "grid_column": null,
            "grid_gap": null,
            "grid_row": null,
            "grid_template_areas": null,
            "grid_template_columns": null,
            "grid_template_rows": null,
            "height": null,
            "justify_content": null,
            "justify_items": null,
            "left": null,
            "margin": null,
            "max_height": null,
            "max_width": null,
            "min_height": null,
            "min_width": null,
            "object_fit": null,
            "object_position": null,
            "order": null,
            "overflow": null,
            "overflow_x": null,
            "overflow_y": null,
            "padding": null,
            "right": null,
            "top": null,
            "visibility": null,
            "width": null
          }
        },
        "440f040b33524b7f8415f481baa121e2": {
          "model_module": "@jupyter-widgets/controls",
          "model_name": "DescriptionStyleModel",
          "model_module_version": "1.5.0",
          "state": {
            "_model_module": "@jupyter-widgets/controls",
            "_model_module_version": "1.5.0",
            "_model_name": "DescriptionStyleModel",
            "_view_count": null,
            "_view_module": "@jupyter-widgets/base",
            "_view_module_version": "1.2.0",
            "_view_name": "StyleView",
            "description_width": ""
          }
        },
        "572070d1cb1c47f18e2a27bdb7bea986": {
          "model_module": "@jupyter-widgets/controls",
          "model_name": "HBoxModel",
          "model_module_version": "1.5.0",
          "state": {
            "_dom_classes": [],
            "_model_module": "@jupyter-widgets/controls",
            "_model_module_version": "1.5.0",
            "_model_name": "HBoxModel",
            "_view_count": null,
            "_view_module": "@jupyter-widgets/controls",
            "_view_module_version": "1.5.0",
            "_view_name": "HBoxView",
            "box_style": "",
            "children": [
              "IPY_MODEL_595964840390481f84fe407fe85e635b",
              "IPY_MODEL_f771089c4870485bb075e95a2b4fff37",
              "IPY_MODEL_e528c985603d42938a8ab194ab0a91ea"
            ],
            "layout": "IPY_MODEL_3129afd3ea954447a4c497af27a4456b"
          }
        },
        "595964840390481f84fe407fe85e635b": {
          "model_module": "@jupyter-widgets/controls",
          "model_name": "HTMLModel",
          "model_module_version": "1.5.0",
          "state": {
            "_dom_classes": [],
            "_model_module": "@jupyter-widgets/controls",
            "_model_module_version": "1.5.0",
            "_model_name": "HTMLModel",
            "_view_count": null,
            "_view_module": "@jupyter-widgets/controls",
            "_view_module_version": "1.5.0",
            "_view_name": "HTMLView",
            "description": "",
            "description_tooltip": null,
            "layout": "IPY_MODEL_e0a2c40c318f4dad847374676e3c1fa7",
            "placeholder": "​",
            "style": "IPY_MODEL_7e7e9f935b404f2c883ffd36b07be56f",
            "value": " 97%"
          }
        },
        "f771089c4870485bb075e95a2b4fff37": {
          "model_module": "@jupyter-widgets/controls",
          "model_name": "FloatProgressModel",
          "model_module_version": "1.5.0",
          "state": {
            "_dom_classes": [],
            "_model_module": "@jupyter-widgets/controls",
            "_model_module_version": "1.5.0",
            "_model_name": "FloatProgressModel",
            "_view_count": null,
            "_view_module": "@jupyter-widgets/controls",
            "_view_module_version": "1.5.0",
            "_view_name": "ProgressView",
            "bar_style": "danger",
            "description": "",
            "description_tooltip": null,
            "layout": "IPY_MODEL_863bc8f037414a09828725d718b996fc",
            "max": 100,
            "min": 0,
            "orientation": "horizontal",
            "style": "IPY_MODEL_7ab81e13f67e4a959ba2e3fb970d6aee",
            "value": 97
          }
        },
        "e528c985603d42938a8ab194ab0a91ea": {
          "model_module": "@jupyter-widgets/controls",
          "model_name": "HTMLModel",
          "model_module_version": "1.5.0",
          "state": {
            "_dom_classes": [],
            "_model_module": "@jupyter-widgets/controls",
            "_model_module_version": "1.5.0",
            "_model_name": "HTMLModel",
            "_view_count": null,
            "_view_module": "@jupyter-widgets/controls",
            "_view_module_version": "1.5.0",
            "_view_name": "HTMLView",
            "description": "",
            "description_tooltip": null,
            "layout": "IPY_MODEL_560d8cc9692c4b5082316cff84358be0",
            "placeholder": "​",
            "style": "IPY_MODEL_4f5b96f865384ccd87ff24db3a7594e9",
            "value": " 97/100 [00:05&lt;00:00, 17.23it/s]"
          }
        },
        "3129afd3ea954447a4c497af27a4456b": {
          "model_module": "@jupyter-widgets/base",
          "model_name": "LayoutModel",
          "model_module_version": "1.2.0",
          "state": {
            "_model_module": "@jupyter-widgets/base",
            "_model_module_version": "1.2.0",
            "_model_name": "LayoutModel",
            "_view_count": null,
            "_view_module": "@jupyter-widgets/base",
            "_view_module_version": "1.2.0",
            "_view_name": "LayoutView",
            "align_content": null,
            "align_items": null,
            "align_self": null,
            "border": null,
            "bottom": null,
            "display": null,
            "flex": null,
            "flex_flow": null,
            "grid_area": null,
            "grid_auto_columns": null,
            "grid_auto_flow": null,
            "grid_auto_rows": null,
            "grid_column": null,
            "grid_gap": null,
            "grid_row": null,
            "grid_template_areas": null,
            "grid_template_columns": null,
            "grid_template_rows": null,
            "height": null,
            "justify_content": null,
            "justify_items": null,
            "left": null,
            "margin": null,
            "max_height": null,
            "max_width": null,
            "min_height": null,
            "min_width": null,
            "object_fit": null,
            "object_position": null,
            "order": null,
            "overflow": null,
            "overflow_x": null,
            "overflow_y": null,
            "padding": null,
            "right": null,
            "top": null,
            "visibility": null,
            "width": null
          }
        },
        "e0a2c40c318f4dad847374676e3c1fa7": {
          "model_module": "@jupyter-widgets/base",
          "model_name": "LayoutModel",
          "model_module_version": "1.2.0",
          "state": {
            "_model_module": "@jupyter-widgets/base",
            "_model_module_version": "1.2.0",
            "_model_name": "LayoutModel",
            "_view_count": null,
            "_view_module": "@jupyter-widgets/base",
            "_view_module_version": "1.2.0",
            "_view_name": "LayoutView",
            "align_content": null,
            "align_items": null,
            "align_self": null,
            "border": null,
            "bottom": null,
            "display": null,
            "flex": null,
            "flex_flow": null,
            "grid_area": null,
            "grid_auto_columns": null,
            "grid_auto_flow": null,
            "grid_auto_rows": null,
            "grid_column": null,
            "grid_gap": null,
            "grid_row": null,
            "grid_template_areas": null,
            "grid_template_columns": null,
            "grid_template_rows": null,
            "height": null,
            "justify_content": null,
            "justify_items": null,
            "left": null,
            "margin": null,
            "max_height": null,
            "max_width": null,
            "min_height": null,
            "min_width": null,
            "object_fit": null,
            "object_position": null,
            "order": null,
            "overflow": null,
            "overflow_x": null,
            "overflow_y": null,
            "padding": null,
            "right": null,
            "top": null,
            "visibility": null,
            "width": null
          }
        },
        "7e7e9f935b404f2c883ffd36b07be56f": {
          "model_module": "@jupyter-widgets/controls",
          "model_name": "DescriptionStyleModel",
          "model_module_version": "1.5.0",
          "state": {
            "_model_module": "@jupyter-widgets/controls",
            "_model_module_version": "1.5.0",
            "_model_name": "DescriptionStyleModel",
            "_view_count": null,
            "_view_module": "@jupyter-widgets/base",
            "_view_module_version": "1.2.0",
            "_view_name": "StyleView",
            "description_width": ""
          }
        },
        "863bc8f037414a09828725d718b996fc": {
          "model_module": "@jupyter-widgets/base",
          "model_name": "LayoutModel",
          "model_module_version": "1.2.0",
          "state": {
            "_model_module": "@jupyter-widgets/base",
            "_model_module_version": "1.2.0",
            "_model_name": "LayoutModel",
            "_view_count": null,
            "_view_module": "@jupyter-widgets/base",
            "_view_module_version": "1.2.0",
            "_view_name": "LayoutView",
            "align_content": null,
            "align_items": null,
            "align_self": null,
            "border": null,
            "bottom": null,
            "display": null,
            "flex": null,
            "flex_flow": null,
            "grid_area": null,
            "grid_auto_columns": null,
            "grid_auto_flow": null,
            "grid_auto_rows": null,
            "grid_column": null,
            "grid_gap": null,
            "grid_row": null,
            "grid_template_areas": null,
            "grid_template_columns": null,
            "grid_template_rows": null,
            "height": null,
            "justify_content": null,
            "justify_items": null,
            "left": null,
            "margin": null,
            "max_height": null,
            "max_width": null,
            "min_height": null,
            "min_width": null,
            "object_fit": null,
            "object_position": null,
            "order": null,
            "overflow": null,
            "overflow_x": null,
            "overflow_y": null,
            "padding": null,
            "right": null,
            "top": null,
            "visibility": null,
            "width": null
          }
        },
        "7ab81e13f67e4a959ba2e3fb970d6aee": {
          "model_module": "@jupyter-widgets/controls",
          "model_name": "ProgressStyleModel",
          "model_module_version": "1.5.0",
          "state": {
            "_model_module": "@jupyter-widgets/controls",
            "_model_module_version": "1.5.0",
            "_model_name": "ProgressStyleModel",
            "_view_count": null,
            "_view_module": "@jupyter-widgets/base",
            "_view_module_version": "1.2.0",
            "_view_name": "StyleView",
            "bar_color": null,
            "description_width": ""
          }
        },
        "560d8cc9692c4b5082316cff84358be0": {
          "model_module": "@jupyter-widgets/base",
          "model_name": "LayoutModel",
          "model_module_version": "1.2.0",
          "state": {
            "_model_module": "@jupyter-widgets/base",
            "_model_module_version": "1.2.0",
            "_model_name": "LayoutModel",
            "_view_count": null,
            "_view_module": "@jupyter-widgets/base",
            "_view_module_version": "1.2.0",
            "_view_name": "LayoutView",
            "align_content": null,
            "align_items": null,
            "align_self": null,
            "border": null,
            "bottom": null,
            "display": null,
            "flex": null,
            "flex_flow": null,
            "grid_area": null,
            "grid_auto_columns": null,
            "grid_auto_flow": null,
            "grid_auto_rows": null,
            "grid_column": null,
            "grid_gap": null,
            "grid_row": null,
            "grid_template_areas": null,
            "grid_template_columns": null,
            "grid_template_rows": null,
            "height": null,
            "justify_content": null,
            "justify_items": null,
            "left": null,
            "margin": null,
            "max_height": null,
            "max_width": null,
            "min_height": null,
            "min_width": null,
            "object_fit": null,
            "object_position": null,
            "order": null,
            "overflow": null,
            "overflow_x": null,
            "overflow_y": null,
            "padding": null,
            "right": null,
            "top": null,
            "visibility": null,
            "width": null
          }
        },
        "4f5b96f865384ccd87ff24db3a7594e9": {
          "model_module": "@jupyter-widgets/controls",
          "model_name": "DescriptionStyleModel",
          "model_module_version": "1.5.0",
          "state": {
            "_model_module": "@jupyter-widgets/controls",
            "_model_module_version": "1.5.0",
            "_model_name": "DescriptionStyleModel",
            "_view_count": null,
            "_view_module": "@jupyter-widgets/base",
            "_view_module_version": "1.2.0",
            "_view_name": "StyleView",
            "description_width": ""
          }
        }
      }
    }
  },
  "cells": [
    {
      "cell_type": "markdown",
      "metadata": {
        "id": "view-in-github",
        "colab_type": "text"
      },
      "source": [
        "<a href=\"https://colab.research.google.com/github/nitingarg2015/EVA8/blob/master/Assignment%208/Assignment_8_V2.ipynb\" target=\"_parent\"><img src=\"https://colab.research.google.com/assets/colab-badge.svg\" alt=\"Open In Colab\"/></a>"
      ]
    },
    {
      "cell_type": "markdown",
      "source": [
        "## Install required libraries/ packages"
      ],
      "metadata": {
        "id": "NmpyMqhMrD65"
      }
    },
    {
      "cell_type": "code",
      "execution_count": null,
      "metadata": {
        "id": "InFJa1m8hwd1"
      },
      "outputs": [],
      "source": [
        "\n",
        "from __future__ import print_function\n",
        "import torch\n",
        "import torch.nn as nn\n",
        "import torch.nn.functional as F\n",
        "import torch.optim as optim\n",
        "from torchvision import datasets, transforms\n",
        "import torchvision\n",
        "from torch.optim.lr_scheduler import StepLR # Import your choice of scheduler here\n",
        "import albumentations as A\n",
        "from albumentations.pytorch import ToTensorV2\n",
        "\n",
        "%matplotlib inline\n",
        "from torch.utils.data import DataLoader\n"
      ]
    },
    {
      "cell_type": "code",
      "source": [
        "#install torchsummary and torch-lr-finder if required\n",
        "\n",
        "try:\n",
        "    from torchsummary import summary\n",
        "except ImportError:\n",
        "    !pip install torchsummary\n",
        "    from torchsummary import summary\n",
        "\n",
        "try:\n",
        "    from torch_lr_finder import LRFinder, TrainDataLoaderIter, ValDataLoaderIter\n",
        "except ImportError:\n",
        "    !pip install torch-lr-finder\n",
        "    from torch_lr_finder import LRFinder\n",
        "\n",
        "!pip install grad-cam\n",
        "\n",
        "use_cuda = torch.cuda.is_available()\n",
        "device = torch.device(\"cuda\" if use_cuda else \"cpu\")"
      ],
      "metadata": {
        "colab": {
          "base_uri": "https://localhost:8080/"
        },
        "id": "dswEkM7ZrKo0",
        "outputId": "2673c1a2-9c19-4124-b8a1-cface4cdceb0"
      },
      "execution_count": null,
      "outputs": [
        {
          "output_type": "stream",
          "name": "stdout",
          "text": [
            "Looking in indexes: https://pypi.org/simple, https://us-python.pkg.dev/colab-wheels/public/simple/\n",
            "Requirement already satisfied: grad-cam in /usr/local/lib/python3.8/dist-packages (1.4.6)\n",
            "Requirement already satisfied: numpy in /usr/local/lib/python3.8/dist-packages (from grad-cam) (1.21.6)\n",
            "Requirement already satisfied: opencv-python in /usr/local/lib/python3.8/dist-packages (from grad-cam) (4.6.0.66)\n",
            "Requirement already satisfied: scikit-learn in /usr/local/lib/python3.8/dist-packages (from grad-cam) (1.0.2)\n",
            "Requirement already satisfied: tqdm in /usr/local/lib/python3.8/dist-packages (from grad-cam) (4.64.1)\n",
            "Requirement already satisfied: Pillow in /usr/local/lib/python3.8/dist-packages (from grad-cam) (7.1.2)\n",
            "Requirement already satisfied: ttach in /usr/local/lib/python3.8/dist-packages (from grad-cam) (0.0.3)\n",
            "Requirement already satisfied: matplotlib in /usr/local/lib/python3.8/dist-packages (from grad-cam) (3.2.2)\n",
            "Requirement already satisfied: torch>=1.7.1 in /usr/local/lib/python3.8/dist-packages (from grad-cam) (1.13.1+cu116)\n",
            "Requirement already satisfied: torchvision>=0.8.2 in /usr/local/lib/python3.8/dist-packages (from grad-cam) (0.14.1+cu116)\n",
            "Requirement already satisfied: typing-extensions in /usr/local/lib/python3.8/dist-packages (from torch>=1.7.1->grad-cam) (4.5.0)\n",
            "Requirement already satisfied: requests in /usr/local/lib/python3.8/dist-packages (from torchvision>=0.8.2->grad-cam) (2.25.1)\n",
            "Requirement already satisfied: pyparsing!=2.0.4,!=2.1.2,!=2.1.6,>=2.0.1 in /usr/local/lib/python3.8/dist-packages (from matplotlib->grad-cam) (3.0.9)\n",
            "Requirement already satisfied: cycler>=0.10 in /usr/local/lib/python3.8/dist-packages (from matplotlib->grad-cam) (0.11.0)\n",
            "Requirement already satisfied: kiwisolver>=1.0.1 in /usr/local/lib/python3.8/dist-packages (from matplotlib->grad-cam) (1.4.4)\n",
            "Requirement already satisfied: python-dateutil>=2.1 in /usr/local/lib/python3.8/dist-packages (from matplotlib->grad-cam) (2.8.2)\n",
            "Requirement already satisfied: joblib>=0.11 in /usr/local/lib/python3.8/dist-packages (from scikit-learn->grad-cam) (1.2.0)\n",
            "Requirement already satisfied: scipy>=1.1.0 in /usr/local/lib/python3.8/dist-packages (from scikit-learn->grad-cam) (1.7.3)\n",
            "Requirement already satisfied: threadpoolctl>=2.0.0 in /usr/local/lib/python3.8/dist-packages (from scikit-learn->grad-cam) (3.1.0)\n",
            "Requirement already satisfied: six>=1.5 in /usr/local/lib/python3.8/dist-packages (from python-dateutil>=2.1->matplotlib->grad-cam) (1.15.0)\n",
            "Requirement already satisfied: idna<3,>=2.5 in /usr/local/lib/python3.8/dist-packages (from requests->torchvision>=0.8.2->grad-cam) (2.10)\n",
            "Requirement already satisfied: chardet<5,>=3.0.2 in /usr/local/lib/python3.8/dist-packages (from requests->torchvision>=0.8.2->grad-cam) (4.0.0)\n",
            "Requirement already satisfied: urllib3<1.27,>=1.21.1 in /usr/local/lib/python3.8/dist-packages (from requests->torchvision>=0.8.2->grad-cam) (1.24.3)\n",
            "Requirement already satisfied: certifi>=2017.4.17 in /usr/local/lib/python3.8/dist-packages (from requests->torchvision>=0.8.2->grad-cam) (2022.12.7)\n"
          ]
        }
      ]
    },
    {
      "cell_type": "markdown",
      "source": [
        "## Clone model, utility and other files from Git repository"
      ],
      "metadata": {
        "id": "9z3btxPX8KN5"
      }
    },
    {
      "cell_type": "code",
      "source": [
        "!git clone  https://github.com/nitingarg2015/Refs.git"
      ],
      "metadata": {
        "id": "0dVfzbTOqK9J",
        "colab": {
          "base_uri": "https://localhost:8080/"
        },
        "outputId": "c3800753-4b30-4265-e561-2cf5aad13560"
      },
      "execution_count": null,
      "outputs": [
        {
          "output_type": "stream",
          "name": "stdout",
          "text": [
            "Cloning into 'Refs'...\n",
            "remote: Enumerating objects: 74, done.\u001b[K\n",
            "remote: Counting objects: 100% (74/74), done.\u001b[K\n",
            "remote: Compressing objects: 100% (49/49), done.\u001b[K\n",
            "remote: Total 74 (delta 39), reused 57 (delta 24), pack-reused 0\u001b[K\n",
            "Unpacking objects: 100% (74/74), 17.48 KiB | 1.03 MiB/s, done.\n"
          ]
        }
      ]
    },
    {
      "cell_type": "markdown",
      "source": [
        "## Import and load Resnet18 model"
      ],
      "metadata": {
        "id": "AWXgbm1J8R__"
      }
    },
    {
      "cell_type": "code",
      "source": [
        "from Refs.models import custom_resnet\n",
        "\n",
        "model = custom_resnet.cusResNet(dropout = 0.1)\n",
        "model"
      ],
      "metadata": {
        "id": "R3kZkzQDzjqP",
        "colab": {
          "base_uri": "https://localhost:8080/"
        },
        "outputId": "26c7fd7a-ead1-4061-e9d7-a8cde522ff3e"
      },
      "execution_count": null,
      "outputs": [
        {
          "output_type": "execute_result",
          "data": {
            "text/plain": [
              "CustomResNet(\n",
              "  (conv): ConvBlock(\n",
              "    (conv): Conv2d(3, 64, kernel_size=(3, 3), stride=(1, 1), padding=(1, 1), bias=False)\n",
              "    (bn): BatchNorm2d(64, eps=1e-05, momentum=0.1, affine=True, track_running_stats=True)\n",
              "    (dropout): Dropout2d(p=0.1, inplace=False)\n",
              "  )\n",
              "  (layer1): LayeredBlock(\n",
              "    (transition_block): TransitionBlock(\n",
              "      (conv): Conv2d(64, 128, kernel_size=(3, 3), stride=(1, 1), padding=(1, 1), bias=False)\n",
              "      (max_pool): MaxPool2d(kernel_size=2, stride=2, padding=0, dilation=1, ceil_mode=False)\n",
              "      (bn): BatchNorm2d(128, eps=1e-05, momentum=0.1, affine=True, track_running_stats=True)\n",
              "      (dropout): Dropout2d(p=0.1, inplace=False)\n",
              "    )\n",
              "    (convb1): ConvBlock(\n",
              "      (conv): Conv2d(128, 128, kernel_size=(3, 3), stride=(1, 1), padding=(1, 1), bias=False)\n",
              "      (bn): BatchNorm2d(128, eps=1e-05, momentum=0.1, affine=True, track_running_stats=True)\n",
              "      (dropout): Dropout2d(p=0.1, inplace=False)\n",
              "    )\n",
              "    (convb2): ConvBlock(\n",
              "      (conv): Conv2d(128, 128, kernel_size=(3, 3), stride=(1, 1), padding=(1, 1), bias=False)\n",
              "      (bn): BatchNorm2d(128, eps=1e-05, momentum=0.1, affine=True, track_running_stats=True)\n",
              "      (dropout): Dropout2d(p=0.1, inplace=False)\n",
              "    )\n",
              "  )\n",
              "  (layer2): TransitionBlock(\n",
              "    (conv): Conv2d(128, 256, kernel_size=(3, 3), stride=(1, 1), padding=(1, 1), bias=False)\n",
              "    (max_pool): MaxPool2d(kernel_size=2, stride=2, padding=0, dilation=1, ceil_mode=False)\n",
              "    (bn): BatchNorm2d(256, eps=1e-05, momentum=0.1, affine=True, track_running_stats=True)\n",
              "    (dropout): Dropout2d(p=0.1, inplace=False)\n",
              "  )\n",
              "  (layer3): LayeredBlock(\n",
              "    (transition_block): TransitionBlock(\n",
              "      (conv): Conv2d(256, 512, kernel_size=(3, 3), stride=(1, 1), padding=(1, 1), bias=False)\n",
              "      (max_pool): MaxPool2d(kernel_size=2, stride=2, padding=0, dilation=1, ceil_mode=False)\n",
              "      (bn): BatchNorm2d(512, eps=1e-05, momentum=0.1, affine=True, track_running_stats=True)\n",
              "      (dropout): Dropout2d(p=0.1, inplace=False)\n",
              "    )\n",
              "    (convb1): ConvBlock(\n",
              "      (conv): Conv2d(512, 512, kernel_size=(3, 3), stride=(1, 1), padding=(1, 1), bias=False)\n",
              "      (bn): BatchNorm2d(512, eps=1e-05, momentum=0.1, affine=True, track_running_stats=True)\n",
              "      (dropout): Dropout2d(p=0.1, inplace=False)\n",
              "    )\n",
              "    (convb2): ConvBlock(\n",
              "      (conv): Conv2d(512, 512, kernel_size=(3, 3), stride=(1, 1), padding=(1, 1), bias=False)\n",
              "      (bn): BatchNorm2d(512, eps=1e-05, momentum=0.1, affine=True, track_running_stats=True)\n",
              "      (dropout): Dropout2d(p=0.1, inplace=False)\n",
              "    )\n",
              "  )\n",
              "  (max_pool): MaxPool2d(kernel_size=4, stride=4, padding=0, dilation=1, ceil_mode=False)\n",
              "  (linear): Linear(in_features=512, out_features=10, bias=True)\n",
              ")"
            ]
          },
          "metadata": {},
          "execution_count": 4
        }
      ]
    },
    {
      "cell_type": "code",
      "source": [
        "summary(model.to(device), input_size=(3, 32, 32))"
      ],
      "metadata": {
        "colab": {
          "base_uri": "https://localhost:8080/"
        },
        "id": "JR0DXCFBrSn2",
        "outputId": "d95f9ecd-7ed9-4fc8-b9d3-f070d2d16ec5"
      },
      "execution_count": null,
      "outputs": [
        {
          "output_type": "stream",
          "name": "stdout",
          "text": [
            "----------------------------------------------------------------\n",
            "        Layer (type)               Output Shape         Param #\n",
            "================================================================\n",
            "            Conv2d-1           [-1, 64, 32, 32]           1,728\n",
            "       BatchNorm2d-2           [-1, 64, 32, 32]             128\n",
            "         Dropout2d-3           [-1, 64, 32, 32]               0\n",
            "         ConvBlock-4           [-1, 64, 32, 32]               0\n",
            "            Conv2d-5          [-1, 128, 32, 32]          73,728\n",
            "         MaxPool2d-6          [-1, 128, 16, 16]               0\n",
            "       BatchNorm2d-7          [-1, 128, 16, 16]             256\n",
            "         Dropout2d-8          [-1, 128, 16, 16]               0\n",
            "   TransitionBlock-9          [-1, 128, 16, 16]               0\n",
            "           Conv2d-10          [-1, 128, 16, 16]         147,456\n",
            "      BatchNorm2d-11          [-1, 128, 16, 16]             256\n",
            "        Dropout2d-12          [-1, 128, 16, 16]               0\n",
            "        ConvBlock-13          [-1, 128, 16, 16]               0\n",
            "           Conv2d-14          [-1, 128, 16, 16]         147,456\n",
            "      BatchNorm2d-15          [-1, 128, 16, 16]             256\n",
            "        Dropout2d-16          [-1, 128, 16, 16]               0\n",
            "        ConvBlock-17          [-1, 128, 16, 16]               0\n",
            "     LayeredBlock-18          [-1, 128, 16, 16]               0\n",
            "           Conv2d-19          [-1, 256, 16, 16]         294,912\n",
            "        MaxPool2d-20            [-1, 256, 8, 8]               0\n",
            "      BatchNorm2d-21            [-1, 256, 8, 8]             512\n",
            "        Dropout2d-22            [-1, 256, 8, 8]               0\n",
            "  TransitionBlock-23            [-1, 256, 8, 8]               0\n",
            "           Conv2d-24            [-1, 512, 8, 8]       1,179,648\n",
            "        MaxPool2d-25            [-1, 512, 4, 4]               0\n",
            "      BatchNorm2d-26            [-1, 512, 4, 4]           1,024\n",
            "        Dropout2d-27            [-1, 512, 4, 4]               0\n",
            "  TransitionBlock-28            [-1, 512, 4, 4]               0\n",
            "           Conv2d-29            [-1, 512, 4, 4]       2,359,296\n",
            "      BatchNorm2d-30            [-1, 512, 4, 4]           1,024\n",
            "        Dropout2d-31            [-1, 512, 4, 4]               0\n",
            "        ConvBlock-32            [-1, 512, 4, 4]               0\n",
            "           Conv2d-33            [-1, 512, 4, 4]       2,359,296\n",
            "      BatchNorm2d-34            [-1, 512, 4, 4]           1,024\n",
            "        Dropout2d-35            [-1, 512, 4, 4]               0\n",
            "        ConvBlock-36            [-1, 512, 4, 4]               0\n",
            "     LayeredBlock-37            [-1, 512, 4, 4]               0\n",
            "        MaxPool2d-38            [-1, 512, 1, 1]               0\n",
            "           Linear-39                   [-1, 10]           5,130\n",
            "================================================================\n",
            "Total params: 6,573,130\n",
            "Trainable params: 6,573,130\n",
            "Non-trainable params: 0\n",
            "----------------------------------------------------------------\n",
            "Input size (MB): 0.01\n",
            "Forward/backward pass size (MB): 8.32\n",
            "Params size (MB): 25.07\n",
            "Estimated Total Size (MB): 33.40\n",
            "----------------------------------------------------------------\n"
          ]
        }
      ]
    },
    {
      "cell_type": "markdown",
      "source": [
        "## Load CIFAR train and test data loaders"
      ],
      "metadata": {
        "id": "UwHVuGD98XIp"
      }
    },
    {
      "cell_type": "code",
      "source": [
        "#import load_CIFAR_dataloader\n",
        "\n",
        "from Refs.utils import CIFARdata \n",
        "\n",
        "#set batch size\n",
        "batch_size = 512\n",
        "\n",
        "#load training dataset\n",
        "classes, train_loader = CIFARdata.load_CIFAR_dataloader(train = True, transform = True, batch_size = batch_size)\n",
        "#load test dataset\n",
        "_, test_loader = CIFARdata.load_CIFAR_dataloader(train = False, transform = False, batch_size = batch_size)\n",
        "\n",
        "len(train_loader), len(test_loader)"
      ],
      "metadata": {
        "colab": {
          "base_uri": "https://localhost:8080/",
          "height": 122,
          "referenced_widgets": [
            "5e33931de56042f4867695e3cb4f63b9",
            "1be77d525c9b487fb04d78e3eeb5f3cb",
            "aaefdd74d4b3483b812cfbc79d82ab3c",
            "f4e1278602084d2eb9042a31daa4b065",
            "a562b31fecf042fc8b6ba1ba3bb59ca2",
            "ef87ef29ba58433b8c254660d0adbc78",
            "a89c52ade6064a4489360eeea990e50f",
            "af431b899bb24aa9a80363aab054c0ac",
            "def6ca6cb6ad4d3b9ef85f461ec1588a",
            "c82cd908f1a94a279f0caafdadb1d907",
            "440f040b33524b7f8415f481baa121e2"
          ]
        },
        "id": "0VMcTvau0fm-",
        "outputId": "1fab5f03-b922-4664-faf4-250caa9bfe1c"
      },
      "execution_count": null,
      "outputs": [
        {
          "output_type": "stream",
          "name": "stdout",
          "text": [
            "Downloading https://www.cs.toronto.edu/~kriz/cifar-10-python.tar.gz to ./data/cifar-10-python.tar.gz\n"
          ]
        },
        {
          "output_type": "display_data",
          "data": {
            "text/plain": [
              "  0%|          | 0/170498071 [00:00<?, ?it/s]"
            ],
            "application/vnd.jupyter.widget-view+json": {
              "version_major": 2,
              "version_minor": 0,
              "model_id": "5e33931de56042f4867695e3cb4f63b9"
            }
          },
          "metadata": {}
        },
        {
          "output_type": "stream",
          "name": "stdout",
          "text": [
            "Extracting ./data/cifar-10-python.tar.gz to ./data\n",
            "Files already downloaded and verified\n"
          ]
        },
        {
          "output_type": "execute_result",
          "data": {
            "text/plain": [
              "(98, 20)"
            ]
          },
          "metadata": {},
          "execution_count": 6
        }
      ]
    },
    {
      "cell_type": "markdown",
      "source": [
        "## View sample images"
      ],
      "metadata": {
        "id": "oAAbSR5Q8chq"
      }
    },
    {
      "cell_type": "code",
      "source": [
        "# get some random training images\n",
        "from Refs.utils import utils\n",
        "\n",
        "import matplotlib.pyplot as plt\n",
        "images, labels = next(iter(train_loader))\n",
        "\n",
        "no_images = 10\n",
        "\n",
        "figure = plt.figure(figsize=(12, 5))\n",
        "\n",
        "for index in range(1, no_images + 1):\n",
        "    plt.subplot(2, 5, index)\n",
        "    utils.imshow(images[index - 1])\n",
        "    plt.tick_params(left=False, right=False, labelleft=False,\n",
        "                    labelbottom=False, bottom=False)\n",
        "    title = str(classes[labels[index - 1]])\n",
        "    plt.title(title)\n"
      ],
      "metadata": {
        "colab": {
          "base_uri": "https://localhost:8080/",
          "height": 311
        },
        "id": "E4_twiD3dlt4",
        "outputId": "fbafcfd7-1452-4084-9423-c806069703da"
      },
      "execution_count": null,
      "outputs": [
        {
          "output_type": "display_data",
          "data": {
            "text/plain": [
              "<Figure size 864x360 with 10 Axes>"
            ],
            "image/png": "[encoded data removed]"
          },
          "metadata": {}
        }
      ]
    },
    {
      "cell_type": "markdown",
      "source": [
        "## Find Learning Rate Range"
      ],
      "metadata": {
        "id": "UA4aKg3bSebf"
      }
    },
    {
      "cell_type": "code",
      "source": [
        "#take deep copy of the model so that weights are not initialized\n",
        "import copy\n",
        "model = custom_resnet.cusResNet(dropout = 0.1).to(device)\n",
        "model_exp = copy.deepcopy(model)\n",
        "\n",
        "#load training dataset without transformations to find learning rate\n",
        "_ , loader_for_lr = CIFARdata.load_CIFAR_dataloader(train = True, transform = False, batch_size = batch_size)\n",
        "\n",
        "optimizer = torch.optim.SGD(model_exp.parameters(), lr=0.001, momentum=0.9)\n",
        "criterion = nn.CrossEntropyLoss()\n",
        "\n",
        "#apply find_lr function from utils and find min_ler_rate, max_ler_rate\n",
        "min_ler_rate, max_ler_rate = utils.find_lr(model = model_exp, optimizer = optimizer, \n",
        "                                  criterion = criterion, data_loader = loader_for_lr, device = device, end_lr = 0.1, num_iter = 200)\n",
        "\n",
        "#delete loader_for_lr as we dont need it later\n",
        "#del(loader_for_lr)"
      ],
      "metadata": {
        "id": "xJhG_2NaSpBO",
        "colab": {
          "base_uri": "https://localhost:8080/",
          "height": 485,
          "referenced_widgets": [
            "572070d1cb1c47f18e2a27bdb7bea986",
            "595964840390481f84fe407fe85e635b",
            "f771089c4870485bb075e95a2b4fff37",
            "e528c985603d42938a8ab194ab0a91ea",
            "3129afd3ea954447a4c497af27a4456b",
            "e0a2c40c318f4dad847374676e3c1fa7",
            "7e7e9f935b404f2c883ffd36b07be56f",
            "863bc8f037414a09828725d718b996fc",
            "7ab81e13f67e4a959ba2e3fb970d6aee",
            "560d8cc9692c4b5082316cff84358be0",
            "4f5b96f865384ccd87ff24db3a7594e9"
          ]
        },
        "outputId": "65099296-0797-40b2-b0bd-43bfd17fd4fc"
      },
      "execution_count": null,
      "outputs": [
        {
          "output_type": "stream",
          "name": "stdout",
          "text": [
            "Files already downloaded and verified\n"
          ]
        },
        {
          "output_type": "display_data",
          "data": {
            "text/plain": [
              "  0%|          | 0/100 [00:00<?, ?it/s]"
            ],
            "application/vnd.jupyter.widget-view+json": {
              "version_major": 2,
              "version_minor": 0,
              "model_id": "572070d1cb1c47f18e2a27bdb7bea986"
            }
          },
          "metadata": {}
        },
        {
          "output_type": "stream",
          "name": "stderr",
          "text": [
            "/content/Refs/models/custom_resnet.py:76: UserWarning: Implicit dimension choice for log_softmax has been deprecated. Change the call to include dim=X as an argument.\n",
            "  return F.log_softmax(out)\n"
          ]
        },
        {
          "output_type": "stream",
          "name": "stdout",
          "text": [
            "Stopping early, the loss has diverged\n",
            "Learning rate search finished. See the graph with {finder_name}.plot()\n",
            "LR suggestion: steepest gradient\n",
            "Suggested LR: 4.64E-01\n"
          ]
        },
        {
          "output_type": "display_data",
          "data": {
            "text/plain": [
              "<Figure size 432x288 with 1 Axes>"
            ],
            "image/png": "[encoded data removed]"
          },
          "metadata": {
            "needs_background": "light"
          }
        },
        {
          "output_type": "stream",
          "name": "stdout",
          "text": [
            "Max LR is 0.010235310218990263\n"
          ]
        }
      ]
    },
    {
      "cell_type": "markdown",
      "source": [
        "## Train model for 20 Epochs with CIFAR train data loader"
      ],
      "metadata": {
        "id": "XoVDIbQ-8frV"
      }
    },
    {
      "cell_type": "code",
      "source": [
        "from Refs import main_ass8\n",
        "\n",
        "optimizer = torch.optim.SGD(model.parameters(), lr=min_ler_rate, momentum=0.9,weight_decay=0.01)\n",
        "\n",
        "scheduler = torch.optim.lr_scheduler.OneCycleLR(optimizer, \n",
        "                                                max_lr=max_ler_rate,\n",
        "                                                steps_per_epoch=len(train_loader), \n",
        "                                                epochs=24,\n",
        "                                                pct_start=0.15,\n",
        "                                                div_factor=10,\n",
        "                                                three_phase=False, \n",
        "                                                #final_div_factor=1000,\n",
        "                                                anneal_strategy='linear'\n",
        "                                                ) \n",
        "\n",
        "model_tr, train_losses, train_acc_all, test_losses, test_acc_all = main_ass8.fit_model(\n",
        "                                                    model=model, \n",
        "                                                    device=device,\n",
        "                                                    trainloader=train_loader, \n",
        "                                                    testloader=test_loader,\n",
        "                                                    criterion = nn.CrossEntropyLoss(),\n",
        "                                                    EPOCHS=24,\n",
        "                                                    optimizer=optimizer,\n",
        "                                                    scheduler=scheduler  \n",
        "                                                )"
      ],
      "metadata": {
        "id": "SUd6NdGF4o2g",
        "colab": {
          "base_uri": "https://localhost:8080/"
        },
        "outputId": "ea4ea031-b6f9-4ac1-d108-0008a53beea7"
      },
      "execution_count": null,
      "outputs": [
        {
          "output_type": "stream",
          "name": "stdout",
          "text": [
            "EPOCH: 1 (LR: 0.0010235310218990263)\n"
          ]
        },
        {
          "output_type": "stream",
          "name": "stderr",
          "text": [
            "100%|██████████| 98/98 [00:12<00:00,  8.12it/s]\n"
          ]
        },
        {
          "output_type": "stream",
          "name": "stdout",
          "text": [
            "\n",
            "Average Training Loss=0.0025447156047821045, Accuracy=53.18\n",
            "Test set: Average loss: 0.0021, Accuracy: 6338/10000 (63.38%)\n",
            "\n",
            "EPOCH: 2 (LR: 0.0035896321057959594)\n"
          ]
        },
        {
          "output_type": "stream",
          "name": "stderr",
          "text": [
            "100%|██████████| 98/98 [00:12<00:00,  8.12it/s]\n"
          ]
        },
        {
          "output_type": "stream",
          "name": "stdout",
          "text": [
            "\n",
            "Average Training Loss=0.002316136511564255, Accuracy=57.912\n",
            "Test set: Average loss: 0.0017, Accuracy: 6974/10000 (69.74%)\n",
            "\n",
            "EPOCH: 3 (LR: 0.0061557331896928925)\n"
          ]
        },
        {
          "output_type": "stream",
          "name": "stderr",
          "text": [
            "100%|██████████| 98/98 [00:11<00:00,  8.18it/s]\n"
          ]
        },
        {
          "output_type": "stream",
          "name": "stdout",
          "text": [
            "\n",
            "Average Training Loss=0.00205073184132576, Accuracy=62.86\n",
            "Test set: Average loss: 0.0015, Accuracy: 7308/10000 (73.08%)\n",
            "\n",
            "EPOCH: 4 (LR: 0.008721834273589826)\n"
          ]
        },
        {
          "output_type": "stream",
          "name": "stderr",
          "text": [
            "100%|██████████| 98/98 [00:12<00:00,  8.14it/s]\n"
          ]
        },
        {
          "output_type": "stream",
          "name": "stdout",
          "text": [
            "\n",
            "Average Training Loss=0.0018422309899330139, Accuracy=66.786\n",
            "Test set: Average loss: 0.0015, Accuracy: 7342/10000 (73.42%)\n",
            "\n",
            "EPOCH: 5 (LR: 0.010029500216885071)\n"
          ]
        },
        {
          "output_type": "stream",
          "name": "stderr",
          "text": [
            "100%|██████████| 98/98 [00:12<00:00,  8.16it/s]\n"
          ]
        },
        {
          "output_type": "stream",
          "name": "stdout",
          "text": [
            "\n",
            "Average Training Loss=0.001653599933385849, Accuracy=70.424\n",
            "Test set: Average loss: 0.0012, Accuracy: 7914/10000 (79.14%)\n",
            "\n",
            "EPOCH: 6 (LR: 0.009527774341106243)\n"
          ]
        },
        {
          "output_type": "stream",
          "name": "stderr",
          "text": [
            "100%|██████████| 98/98 [00:12<00:00,  8.13it/s]\n"
          ]
        },
        {
          "output_type": "stream",
          "name": "stdout",
          "text": [
            "\n",
            "Average Training Loss=0.0015090514969825744, Accuracy=72.974\n",
            "Test set: Average loss: 0.0011, Accuracy: 8029/10000 (80.29%)\n",
            "\n",
            "EPOCH: 7 (LR: 0.009026048465327416)\n"
          ]
        },
        {
          "output_type": "stream",
          "name": "stderr",
          "text": [
            "100%|██████████| 98/98 [00:12<00:00,  8.09it/s]\n"
          ]
        },
        {
          "output_type": "stream",
          "name": "stdout",
          "text": [
            "\n",
            "Average Training Loss=0.001397789202928543, Accuracy=75.008\n",
            "Test set: Average loss: 0.0010, Accuracy: 8278/10000 (82.78%)\n",
            "\n",
            "EPOCH: 8 (LR: 0.00852432258954859)\n"
          ]
        },
        {
          "output_type": "stream",
          "name": "stderr",
          "text": [
            "100%|██████████| 98/98 [00:12<00:00,  8.13it/s]\n"
          ]
        },
        {
          "output_type": "stream",
          "name": "stdout",
          "text": [
            "\n",
            "Average Training Loss=0.0013098850047588348, Accuracy=76.744\n",
            "Test set: Average loss: 0.0010, Accuracy: 8272/10000 (82.72%)\n",
            "\n",
            "EPOCH: 9 (LR: 0.008022596713769762)\n"
          ]
        },
        {
          "output_type": "stream",
          "name": "stderr",
          "text": [
            "100%|██████████| 98/98 [00:11<00:00,  8.20it/s]\n"
          ]
        },
        {
          "output_type": "stream",
          "name": "stdout",
          "text": [
            "\n",
            "Average Training Loss=0.0012333616828918456, Accuracy=78.182\n",
            "Test set: Average loss: 0.0009, Accuracy: 8451/10000 (84.51%)\n",
            "\n",
            "EPOCH: 10 (LR: 0.007520870837990934)\n"
          ]
        },
        {
          "output_type": "stream",
          "name": "stderr",
          "text": [
            "100%|██████████| 98/98 [00:11<00:00,  8.18it/s]\n"
          ]
        },
        {
          "output_type": "stream",
          "name": "stdout",
          "text": [
            "\n",
            "Average Training Loss=0.0011687320828437805, Accuracy=79.392\n",
            "Test set: Average loss: 0.0009, Accuracy: 8411/10000 (84.11%)\n",
            "\n",
            "EPOCH: 11 (LR: 0.0070191449622121075)\n"
          ]
        },
        {
          "output_type": "stream",
          "name": "stderr",
          "text": [
            "100%|██████████| 98/98 [00:11<00:00,  8.20it/s]\n"
          ]
        },
        {
          "output_type": "stream",
          "name": "stdout",
          "text": [
            "\n",
            "Average Training Loss=0.001121018452644348, Accuracy=80.016\n",
            "Test set: Average loss: 0.0009, Accuracy: 8431/10000 (84.31%)\n",
            "\n",
            "EPOCH: 12 (LR: 0.006517419086433281)\n"
          ]
        },
        {
          "output_type": "stream",
          "name": "stderr",
          "text": [
            "100%|██████████| 98/98 [00:12<00:00,  8.14it/s]\n"
          ]
        },
        {
          "output_type": "stream",
          "name": "stdout",
          "text": [
            "\n",
            "Average Training Loss=0.0010747299724817277, Accuracy=81.016\n",
            "Test set: Average loss: 0.0009, Accuracy: 8547/10000 (85.47%)\n",
            "\n",
            "EPOCH: 13 (LR: 0.006015693210654454)\n"
          ]
        },
        {
          "output_type": "stream",
          "name": "stderr",
          "text": [
            "100%|██████████| 98/98 [00:12<00:00,  8.15it/s]\n"
          ]
        },
        {
          "output_type": "stream",
          "name": "stdout",
          "text": [
            "\n",
            "Average Training Loss=0.0010432277262210847, Accuracy=81.628\n",
            "Test set: Average loss: 0.0008, Accuracy: 8552/10000 (85.52%)\n",
            "\n",
            "EPOCH: 14 (LR: 0.005513967334875626)\n"
          ]
        },
        {
          "output_type": "stream",
          "name": "stderr",
          "text": [
            "100%|██████████| 98/98 [00:12<00:00,  8.14it/s]\n"
          ]
        },
        {
          "output_type": "stream",
          "name": "stdout",
          "text": [
            "\n",
            "Average Training Loss=0.000978697737455368, Accuracy=82.77\n",
            "Test set: Average loss: 0.0008, Accuracy: 8645/10000 (86.45%)\n",
            "\n",
            "EPOCH: 15 (LR: 0.005012241459096799)\n"
          ]
        },
        {
          "output_type": "stream",
          "name": "stderr",
          "text": [
            "100%|██████████| 98/98 [00:11<00:00,  8.18it/s]\n"
          ]
        },
        {
          "output_type": "stream",
          "name": "stdout",
          "text": [
            "\n",
            "Average Training Loss=0.0009630336737632752, Accuracy=83.254\n",
            "Test set: Average loss: 0.0008, Accuracy: 8567/10000 (85.67%)\n",
            "\n",
            "EPOCH: 16 (LR: 0.004510515583317972)\n"
          ]
        },
        {
          "output_type": "stream",
          "name": "stderr",
          "text": [
            "100%|██████████| 98/98 [00:12<00:00,  8.13it/s]\n"
          ]
        },
        {
          "output_type": "stream",
          "name": "stdout",
          "text": [
            "\n",
            "Average Training Loss=0.000920785408616066, Accuracy=83.968\n",
            "Test set: Average loss: 0.0007, Accuracy: 8764/10000 (87.64%)\n",
            "\n",
            "EPOCH: 17 (LR: 0.004008789707539146)\n"
          ]
        },
        {
          "output_type": "stream",
          "name": "stderr",
          "text": [
            "100%|██████████| 98/98 [00:11<00:00,  8.20it/s]\n"
          ]
        },
        {
          "output_type": "stream",
          "name": "stdout",
          "text": [
            "\n",
            "Average Training Loss=0.0008909003794193268, Accuracy=84.476\n",
            "Test set: Average loss: 0.0007, Accuracy: 8870/10000 (88.70%)\n",
            "\n",
            "EPOCH: 18 (LR: 0.003507063831760318)\n"
          ]
        },
        {
          "output_type": "stream",
          "name": "stderr",
          "text": [
            "100%|██████████| 98/98 [00:12<00:00,  8.14it/s]\n"
          ]
        },
        {
          "output_type": "stream",
          "name": "stdout",
          "text": [
            "\n",
            "Average Training Loss=0.0008534041714668274, Accuracy=85.164\n",
            "Test set: Average loss: 0.0007, Accuracy: 8856/10000 (88.56%)\n",
            "\n",
            "EPOCH: 19 (LR: 0.0030053379559814913)\n"
          ]
        },
        {
          "output_type": "stream",
          "name": "stderr",
          "text": [
            "100%|██████████| 98/98 [00:11<00:00,  8.17it/s]\n"
          ]
        },
        {
          "output_type": "stream",
          "name": "stdout",
          "text": [
            "\n",
            "Average Training Loss=0.0008192600011825562, Accuracy=86.064\n",
            "Test set: Average loss: 0.0006, Accuracy: 8948/10000 (89.48%)\n",
            "\n",
            "EPOCH: 20 (LR: 0.0025036120802026636)\n"
          ]
        },
        {
          "output_type": "stream",
          "name": "stderr",
          "text": [
            "100%|██████████| 98/98 [00:12<00:00,  8.15it/s]\n"
          ]
        },
        {
          "output_type": "stream",
          "name": "stdout",
          "text": [
            "\n",
            "Average Training Loss=0.0007884468841552735, Accuracy=86.46\n",
            "Test set: Average loss: 0.0006, Accuracy: 8977/10000 (89.77%)\n",
            "\n",
            "EPOCH: 21 (LR: 0.002001886204423837)\n"
          ]
        },
        {
          "output_type": "stream",
          "name": "stderr",
          "text": [
            "100%|██████████| 98/98 [00:11<00:00,  8.20it/s]\n"
          ]
        },
        {
          "output_type": "stream",
          "name": "stdout",
          "text": [
            "\n",
            "Average Training Loss=0.0007657243478298187, Accuracy=87.028\n",
            "Test set: Average loss: 0.0006, Accuracy: 8995/10000 (89.95%)\n",
            "\n",
            "EPOCH: 22 (LR: 0.0015001603286450092)\n"
          ]
        },
        {
          "output_type": "stream",
          "name": "stderr",
          "text": [
            "100%|██████████| 98/98 [00:12<00:00,  8.08it/s]\n"
          ]
        },
        {
          "output_type": "stream",
          "name": "stdout",
          "text": [
            "\n",
            "Average Training Loss=0.0007312930846214295, Accuracy=87.508\n",
            "Test set: Average loss: 0.0006, Accuracy: 9064/10000 (90.64%)\n",
            "\n",
            "EPOCH: 23 (LR: 0.0009984344528661815)\n"
          ]
        },
        {
          "output_type": "stream",
          "name": "stderr",
          "text": [
            "100%|██████████| 98/98 [00:11<00:00,  8.18it/s]\n"
          ]
        },
        {
          "output_type": "stream",
          "name": "stdout",
          "text": [
            "\n",
            "Average Training Loss=0.0006882813000679016, Accuracy=88.336\n",
            "Test set: Average loss: 0.0005, Accuracy: 9076/10000 (90.76%)\n",
            "\n",
            "EPOCH: 24 (LR: 0.0004967085770873556)\n"
          ]
        },
        {
          "output_type": "stream",
          "name": "stderr",
          "text": [
            "100%|██████████| 98/98 [00:12<00:00,  8.06it/s]\n"
          ]
        },
        {
          "output_type": "stream",
          "name": "stdout",
          "text": [
            "\n",
            "Average Training Loss=0.000660424411892891, Accuracy=88.948\n",
            "Test set: Average loss: 0.0005, Accuracy: 9099/10000 (90.99%)\n",
            "\n"
          ]
        }
      ]
    },
    {
      "cell_type": "markdown",
      "source": [
        "## Plot training/ test Accuracy and Loss"
      ],
      "metadata": {
        "id": "nswjIktIn_1u"
      }
    },
    {
      "cell_type": "code",
      "source": [
        "from Refs.utils import utils\n",
        "\n",
        "utils.plot_LossAndAcc(train_acc_all, train_losses,test_acc_all,test_losses)"
      ],
      "metadata": {
        "colab": {
          "base_uri": "https://localhost:8080/",
          "height": 404
        },
        "id": "Q5pFFH_6oEmv",
        "outputId": "89eed328-98d4-4733-8bbe-1e41fe54c10b"
      },
      "execution_count": null,
      "outputs": [
        {
          "output_type": "display_data",
          "data": {
            "text/plain": [
              "<Figure size 1080x432 with 2 Axes>"
            ],
            "image/png": "[encoded data removed]"
          },
          "metadata": {
            "needs_background": "light"
          }
        }
      ]
    },
    {
      "cell_type": "markdown",
      "source": [
        "## Test Accuracy"
      ],
      "metadata": {
        "id": "N7JpEbsiMV1B"
      }
    },
    {
      "cell_type": "code",
      "source": [
        "from Refs import main_ass8\n",
        "\n",
        "main_ass8.test(model, device, test_loader)"
      ],
      "metadata": {
        "colab": {
          "base_uri": "https://localhost:8080/"
        },
        "id": "MJ_h1UTl-stq",
        "outputId": "120a2e6c-a0f9-403f-c5a8-16acf10c8bf2"
      },
      "execution_count": null,
      "outputs": [
        {
          "output_type": "stream",
          "name": "stderr",
          "text": [
            "/content/Refs/models/custom_resnet.py:76: UserWarning: Implicit dimension choice for log_softmax has been deprecated. Change the call to include dim=X as an argument.\n",
            "  return F.log_softmax(out)\n"
          ]
        },
        {
          "output_type": "stream",
          "name": "stdout",
          "text": [
            "\n",
            "Test set: Average loss: 0.0005, Accuracy: 9099/10000 (90.99%)\n",
            "\n"
          ]
        },
        {
          "output_type": "execute_result",
          "data": {
            "text/plain": [
              "(0.0005341573268175126, 90.99)"
            ]
          },
          "metadata": {},
          "execution_count": 28
        }
      ]
    },
    {
      "cell_type": "markdown",
      "source": [
        "## Retrieve data for misclassified images"
      ],
      "metadata": {
        "id": "B2E0a7-uciyO"
      }
    },
    {
      "cell_type": "code",
      "source": [
        "from Refs.utils import utils\n",
        "\n",
        "data_images, pred_labels, target_labels = utils.get_mis_classified_byloader(model, device, test_loader)\n",
        "print(len(data_images), len(pred_labels), len(target_labels))"
      ],
      "metadata": {
        "id": "5F2xVtBSZGII",
        "colab": {
          "base_uri": "https://localhost:8080/"
        },
        "outputId": "37e0f253-2306-40cb-fa4a-4adb3141bda2"
      },
      "execution_count": null,
      "outputs": [
        {
          "output_type": "stream",
          "name": "stdout",
          "text": [
            "901 901 901\n"
          ]
        }
      ]
    },
    {
      "cell_type": "markdown",
      "source": [
        "## Plot mis classified images"
      ],
      "metadata": {
        "id": "Adwzn7joMD9u"
      }
    },
    {
      "cell_type": "code",
      "source": [
        "import matplotlib.pyplot as plt\n",
        "from Refs.utils import utils\n",
        "        \n",
        "utils.plot_misclassified(data_images, target_labels, pred_labels, classes, no_images= 10)"
      ],
      "metadata": {
        "colab": {
          "base_uri": "https://localhost:8080/",
          "height": 326
        },
        "id": "yOXgNUaC_HMK",
        "outputId": "7c1ba07e-8b94-4b45-e05d-83f0da4f5cc3"
      },
      "execution_count": null,
      "outputs": [
        {
          "output_type": "display_data",
          "data": {
            "text/plain": [
              "<Figure size 864x360 with 10 Axes>"
            ],
            "image/png": "[encoded data removed]"
          },
          "metadata": {}
        }
      ]
    },
    {
      "cell_type": "markdown",
      "source": [
        "## Gradcam"
      ],
      "metadata": {
        "id": "53h1eUdrMBqP"
      }
    },
    {
      "cell_type": "code",
      "source": [
        "from Refs.utils import gradcam\n",
        "\n",
        "gradcam.plot_grad_images(model, [model.layer3], data_images[:10], pred_labels[:10], target_labels[:10], list(range(10)), classes)"
      ],
      "metadata": {
        "colab": {
          "base_uri": "https://localhost:8080/",
          "height": 399
        },
        "id": "8-fZd7n5p-U0",
        "outputId": "a8df1c96-79da-4fe6-8c0b-35811bd8b100"
      },
      "execution_count": null,
      "outputs": [
        {
          "output_type": "stream",
          "name": "stderr",
          "text": [
            "/content/Refs/models/custom_resnet.py:76: UserWarning: Implicit dimension choice for log_softmax has been deprecated. Change the call to include dim=X as an argument.\n",
            "  return F.log_softmax(out)\n"
          ]
        },
        {
          "output_type": "display_data",
          "data": {
            "text/plain": [
              "<Figure size 864x360 with 10 Axes>"
            ],
            "image/png": "[encoded data removed]"
          },
          "metadata": {
            "needs_background": "light"
          }
        }
      ]
    }
  ]
}
